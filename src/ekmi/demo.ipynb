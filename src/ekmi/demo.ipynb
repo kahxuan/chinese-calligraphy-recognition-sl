{
 "cells": [
  {
   "cell_type": "markdown",
   "id": "7b4d96bd",
   "metadata": {},
   "source": [
    "# Test translation"
   ]
  },
  {
   "cell_type": "code",
   "execution_count": 1,
   "id": "26acd455",
   "metadata": {},
   "outputs": [],
   "source": [
    "import ctypes\n",
    "import cv2\n",
    "import numpy as np\n",
    "import time"
   ]
  },
  {
   "cell_type": "code",
   "execution_count": 2,
   "id": "48824536",
   "metadata": {},
   "outputs": [],
   "source": [
    "ekmi = ctypes.cdll.LoadLibrary('./ekmi.so')\n",
    "_get_ekmi = ekmi.get_ekmi\n",
    "_get_ekmi.argtypes = [\n",
    "    ctypes.c_int, \n",
    "    np.ctypeslib.ndpointer(dtype=np.uintp, flags=\"C\", ndim=1), \n",
    "    ctypes.c_int,\n",
    "    ctypes.c_double\n",
    "]\n",
    "_get_ekmi.restype = ctypes.POINTER(ctypes.POINTER(ctypes.c_double))\n",
    "\n",
    "\n",
    "def get_ekmi(order, img, p):\n",
    "    \n",
    "    imgpp = (img.__array_interface__['data'][0] + np.arange(img.shape[0])* img.strides[0]).astype(np.uintp) \n",
    "    _res = _get_ekmi(order, imgpp, img.shape[0], p)\n",
    "\n",
    "    # copy array\n",
    "    res = np.zeros((order, order))\n",
    "    for i in range(order):\n",
    "        for j in range(order):\n",
    "            res[i, j] = _res[i][j]\n",
    "    ekmi.free_ekmi_rst() # free memory\n",
    "    return res"
   ]
  },
  {
   "cell_type": "code",
   "execution_count": 3,
   "id": "dd4a57ab",
   "metadata": {},
   "outputs": [
    {
     "name": "stdout",
     "output_type": "stream",
     "text": [
      "0.0019941329956054688\n",
      "0.0020530223846435547\n",
      "[[ 5.30000000e+01  2.73333333e+00 -2.95238095e-01 -7.69230769e-02\n",
      "  -1.98534799e-01 -1.04895105e-01]\n",
      " [-7.40000000e+00 -4.04444444e-01 -2.50793651e-01  1.66593407e-01\n",
      "   8.97191697e-02 -7.88322788e-02]\n",
      " [ 1.06380952e+01 -2.53333333e-01 -9.78684807e-02  2.75667190e-02\n",
      "  -1.88034188e-02 -8.99100899e-03]\n",
      " [-2.82857143e+00 -1.03589744e-01 -7.03924647e-02  4.54872600e-02\n",
      "   2.73928270e-02 -2.20431583e-02]\n",
      " [ 2.40952381e+00 -1.79877900e-01 -9.29565672e-02  9.63651733e-03\n",
      "   1.65932724e-02  1.30589801e-03]\n",
      " [-2.22111222e-01  8.01420801e-03  2.80893709e-02  8.55188767e-03\n",
      "  -6.45191195e-03 -5.34874161e-03]]\n",
      "[[ 5.30000000e+01 -1.84666667e+01  6.44761905e+00 -2.47252747e+00\n",
      "   9.67765568e-01 -2.80053280e-01]\n",
      " [-7.40000000e+00  2.55555556e+00 -1.17269841e+00  8.91868132e-01\n",
      "  -7.79633700e-01  5.82062382e-01]\n",
      " [ 1.06380952e+01 -4.50857143e+00  1.94294785e+00 -8.75709053e-01\n",
      "   4.10709925e-01 -1.97342340e-01]\n",
      " [-2.82857143e+00  1.02783883e+00 -4.66499215e-01  3.17715252e-01\n",
      "  -2.54557018e-01  1.82758633e-01]\n",
      " [ 2.40952381e+00 -1.14368742e+00  4.74285714e-01 -1.69630077e-01\n",
      "   6.02294409e-02 -3.53007188e-02]\n",
      " [-2.22111222e-01  9.68586969e-02 -1.68561597e-02 -7.03545539e-03\n",
      "   1.25125180e-03  8.43545399e-03]]\n"
     ]
    },
    {
     "data": {
      "text/plain": [
       "539.6029731295722"
      ]
     },
     "execution_count": 3,
     "metadata": {},
     "output_type": "execute_result"
    }
   ],
   "source": [
    "def ekmi_from_fname(fname):\n",
    "    p = 0.5\n",
    "    N = 16\n",
    "    tik = time.time()\n",
    "    order = 6\n",
    "\n",
    "    img = (cv2.imread(fname)[:, :, 0] == 255).astype('int32')\n",
    "    retval = get_ekmi(order, img, p)\n",
    "    tok = time.time()\n",
    "    print(tok - tik)\n",
    "    return retval\n",
    "\n",
    "k1 = ekmi_from_fname(\"/Users/kx/desktop/test/1_small.png\")\n",
    "k2 = ekmi_from_fname(\"/Users/kx/desktop/test/1_small_t.png\")\n",
    "print(k1)\n",
    "print(k2)\n",
    "sum(sum((k2 - k1) ** 2))"
   ]
  },
  {
   "cell_type": "markdown",
   "id": "50064504",
   "metadata": {},
   "source": [
    "___"
   ]
  },
  {
   "cell_type": "markdown",
   "id": "823ec6e0",
   "metadata": {},
   "source": [
    "# Test recognition"
   ]
  },
  {
   "cell_type": "code",
   "execution_count": 4,
   "id": "aa17f862",
   "metadata": {},
   "outputs": [],
   "source": [
    "import glob\n",
    "import os\n",
    "import matplotlib.pyplot as plt\n",
    "from tqdm.notebook import tqdm\n",
    "from sklearn.neighbors import KNeighborsClassifier\n",
    "from ikmi import *"
   ]
  },
  {
   "cell_type": "code",
   "execution_count": 19,
   "id": "5b9239a6",
   "metadata": {},
   "outputs": [],
   "source": [
    "order = 10\n",
    "p = 0.5"
   ]
  },
  {
   "cell_type": "code",
   "execution_count": 20,
   "id": "4a8a1ad7",
   "metadata": {},
   "outputs": [],
   "source": [
    "data_dir = '/Users/kx/Docs/github/git_cccr_sl/chinese-calligraphy-recognition-sl/data/shufadict/clean'\n",
    "chars = [x for x in os.listdir(data_dir) if x[0] != '.']\n",
    "N = 64\n",
    "nclass = 10\n",
    "sample_per_class = 10"
   ]
  },
  {
   "cell_type": "code",
   "execution_count": 21,
   "id": "8541dd39",
   "metadata": {},
   "outputs": [],
   "source": [
    "class_lookup = [None] * nclass\n",
    "data = np.zeros((nclass * sample_per_class, N, N), dtype='int32')\n",
    "label = np.zeros((nclass * sample_per_class), dtype='int')\n",
    "feature_ekmi = np.zeros((nclass * sample_per_class, order, order))\n",
    "feature_ikmi = np.zeros((nclass * sample_per_class, order, order))"
   ]
  },
  {
   "cell_type": "code",
   "execution_count": 22,
   "id": "3065aa18",
   "metadata": {},
   "outputs": [],
   "source": [
    "for i, char in enumerate(chars[:nclass]):\n",
    "    class_lookup[i] = char\n",
    "    fnames = glob.glob('{}/{}/*.png'.format(data_dir, char))[:sample_per_class]\n",
    "    for j, fname in enumerate(fnames):\n",
    "        img = cv2.imread(fname)\n",
    "        img = cv2.resize(img, (N, N))\n",
    "        img = (img[:, :, 0] > 0).astype('int32')\n",
    "        data[i * nclass + j, :, :] = img\n",
    "        label[i * nclass + j] = i"
   ]
  },
  {
   "cell_type": "code",
   "execution_count": 23,
   "id": "ed101d6f",
   "metadata": {
    "scrolled": true
   },
   "outputs": [
    {
     "data": {
      "application/vnd.jupyter.widget-view+json": {
       "model_id": "57ac66719c174bdaa9ed7c4204f9537c",
       "version_major": 2,
       "version_minor": 0
      },
      "text/plain": [
       "  0%|          | 0/100 [00:00<?, ?it/s]"
      ]
     },
     "metadata": {},
     "output_type": "display_data"
    }
   ],
   "source": [
    "for i in tqdm(range(nclass * sample_per_class)):\n",
    "    img = data[i, :, :]\n",
    "    feature_ekmi[i, :, :] = get_ekmi(order, img, p)\n",
    "    feature_ikmi[i, :, :] = wkrchkmoment_single(img)[0][:order, :order]"
   ]
  },
  {
   "cell_type": "code",
   "execution_count": 24,
   "id": "b683690b",
   "metadata": {},
   "outputs": [],
   "source": [
    "# todo: choose feature\n",
    "feature = feature_ekmi\n",
    "# feature = feature_ikmi"
   ]
  },
  {
   "cell_type": "code",
   "execution_count": 25,
   "id": "a1434344",
   "metadata": {},
   "outputs": [
    {
     "data": {
      "text/plain": [
       "(32175.572023013174, 17839.829326624033, 0.554452592602373)"
      ]
     },
     "execution_count": 25,
     "metadata": {},
     "output_type": "execute_result"
    }
   ],
   "source": [
    "same = sum(sum((feature[3] - feature[5]) ** 2))\n",
    "diff = sum(sum((feature[1] - feature[22]) ** 2))\n",
    "same, diff, diff / same"
   ]
  },
  {
   "cell_type": "code",
   "execution_count": 26,
   "id": "579b60af",
   "metadata": {},
   "outputs": [],
   "source": [
    "# (feature[1,:,:] * 100).round(2)"
   ]
  },
  {
   "cell_type": "code",
   "execution_count": 27,
   "id": "0747586b",
   "metadata": {},
   "outputs": [],
   "source": [
    "# (feature[30,:,:] * 100).round(2)"
   ]
  },
  {
   "cell_type": "code",
   "execution_count": 28,
   "id": "9b969119",
   "metadata": {},
   "outputs": [],
   "source": [
    "test_count = 2\n",
    "\n",
    "test_idxs = np.concatenate([[i * nclass + j for i in range(nclass)] for j in range(test_count)])\n",
    "test_idxs.sort()\n",
    "train_idxs = [x for x in range(feature.shape[0]) if x not in test_idxs]\n",
    "\n",
    "test = feature[test_idxs]\n",
    "test_label = label[test_idxs]\n",
    "test_feature = feature[test_idxs]\n",
    "\n",
    "train = feature[train_idxs]\n",
    "train_label = label[train_idxs]\n",
    "train_feature = feature[train_idxs]"
   ]
  },
  {
   "cell_type": "code",
   "execution_count": 29,
   "id": "fdd5cdc6",
   "metadata": {},
   "outputs": [],
   "source": [
    "X = train.reshape((train.shape[0], train.shape[1] * train.shape[2]))\n",
    "y = test.reshape((test.shape[0], test.shape[1] * test.shape[2]))"
   ]
  },
  {
   "cell_type": "code",
   "execution_count": 30,
   "id": "e5488a5d",
   "metadata": {
    "scrolled": true
   },
   "outputs": [
    {
     "data": {
      "text/plain": [
       "0.25"
      ]
     },
     "execution_count": 30,
     "metadata": {},
     "output_type": "execute_result"
    }
   ],
   "source": [
    "knn = KNeighborsClassifier(n_neighbors=5)\n",
    "knn.fit(X, train_label)\n",
    "sum(knn.predict(y) == test_label) / len(test_label)"
   ]
  },
  {
   "cell_type": "code",
   "execution_count": 74,
   "id": "001e6ff8",
   "metadata": {},
   "outputs": [],
   "source": [
    "# dist = np.zeros((train.shape[0], train.shape[0]))\n",
    "# for i in range(train.shape[0]):\n",
    "#     for j in range(train.shape[0]):\n",
    "#         dist[i, j] = sum(sum((feature[i, :, :] - feature[j, :, :]) ** 2))\n",
    "        \n",
    "# np.where((dist > 0) & (dist < 1))"
   ]
  },
  {
   "cell_type": "code",
   "execution_count": null,
   "id": "3418ad57",
   "metadata": {},
   "outputs": [],
   "source": []
  },
  {
   "cell_type": "code",
   "execution_count": null,
   "id": "b940bd49",
   "metadata": {},
   "outputs": [],
   "source": []
  }
 ],
 "metadata": {
  "kernelspec": {
   "display_name": "Python 3",
   "language": "python",
   "name": "python3"
  },
  "language_info": {
   "codemirror_mode": {
    "name": "ipython",
    "version": 3
   },
   "file_extension": ".py",
   "mimetype": "text/x-python",
   "name": "python",
   "nbconvert_exporter": "python",
   "pygments_lexer": "ipython3",
   "version": "3.9.5"
  }
 },
 "nbformat": 4,
 "nbformat_minor": 5
}
