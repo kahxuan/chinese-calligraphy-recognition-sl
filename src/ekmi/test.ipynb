{
 "cells": [
  {
   "cell_type": "code",
   "execution_count": 1,
   "id": "48cae869",
   "metadata": {},
   "outputs": [],
   "source": [
    "import scipy.special as sc\n",
    "import cv2\n",
    "import numpy as np\n",
    "from ikmi import *"
   ]
  },
  {
   "cell_type": "code",
   "execution_count": 2,
   "id": "75698261",
   "metadata": {},
   "outputs": [],
   "source": [
    "p = 0.5\n",
    "N = 16\n",
    "f = (cv2.imread(\"/Users/kx/desktop/1.png\")[:, :, 0] == 255).astype('uint8')"
   ]
  },
  {
   "cell_type": "code",
   "execution_count": 3,
   "id": "ead7df2b",
   "metadata": {},
   "outputs": [
    {
     "name": "stdout",
     "output_type": "stream",
     "text": [
      " 0 0.0000152587890625000000000000000000000000\n",
      " 1 0.0002441406250000000000000000000000000000\n",
      " 2 0.0018310546875000000000000000000000000000\n",
      "\n"
     ]
    }
   ],
   "source": [
    "p = 0.5\n",
    "N = 16\n",
    "f = (cv2.imread(\"/Users/kx/desktop/1.png\")[:, :, 0] == 255).astype('uint8')\n",
    "\n",
    "def w(x):\n",
    "    return sc.comb(N, x) * (p**x) * ((1 - p)**(N - x))\n",
    "size = 3\n",
    "memo_w = [None] * size\n",
    "for i in range(size):\n",
    "    memo_w[i] = w(i)\n",
    "    \n",
    "tmp = \"\"\n",
    "for i in range(size):\n",
    "    tmp += \"{:2d} {:1.40f}\\n\".format(i, memo_w[i])\n",
    "    \n",
    "print(tmp)"
   ]
  },
  {
   "cell_type": "code",
   "execution_count": 4,
   "id": "5a0a1722",
   "metadata": {},
   "outputs": [
    {
     "name": "stdout",
     "output_type": "stream",
     "text": [
      " 0 1.0000000000000000000000000000000000000000\n",
      " 1 0.0625000000000000000000000000000000000000\n",
      " 2 0.0083333333333333332176851016015461937059\n",
      "\n"
     ]
    }
   ],
   "source": [
    "p = 0.5\n",
    "N = 16\n",
    "f = (cv2.imread(\"/Users/kx/desktop/1.png\")[:, :, 0] == 255).astype('uint8')\n",
    "\n",
    "def rho(n):\n",
    "    return ((-1) ** n) * (((1 - p) / p) ** n) * sc.factorial(n) / sc.poch(-N, n)\n",
    "size = 3\n",
    "memo_rho = [None] * size\n",
    "for i in range(size):\n",
    "    memo_rho[i] = rho(i)\n",
    "    \n",
    "tmp = \"\"\n",
    "for i in range(size):\n",
    "    tmp += \"{:2d} {:1.40f}\\n\".format(i, memo_rho[i])\n",
    "    \n",
    "print(tmp)"
   ]
  },
  {
   "cell_type": "code",
   "execution_count": 302,
   "id": "1bc8df7d",
   "metadata": {},
   "outputs": [
    {
     "name": "stdout",
     "output_type": "stream",
     "text": [
      "1.0000 1.0000 1.0000 1.0000 1.0000 \n",
      "1.0000 0.8667 0.7333 0.6000 0.4667 \n",
      "1.0000 0.7333 0.5048 0.3143 0.1619 \n",
      "1.0000 0.6000 0.3143 0.1253 0.0154 \n",
      "1.0000 0.4667 0.1619 0.0154 -0.0315 \n",
      "\n"
     ]
    }
   ],
   "source": [
    "p = 0.5\n",
    "N = 16\n",
    "f = (cv2.imread(\"/Users/kx/desktop/1.png\")[:, :, 0] == 255).astype('uint8')\n",
    "\n",
    "def K(n, x):\n",
    "    retval = sc.hyp2f1(-n, -x, -N2, 1/p)\n",
    "    if np.isnan(retval):\n",
    "        retval = 0\n",
    "    return retval\n",
    "\n",
    "size = 5\n",
    "memo_K = [[None] * size for _ in range(size)]\n",
    "for i in range(size):\n",
    "    for j in range(size):\n",
    "        memo_K[i][j] = K(i, j)\n",
    "\n",
    "tmp = \"\"\n",
    "for i in range(size):\n",
    "    for j in range(size):\n",
    "        tmp += \"{:2.4f} \".format(memo_K[i][j])\n",
    "    tmp += '\\n'\n",
    "\n",
    "print(tmp)"
   ]
  },
  {
   "cell_type": "code",
   "execution_count": 252,
   "id": "0f29091f",
   "metadata": {},
   "outputs": [],
   "source": [
    "# p = 0.5\n",
    "# N = 16\n",
    "\n",
    "\n",
    "# pc = 1-p\n",
    "# pr = pc/p #1-p\n",
    "# x = np.array(range(0,N))\n",
    "\n",
    "# #declaring size of arrays.\n",
    "# w = np.zeros(N)\n",
    "# rho = np.zeros(N)\n",
    "# K = np.zeros((N,N))\n",
    "# A = np.zeros(N)\n",
    "# N=N-1 #Maximum power of the binomial function\n",
    "\n",
    "# #initializing starting values\n",
    "# w[0]=np.power(pc,N)\n",
    "# rho[0] = 1\n",
    "# K[0,:]=1\n",
    "# K[1,:]=1-x/(N*p)\n",
    "\n",
    "# for i in range(0,N-1):\n",
    "#     w[i+1] = w[i]*(N-i)*p/((i+1)*pc)\n",
    "#     rho[i+1] = 1/(-1*pr*(i+1)/(-N+i))*rho[i]\n",
    "#     K[i+2,:] = ((N*p+(i+1)*(1-2*p)-x)*K[i+1,:]-(i+1)*(1-p)*K[i,:])/(p*(N-i-1))\n",
    "\n",
    "# w[N]=w[N-1]*p/((N-1+1)*pc)\n",
    "# rho[N]=1/(pr*N)*rho[N-1]\n",
    "\n",
    "# Kr=K*np.outer(np.sqrt(rho),np.sqrt(w))"
   ]
  },
  {
   "cell_type": "code",
   "execution_count": 254,
   "id": "e1e737de",
   "metadata": {},
   "outputs": [],
   "source": [
    "import scipy.special as sc\n",
    "n = 5\n",
    "x = 6\n",
    "p = 0.5\n",
    "N = 16\n",
    "N2 = N - 1"
   ]
  },
  {
   "cell_type": "code",
   "execution_count": 261,
   "id": "a3abc421",
   "metadata": {},
   "outputs": [],
   "source": [
    "def poch_abs(n, k):\n",
    "    retval = sc.factorial(n) / sc.factorial(n - k)\n",
    "    return retval\n",
    "\n",
    "\n",
    "def stirling_unsigned(n, k):\n",
    "\n",
    "    if n == k:\n",
    "        retval = 1\n",
    "    elif k > n:\n",
    "        retval = 0\n",
    "    elif k == 1:\n",
    "        retval = sc.factorial(n - 1)\n",
    "    elif k == 0:\n",
    "        retval = 0\n",
    "    else:\n",
    "        a = stirling_unsigned(n - 1, k - 1)\n",
    "        b = stirling_unsigned(n - 1, k)\n",
    "        retval = a + (n - 1) * b\n",
    "    return retval \n",
    "\n",
    "\n",
    "def stirling_signed(n, k):\n",
    "    return (-1) ** (n - k) * stirling_unsigned(n, k)\n"
   ]
  },
  {
   "cell_type": "code",
   "execution_count": 257,
   "id": "8192a280",
   "metadata": {},
   "outputs": [
    {
     "data": {
      "text/plain": [
       "0.012987012987013158"
      ]
     },
     "execution_count": 257,
     "metadata": {},
     "output_type": "execute_result"
    }
   ],
   "source": [
    "res = 0\n",
    "for k in range(n + 1):\n",
    "    res += ((-1) ** k) * poch_abs(n, k) * poch_abs(x, k) / \\\n",
    "        ((p ** k) * poch_abs(N2, k) * sc.factorial(k))\n",
    "res"
   ]
  },
  {
   "cell_type": "code",
   "execution_count": 258,
   "id": "814ddb50",
   "metadata": {},
   "outputs": [
    {
     "data": {
      "text/plain": [
       "0.012987012987013213"
      ]
     },
     "execution_count": 258,
     "metadata": {},
     "output_type": "execute_result"
    }
   ],
   "source": [
    "res = 0\n",
    "for k in range(n + 1):\n",
    "    tmp = ((-1) ** k) * poch_abs(n, k) / \\\n",
    "        ((p ** k) * poch_abs(N2, k) * sc.factorial(k))\n",
    "    for i in range(k + 1):\n",
    "        res += tmp * stirling_signed(k, i) * (x ** i)\n",
    "#     res += tmp  * poch_abs(x, k)\n",
    "res"
   ]
  },
  {
   "cell_type": "code",
   "execution_count": 310,
   "id": "6495131c",
   "metadata": {},
   "outputs": [],
   "source": [
    "def stirling2_unsigned(n, k):\n",
    "    if n == k:\n",
    "        retval = 1\n",
    "    elif (k > n) or (k == 0):\n",
    "        retval = 0\n",
    "#     elif k == 1:\n",
    "#         retval = 1\n",
    "    else:\n",
    "        retval = k * stirling2_unsigned(n - 1, k) + stirling2_unsigned(n - 1, k - 1)\n",
    "    return retval "
   ]
  },
  {
   "cell_type": "code",
   "execution_count": 311,
   "id": "3e40d8a6",
   "metadata": {},
   "outputs": [
    {
     "name": "stdout",
     "output_type": "stream",
     "text": [
      "[1]\n",
      "[0, 1]\n",
      "[0, 1, 1]\n",
      "[0, 1, 3, 1]\n",
      "[0, 1, 7, 6, 1]\n",
      "[0, 1, 15, 25, 10, 1]\n",
      "[0, 1, 31, 90, 65, 15, 1]\n",
      "[0, 1, 63, 301, 350, 140, 21, 1]\n",
      "[0, 1, 127, 966, 1701, 1050, 266, 28, 1]\n",
      "[0, 1, 255, 3025, 7770, 6951, 2646, 462, 36, 1]\n"
     ]
    }
   ],
   "source": [
    "for i in range(10):\n",
    "    print([stirling2_unsigned(i, j) for j in range(i + 1)])"
   ]
  },
  {
   "cell_type": "code",
   "execution_count": 357,
   "id": "66bf4c44",
   "metadata": {},
   "outputs": [],
   "source": [
    "def d(i, s):\n",
    "    retval = 0\n",
    "    for m in range(s, i + 1):\n",
    "        num = ((-1) ** s) * sc.factorial(m) * sc.factorial(N2) * (p ** m)\n",
    "        denom = sc.factorial(m - s) * sc.factorial(N2 - m) * sc.factorial(s)\n",
    "        retval += (stirling2_unsigned(i, m) * num / denom)\n",
    "    return retval"
   ]
  },
  {
   "cell_type": "code",
   "execution_count": 358,
   "id": "82875625",
   "metadata": {},
   "outputs": [
    {
     "name": "stdout",
     "output_type": "stream",
     "text": [
      "1953125\n",
      "1953125.0000023176\n"
     ]
    }
   ],
   "source": [
    "x = 5\n",
    "i = 9\n",
    "print(x ** i)\n",
    "\n",
    "res = 0\n",
    "for s in range(i + 1):\n",
    "    res += d(i, s) * K(s, x)\n",
    "print(res)"
   ]
  },
  {
   "cell_type": "code",
   "execution_count": 315,
   "id": "294cc176",
   "metadata": {},
   "outputs": [],
   "source": [
    "stirling1 = stirling_signed\n",
    "stirling2 = stirling2_unsigned"
   ]
  },
  {
   "cell_type": "code",
   "execution_count": 318,
   "id": "622f82c3",
   "metadata": {},
   "outputs": [
    {
     "data": {
      "text/plain": [
       "1.0"
      ]
     },
     "execution_count": 318,
     "metadata": {},
     "output_type": "execute_result"
    }
   ],
   "source": [
    "k = 5\n",
    "j = 5\n",
    "res = 0\n",
    "for l in range(max(k, j) + 2):\n",
    "    res += stirling1(l, j) * stirling2(k, l)\n",
    "res"
   ]
  },
  {
   "cell_type": "code",
   "execution_count": 320,
   "id": "aa1025d8",
   "metadata": {},
   "outputs": [
    {
     "data": {
      "text/plain": [
       "0.0"
      ]
     },
     "execution_count": 320,
     "metadata": {},
     "output_type": "execute_result"
    }
   ],
   "source": [
    "k = 3\n",
    "j = 5\n",
    "res = 0\n",
    "for l in range(max(k, j) + 2):\n",
    "    res += stirling1(k, l) * stirling2(l, j)\n",
    "res"
   ]
  },
  {
   "cell_type": "code",
   "execution_count": 5,
   "id": "99f1859f",
   "metadata": {},
   "outputs": [
    {
     "ename": "NameError",
     "evalue": "name 'get_ekmi' is not defined",
     "output_type": "error",
     "traceback": [
      "\u001b[0;31m---------------------------------------------------------------------------\u001b[0m",
      "\u001b[0;31mNameError\u001b[0m                                 Traceback (most recent call last)",
      "\u001b[0;32m<ipython-input-5-e9989aa13c99>\u001b[0m in \u001b[0;36m<module>\u001b[0;34m\u001b[0m\n\u001b[1;32m      3\u001b[0m \u001b[0morder\u001b[0m \u001b[0;34m=\u001b[0m \u001b[0;36m5\u001b[0m\u001b[0;34m\u001b[0m\u001b[0;34m\u001b[0m\u001b[0m\n\u001b[1;32m      4\u001b[0m \u001b[0mimg\u001b[0m \u001b[0;34m=\u001b[0m \u001b[0;34m(\u001b[0m\u001b[0mcv2\u001b[0m\u001b[0;34m.\u001b[0m\u001b[0mimread\u001b[0m\u001b[0;34m(\u001b[0m\u001b[0;34m\"/Users/kx/desktop/1.png\"\u001b[0m\u001b[0;34m)\u001b[0m\u001b[0;34m[\u001b[0m\u001b[0;34m:\u001b[0m\u001b[0;34m,\u001b[0m \u001b[0;34m:\u001b[0m\u001b[0;34m,\u001b[0m \u001b[0;36m0\u001b[0m\u001b[0;34m]\u001b[0m \u001b[0;34m==\u001b[0m \u001b[0;36m255\u001b[0m\u001b[0;34m)\u001b[0m\u001b[0;34m.\u001b[0m\u001b[0mastype\u001b[0m\u001b[0;34m(\u001b[0m\u001b[0;34m'uint8'\u001b[0m\u001b[0;34m)\u001b[0m\u001b[0;34m\u001b[0m\u001b[0;34m\u001b[0m\u001b[0m\n\u001b[0;32m----> 5\u001b[0;31m \u001b[0mget_ekmi\u001b[0m\u001b[0;34m(\u001b[0m\u001b[0morder\u001b[0m\u001b[0;34m,\u001b[0m \u001b[0mimg\u001b[0m\u001b[0;34m,\u001b[0m \u001b[0mN\u001b[0m\u001b[0;34m,\u001b[0m \u001b[0mp\u001b[0m\u001b[0;34m)\u001b[0m\u001b[0;34m\u001b[0m\u001b[0;34m\u001b[0m\u001b[0m\n\u001b[0m",
      "\u001b[0;31mNameError\u001b[0m: name 'get_ekmi' is not defined"
     ]
    }
   ],
   "source": []
  },
  {
   "cell_type": "code",
   "execution_count": null,
   "id": "1312faf9",
   "metadata": {},
   "outputs": [],
   "source": []
  },
  {
   "cell_type": "code",
   "execution_count": null,
   "id": "726f6d3c",
   "metadata": {},
   "outputs": [],
   "source": []
  },
  {
   "cell_type": "code",
   "execution_count": null,
   "id": "73451d36",
   "metadata": {},
   "outputs": [],
   "source": []
  },
  {
   "cell_type": "code",
   "execution_count": null,
   "id": "19eaeaea",
   "metadata": {},
   "outputs": [],
   "source": []
  },
  {
   "cell_type": "code",
   "execution_count": null,
   "id": "0c0152b8",
   "metadata": {},
   "outputs": [],
   "source": []
  }
 ],
 "metadata": {
  "kernelspec": {
   "display_name": "Python 3",
   "language": "python",
   "name": "python3"
  },
  "language_info": {
   "codemirror_mode": {
    "name": "ipython",
    "version": 3
   },
   "file_extension": ".py",
   "mimetype": "text/x-python",
   "name": "python",
   "nbconvert_exporter": "python",
   "pygments_lexer": "ipython3",
   "version": "3.9.5"
  }
 },
 "nbformat": 4,
 "nbformat_minor": 5
}
