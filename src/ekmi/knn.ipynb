{
 "cells": [
  {
   "cell_type": "code",
   "execution_count": 147,
   "id": "26acd455",
   "metadata": {},
   "outputs": [],
   "source": [
    "import glob\n",
    "import os\n",
    "import matplotlib.pyplot as plt\n",
    "from tqdm.notebook import tqdm\n",
    "from sklearn.neighbors import KNeighborsClassifier\n",
    "import json\n",
    "import cv2\n",
    "import numpy as np\n",
    "import random"
   ]
  },
  {
   "cell_type": "code",
   "execution_count": 143,
   "id": "815ccfa2",
   "metadata": {},
   "outputs": [],
   "source": [
    "N = 64\n",
    "order = 20\n",
    "fnames_path = 'extracted/fnames.json'\n",
    "feature_path = 'extracted/ekmi_{}_{}.npy'.format(N, order)\n",
    "data_dir = '/Users/kx/Docs/github/git_cccr_sl/chinese-calligraphy-recognition-sl/data/'\n",
    "\n",
    "with open(feature_path, 'rb') as f:\n",
    "    feature_loaded = np.load(f)\n",
    "feature = feature_loaded\n",
    "    \n",
    "with open(fnames_path, 'r') as f:\n",
    "    fnames_short = json.load(f)\n",
    "    \n",
    "fnames = [data_dir + x for x in fnames_short]"
   ]
  },
  {
   "cell_type": "code",
   "execution_count": 148,
   "id": "f2999964",
   "metadata": {},
   "outputs": [],
   "source": [
    "label = [x.split('/')[-2] for x in fnames]\n",
    "class_lookup = sorted(set(label))\n",
    "tmp = dict(zip(class_lookup, range(len(class_lookup))))\n",
    "label = np.array([tmp[x] for x in label])\n",
    "\n",
    "# feature = feature_loaded[:np.where(label == 10)[0][0]]\n",
    "# label = label[:np.where(label == 10)[0][0]]"
   ]
  },
  {
   "cell_type": "code",
   "execution_count": 149,
   "id": "0fd4143d",
   "metadata": {},
   "outputs": [],
   "source": [
    "train_idxs = []\n",
    "val_idxs = []\n",
    "test_idxs = []\n",
    "\n",
    "for i in range(len(class_lookup)):\n",
    "    tmp = np.where(label == i)[0]\n",
    "    random.shuffle(tmp)\n",
    "    val_idxs.append(tmp[0:20])\n",
    "    test_idxs.append(tmp[20:40])\n",
    "    train_idxs.append(tmp[40:])\n",
    "\n",
    "train_idxs = np.concatenate(train_idxs)\n",
    "val_idxs = np.concatenate(val_idxs)\n",
    "test_idxs = np.concatenate(test_idxs)"
   ]
  },
  {
   "cell_type": "code",
   "execution_count": 166,
   "id": "3a777d59",
   "metadata": {},
   "outputs": [],
   "source": [
    "X = feature.reshape((feature.shape[0], feature.shape[1] * feature.shape[2]))\n",
    "\n",
    "Xtrain = X[train_idxs]\n",
    "ytrain = label[train_idxs]\n",
    "\n",
    "Xval = X[val_idxs]\n",
    "yval = label[val_idxs]\n",
    "\n",
    "Xtest = X[test_idxs]\n",
    "ytest = label[test_idxs]"
   ]
  },
  {
   "cell_type": "code",
   "execution_count": 69,
   "id": "b4bf003c",
   "metadata": {},
   "outputs": [
    {
     "data": {
      "application/vnd.jupyter.widget-view+json": {
       "model_id": "80137b1ab4c54888a65176217952e3e7",
       "version_major": 2,
       "version_minor": 0
      },
      "text/plain": [
       "  0%|          | 0/6035 [00:00<?, ?it/s]"
      ]
     },
     "metadata": {},
     "output_type": "display_data"
    }
   ],
   "source": [
    "dist = np.zeros((len(train_idxs)))\n",
    "for i in tqdm(range(len(train_idxs))):\n",
    "    dist[i] = sum((Xtest[0] - Xtrain[i]) ** 2)"
   ]
  },
  {
   "cell_type": "code",
   "execution_count": 169,
   "id": "e5488a5d",
   "metadata": {
    "scrolled": true
   },
   "outputs": [
    {
     "name": "stdout",
     "output_type": "stream",
     "text": [
      "0.6315\n"
     ]
    }
   ],
   "source": [
    "knn = KNeighborsClassifier(n_neighbors=2)\n",
    "knn.fit(Xtrain, ytrain)\n",
    "ypred = knn.predict(Xtest)\n",
    "yprob = knn.predict_proba(Xtest)\n",
    "print(sum(ypred == ytest) / len(ytest))"
   ]
  },
  {
   "cell_type": "code",
   "execution_count": 67,
   "id": "743ccddb",
   "metadata": {},
   "outputs": [
    {
     "data": {
      "text/plain": [
       "0.3915"
      ]
     },
     "execution_count": 67,
     "metadata": {},
     "output_type": "execute_result"
    }
   ],
   "source": [
    "k = 10\n",
    "ypredtopk = (-yprob).argsort(axis=1)[:, :k]\n",
    "tmp = np.repeat(np.expand_dims(ytest, axis=1), k, axis=1)\n",
    "tmp = ypredtopk == tmp\n",
    "tmp.sum() / len(ytest)"
   ]
  },
  {
   "cell_type": "code",
   "execution_count": 150,
   "id": "001e6ff8",
   "metadata": {},
   "outputs": [],
   "source": [
    "dist = np.zeros((train.shape[0], train.shape[0]))\n",
    "for i in range(train.shape[0]):\n",
    "    for j in range(train.shape[0]):\n",
    "        dist[i, j] = sum(sum((feature[i, :, :] - feature[j, :, :]) ** 2))\n",
    "        \n",
    "np.where((dist > 0) & (dist < 1))"
   ]
  },
  {
   "cell_type": "code",
   "execution_count": 174,
   "id": "dbaecf48",
   "metadata": {},
   "outputs": [
    {
     "data": {
      "text/plain": [
       "82.725"
      ]
     },
     "execution_count": 174,
     "metadata": {},
     "output_type": "execute_result"
    }
   ],
   "source": [
    "9927 / 2 / 60"
   ]
  },
  {
   "cell_type": "code",
   "execution_count": 170,
   "id": "2b4f2c94",
   "metadata": {},
   "outputs": [
    {
     "data": {
      "text/plain": [
       "9927"
      ]
     },
     "execution_count": 170,
     "metadata": {},
     "output_type": "execute_result"
    }
   ],
   "source": [
    "len(glob.glob('{}/*/*.png'.format(data_dir)))"
   ]
  },
  {
   "cell_type": "code",
   "execution_count": 162,
   "id": "3418ad57",
   "metadata": {},
   "outputs": [],
   "source": [
    "imgs = np.zeros((len(fnames), 32, 32))\n",
    "for i in range(len(fnames)):\n",
    "    img = cv2.imread(fnames[i])\n",
    "    img = cv2.resize(img, (32, 32))\n",
    "    img = (img[:, :, 0] > 0).astype('int32')\n",
    "    imgs[i, :, :] = img"
   ]
  },
  {
   "cell_type": "code",
   "execution_count": 164,
   "id": "988c2420",
   "metadata": {},
   "outputs": [],
   "source": [
    "order = 5\n",
    "ikmi = wkrchkmoment_batch(np.expand_dims(imgs, axis=1))\n",
    "ikmi = ikmi[0]\n",
    "ikmi = ikmi[:, :, :order, :order].reshape((len(imgs)), order, order)"
   ]
  },
  {
   "cell_type": "code",
   "execution_count": 165,
   "id": "58df5cfd",
   "metadata": {},
   "outputs": [],
   "source": [
    "feature = ikmi"
   ]
  },
  {
   "cell_type": "code",
   "execution_count": 117,
   "id": "de4fb84c",
   "metadata": {},
   "outputs": [],
   "source": []
  },
  {
   "cell_type": "code",
   "execution_count": 127,
   "id": "b940bd49",
   "metadata": {},
   "outputs": [],
   "source": [
    "\"\"\"\n",
    "Reference: Image Analysis by Krawtchouk Moments\n",
    "           Pew-Thian Yap, Raveendran Paramesran, Senior Member, IEEE, and Seng-Huat Ong\n",
    "               \n",
    "Code Written By: Mohammad Tariqul Islam (Ponir)\n",
    "                 ponir.bd@hotmail.com\n",
    "\"\"\"\n",
    "\n",
    "\n",
    "import numpy as np\n",
    "\n",
    "def wkrchkpoly(N, #number of set of weighted krautchouk polynomials\n",
    "               p=0.5, #p deafaults to 0.5\n",
    "               ):\n",
    "    \"\"\"\n",
    "    Kr1 = wrchkpoly(N,p=0.5)\n",
    "        \n",
    "    This function computes set of weighted\n",
    "    krawthcouk polynomials for a given value of N\n",
    "        \n",
    "    Input:\n",
    "        N = length and number of Krawtchouk Polynomials\n",
    "        p = a value between 0 and 1\n",
    "            defaults to 0.5 for centralized moments\n",
    "        \n",
    "    Output:\n",
    "        Kr = NxN numpy matrix, each row gives a weighted krawtchouk polynomial\n",
    "             first row is for n=0, second row for n=1 and so on\n",
    "             \n",
    "    Reference: Image Analysis by Krawtchouk Moments\n",
    "               Pew-Thian Yap, Raveendran Paramesran, Senior Member, IEEE, and Seng-Huat Ong\n",
    "    \"\"\"\n",
    "    pc = 1-p\n",
    "    pr = pc/p #1-p\n",
    "    x = np.array(range(0,N))\n",
    "    \n",
    "    #declaring size of arrays.\n",
    "    w = np.zeros(N)\n",
    "    rho = np.zeros(N)\n",
    "    K = np.zeros((N,N))\n",
    "    A = np.zeros(N)\n",
    "    N=N-1 #Maximum power of the binomial function\n",
    "    \n",
    "    #initializing starting values\n",
    "    w[0]=np.power(pc,N)\n",
    "    rho[0] = 1\n",
    "    K[0,:]=1\n",
    "    K[1,:]=1-x/(N*p)\n",
    "\n",
    "    for i in range(0,N-1):\n",
    "        w[i+1] = w[i]*(N-i)*p/((i+1)*pc)\n",
    "        rho[i+1] = 1/(-1*pr*(i+1)/(-N+i))*rho[i]\n",
    "        K[i+2,:] = ((N*p+(i+1)*(1-2*p)-x)*K[i+1,:]-(i+1)*(1-p)*K[i,:])/(p*(N-i-1))\n",
    "\n",
    "    w[N]=w[N-1]*p/((N-1+1)*pc)\n",
    "    rho[N]=1/(pr*N)*rho[N-1]\n",
    "\n",
    "    Kr=K*np.outer(np.sqrt(rho),np.sqrt(w))\n",
    "    \n",
    "    return Kr\n",
    "    \n",
    "def wkrchk2dpoly(W,H,p=[0.5,0.5]):\n",
    "    \"\"\"\n",
    "    Z,Kr1,Kr2 = wkrchk2dpoly(W,H,p=[0.5,0.5])\n",
    "    \n",
    "    computes two dimensional weighted krawtchouk polynomias\n",
    "    \n",
    "    Input:\n",
    "        W = Width of the polynomials\n",
    "        H = Height of the polynomials\n",
    "        p = an array with two members.\n",
    "            first one is p value related to width\n",
    "            second one is related to height\n",
    "            defaults to p=[0.5, 0.5]\n",
    "    \n",
    "    Output:\n",
    "        Z = numpy array of shape (W*H, H, W)\n",
    "        Kr1 = WxW numpy matrix of weighted krawtchouk polynomials\n",
    "        Kr2 = HxH numpy matrix of weighted krawtchouk polynomials\n",
    "    \"\"\"\n",
    "    Kr1 = wkrchkpoly(W,p[0]) #calculate weighted krawtchouk moments related to width\n",
    "    #if width, height and p values are equal then no need to recalculate\n",
    "    if ((H==W) and (p[0]==p[1])):\n",
    "        Kr2=Kr1;\n",
    "    else: #otherwise recalculate\n",
    "        Kr2=wkrchkpoly(H,p[1])\n",
    "        \n",
    "    Z = Kr2.reshape(H,H,1).dot(Kr1.reshape(W,1,W)).transpose(0,2,1,3).reshape(W*H,H,W)\n",
    "    return Z, Kr1, Kr2\n",
    "\n",
    "def wkrchkmoment_single(X,p=[0.5, 0.5]):\n",
    "    \"\"\"\n",
    "    Q, Kr1, Kr2 = wkrchkmoment_single(X,p=[0.5, 0.5])\n",
    "    \n",
    "    Computes Krawtchouk Moments of a single grey level imagae, i.e 2D Matrix\n",
    "    \n",
    "    Input:\n",
    "        X = 2D image, numpy array, of HxW\n",
    "        p = an array with two members.\n",
    "            first one is p value related to width\n",
    "            second one is related to height\n",
    "            defaults to p=[0.5, 0.5]\n",
    "    \n",
    "    Output:\n",
    "        Q = HxW numpy matrix\n",
    "            Q[a,b] provides the krawtchouk moments of order a+b\n",
    "        Kr1 = WxW numpy matrix of weighted krawtchouk polynomials\n",
    "        Kr2 = HxH numpy matrix of weighted krawtchouk polynomials\n",
    "            \n",
    "    \"\"\"\n",
    "    H,W = X.shape;\n",
    "    \n",
    "    Kr1 = wkrchkpoly(W,p[0])\n",
    "    if (H==W and p[0]==p[1]):\n",
    "        Kr2=Kr1;\n",
    "    else:\n",
    "        Kr2=wkrchkpoly(H,p[1])\n",
    "    \n",
    "    Q = Kr2.dot(X.dot(Kr1.T))\n",
    "    \n",
    "    return Q, Kr1, Kr2\n",
    "    \n",
    "def wkrchkmult_single(X,Kr1,Kr2):\n",
    "    \"\"\"\n",
    "    Q = wkrchkmoment_single(X,p=[0.5, 0.5])\n",
    "    \n",
    "    Computes Krawtchouk Moments of a single grey level imagae, i.e 2D Matrix\n",
    "    \n",
    "    Input:\n",
    "        X = 2D image, numpy array, of HxW\n",
    "        Kr1 = WxW numpy matrix of weighted krawtchouk polynomials\n",
    "        Kr2 = HxH numpy matrix of weighted krawtchouk polynomials\n",
    "    \n",
    "    Output:\n",
    "        Q = HxW numpy matrix\n",
    "            Q[a,b] provides the krawtchouk moments of order a+b\n",
    "            \n",
    "    \"\"\"\n",
    "    \n",
    "    Q = Kr2.dot(X.dot(Kr1.T))\n",
    "    \n",
    "    return Q\n",
    "    \n",
    "def wkrchkmoment_batch(X,p=[0.5, 0.5]):\n",
    "    \"\"\"\n",
    "    Q, Kr1, Kr2 = wkrchkmoment_batch(X,p=[0.5, 0.5])\n",
    "    \n",
    "    Computes Krawtchouk Moments of a batch of images, called batch krawtchouk moments\n",
    "    \n",
    "    Input:\n",
    "        X = input shape (N,C,H,W)\n",
    "            interpreted as:\n",
    "            N = number of images\n",
    "            C = number of channel in images\n",
    "            H = Height of image\n",
    "            W = width of image\n",
    "        p = an array with two members.\n",
    "            first one is p value related to width\n",
    "            second one is related to height\n",
    "            defaults to p=[0.5, 0.5]\n",
    "    \n",
    "    Output:\n",
    "        Q = output shape (N,C,H,W)\n",
    "            Q[a,b,c,d] provides the krawtchouk moments of order c+d\n",
    "                       of (b+1)th channel of (a+1)th image\n",
    "        Kr1 = WxW numpy matrix of weighted krawtchouk polynomials\n",
    "        Kr2 = HxH numpy matrix of weighted krawtchouk polynomials\n",
    "            \n",
    "    \"\"\"\n",
    "    \n",
    "    N,C,H,W = X.shape;\n",
    "    X1 = X.reshape(N*C,H,W)\n",
    "    \n",
    "    Kr1 = wkrchkpoly(W,p[0])\n",
    "    if ( (H==W) and (p[0]==p[1])):\n",
    "        Kr2=Kr1;\n",
    "    else:\n",
    "        Kr2=wkrchkpoly(H,p[1])\n",
    "    \n",
    "    Q = Kr2.dot(X1.dot(Kr1.T)).transpose(1,0,2).reshape((N,C,H,W))\n",
    "    \n",
    "    return Q, Kr1, Kr2\n",
    "    \n",
    "def wkrchkmult_batch(X,Kr1,Kr2):\n",
    "    \"\"\"\n",
    "    Q = wkrchkmult_batch(X,Kr1,Kr2)\n",
    "    \n",
    "    Computes Krawtchouk Moments of a batch of image, called batch krawtchouk moments\n",
    "    \n",
    "    Input:\n",
    "        X = input shape (N,C,H,W)\n",
    "            interpreted as:\n",
    "            N = number of images\n",
    "            C = number of channel in images\n",
    "            H = height of image\n",
    "            W = width of image\n",
    "        Kr1 = WxW numpy matrix of weighted krawtchouk polynomials\n",
    "        Kr2 = HxH numpy matrix of weighted krawtchouk polynomials\n",
    "    \n",
    "    Output:\n",
    "        Q = output shape (N,C,H,W)\n",
    "            Q[a,b,c,d] provides the krawtchouk moments of order c+d\n",
    "                       of (b+1)th channel of (a+1)th image\n",
    "            \n",
    "    \"\"\"\n",
    "    N,C,H,W = X.shape;\n",
    "    X1 = X.reshape(N*C,H,W)\n",
    "    Q = Kr2.dot(X1.dot(Kr1.T)).transpose(1,0,2).reshape((N,C,H,W))\n",
    "    \n",
    "    return Q\n",
    "\n",
    "def wkrchkmoment_batch_reconstruction(Q, Kr1, Kr2):\n",
    "    \"\"\"\n",
    "    X = wkrchkmoment_batch_reconstruction(Q, Kr1, Kr2)\n",
    "    \n",
    "    reconstructs a batch of image from it's batch krawtchouk moments\n",
    "    \n",
    "    Input:\n",
    "        Q = input shape (N,C,H1,W1)\n",
    "            interpreted as:\n",
    "            N = number of images\n",
    "            C = number of channel\n",
    "            H1 = height of moment matrix\n",
    "            W1 = width of moment matrix\n",
    "        Kr1 = WxW numpy matrix of weighted krawtchouk polynomials\n",
    "        Kr2 = HxH numpy matrix of weighted krawtchouk polynomials\n",
    "        \n",
    "    Output:\n",
    "        X = reconstructed image of shape (N,C,H,W)\n",
    "            interpreted as:\n",
    "            N = number of images\n",
    "            C = number of channel in images\n",
    "            H = height of image\n",
    "            W = width of image\n",
    "    \n",
    "    \"\"\"\n",
    "    \n",
    "    N,C,H1,W1 = Q.shape\n",
    "    W,_ = Kr1.shape\n",
    "    H,_ = Kr2.shape\n",
    "\n",
    "    Q1 = np.pad(Q,((0,0),(0,0),(0,H-H1),(0,W-W1)),'constant', constant_values=(0,0)).reshape(N*C,H,W)\n",
    "    X = Kr2.T.dot(Q1.dot(Kr1)).transpose(1,0,2).reshape(N,C,H,W)\n",
    "    \n",
    "    return X\n",
    "    \n",
    "def wkrchkmoment_single_reconstruction(Q,Kr1,Kr2):\n",
    "    \"\"\"\n",
    "    X = wkrchkmoment_single_reconstruction(Q,Kr1,Kr2)\n",
    "    \n",
    "    reconstructs a batch of image from it's batch krawtchouk moments\n",
    "    \n",
    "    Input:\n",
    "        Q = input shape (H1,W1)\n",
    "            H1 = height of moment matrix\n",
    "            W1 = width of moment matrix\n",
    "        Kr1 = WxW numpy matrix of weighted krawtchouk polynomials\n",
    "        Kr2 = HxH numpy matrix of weighted krawtchouk polynomials\n",
    "        \n",
    "    Output:\n",
    "        X = reconstructed image of shape (H,W)\n",
    "            interpreted as:\n",
    "            H = height of image\n",
    "            W = width of image\n",
    "    \n",
    "    \"\"\"\n",
    "    H1,W1 = Q.shape\n",
    "    W,_ = Kr1.shape\n",
    "    H,_ = Kr2.shape\n",
    "    \n",
    "    Q1 = np.pad(Q,((0,H-H1),(0,W-W1)),'constant', constant_values=(0,0))\n",
    "    X = Kr2.T.dot(Q1.dot(Kr1))\n",
    "    \n",
    "    return X"
   ]
  },
  {
   "cell_type": "code",
   "execution_count": null,
   "id": "1c376d9e",
   "metadata": {},
   "outputs": [],
   "source": []
  }
 ],
 "metadata": {
  "kernelspec": {
   "display_name": "Python 3",
   "language": "python",
   "name": "python3"
  },
  "language_info": {
   "codemirror_mode": {
    "name": "ipython",
    "version": 3
   },
   "file_extension": ".py",
   "mimetype": "text/x-python",
   "name": "python",
   "nbconvert_exporter": "python",
   "pygments_lexer": "ipython3",
   "version": "3.9.5"
  }
 },
 "nbformat": 4,
 "nbformat_minor": 5
}
