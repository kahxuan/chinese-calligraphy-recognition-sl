{
 "cells": [
  {
   "cell_type": "code",
   "execution_count": 1,
   "id": "e61c0f40",
   "metadata": {},
   "outputs": [],
   "source": [
    "import os\n",
    "import glob\n",
    "import time\n",
    "import random\n",
    "import json\n",
    "import numpy as np\n",
    "import cv2\n",
    "from tqdm.notebook import tqdm\n",
    "import matplotlib.pyplot as plt\n",
    "\n",
    "from scipy.special import hyp2f1, factorial, comb\n",
    "from sympy.functions.combinatorial.numbers import stirling\n",
    "from math import atan, cos, sin"
   ]
  },
  {
   "cell_type": "code",
   "execution_count": 2,
   "id": "de21136a",
   "metadata": {},
   "outputs": [],
   "source": [
    "import sys\n",
    "sys.path.insert(0,'..')\n",
    "\n",
    "from image_processing.preprocessing import get_centroid"
   ]
  },
  {
   "cell_type": "code",
   "execution_count": 33,
   "id": "8e2f0fcd",
   "metadata": {},
   "outputs": [],
   "source": [
    "from image_processing.preprocessing import (\n",
    "    remove_padding,\n",
    "    pad_to_square\n",
    ")\n",
    "\n",
    "from image_processing.shape_normalization.p2d_bimoment import normalize as p2d_bimoment_normalization\n",
    "\n",
    "def preprocess_image_moment(img, N):\n",
    "    \n",
    "    img = remove_padding(img)\n",
    "    img_norm = p2d_bimoment_normalization(img, beta=2, w0=0.5)\n",
    "    img_norm = pad_to_square(img_norm, max(img_norm.shape))\n",
    "    img_norm = cv2.resize(img_norm, (N, N))    \n",
    "    return img_norm\n",
    "\n",
    "import matplotlib as mpl\n",
    "\n",
    "FONT_PATH = '../fonts/heiti.ttf'\n",
    "\n",
    "# show a list of images\n",
    "def show(imgs, col=5, titles=None, gray=True, chinese_title=False):\n",
    "    \n",
    "    chinese_font = mpl.font_manager.FontProperties(fname=FONT_PATH)\n",
    "\n",
    "    row = max((len(imgs) + col - 1) // col, 2)\n",
    "    plt.figure(figsize=(col * 2.5, row * 2))\n",
    "    \n",
    "    for i in range(len(imgs)):\n",
    "        ax = plt.subplot(row, col, i + 1)\n",
    "        if gray:\n",
    "            plt.imshow(imgs[i], 'gray')\n",
    "        else:\n",
    "            plt.imshow(imgs[i])\n",
    "        if titles is not None:\n",
    "            if chinese_title:\n",
    "                plt.title(titles[i], fontproperties=chinese_font, fontsize=16)\n",
    "            else:\n",
    "                plt.title(titles[i])\n",
    "        plt.axis(\"off\")"
   ]
  },
  {
   "cell_type": "code",
   "execution_count": 4,
   "id": "1717c854",
   "metadata": {},
   "outputs": [],
   "source": [
    "def get_central_moment(img, a, b):\n",
    "    h, w = img.shape\n",
    "    x_c, y_c = get_centroid(f)\n",
    "    x = ((np.array(range(w)) - x_c) ** a).astype('int64')\n",
    "    y = ((np.array(range(h)) - y_c) ** b).astype('int64')\n",
    "    x, y = np.meshgrid(x, y)\n",
    "    retval = np.multiply(x, y)\n",
    "    retval = np.multiply(retval, img.astype('int64'))\n",
    "    retval = np.sum(retval)\n",
    "    return retval if retval > 0 else 1e-100 # TODO\n",
    "\n",
    "\n",
    "# i1, j1 exclusive\n",
    "def call_fill_memo(fill_memo_func, memo, i0, i1, j0, j1, **kwargs):\n",
    "    for i in range(i0, i1):\n",
    "        for j in range(j0, j1):\n",
    "            fill_memo_func(i, j, **kwargs)\n",
    "    return memo[i0:i1, j0:j1]\n",
    "\n",
    "\n",
    "def init_memo_c(N, M):\n",
    "    memo_c = np.empty((max(N, M) * 2 + 1, max(N, M) * 2 + 1))\n",
    "    memo_c[:] = np.nan\n",
    "    def c(n, i, N, p):\n",
    "        if np.isnan(memo_c[n, i]):\n",
    "            memo_c[n, i] = 0\n",
    "            for k in range(i, n + 1):\n",
    "                num = (-1 ** k) * factorial(n) * factorial(N - k)\n",
    "                denom = (p ** k) * factorial(N) * factorial(k) * factorial(n - k)\n",
    "                memo_c[n, i] += num / denom * stirling(k, i, kind=1)\n",
    "        return memo_c[n, i]\n",
    "    return memo_c, c\n",
    "\n",
    "\n",
    "def init_memo_d(N, M):\n",
    "    memo_d = np.empty((max(N, M) * 2 + 1, max(N, M) * 2 + 1))\n",
    "    memo_d[:] = np.nan\n",
    "    def d(i, s, N, p):\n",
    "        if np.isnan(memo_d[i, s]):\n",
    "            memo_d[i, s] = 0\n",
    "            for m in range(s, i + 1):\n",
    "                num = (-1 ** s) * factorial(m) * factorial(N) * (p ** m)\n",
    "                denom = factorial(m - s) * factorial(N - m) * factorial(m)\n",
    "                memo_d[i, s] += stirling(i, m, kind=2) * num / (denom + 1e-100) # TODO\n",
    "        return memo_d[i, s]\n",
    "    return memo_d, d\n",
    "\n",
    "\n",
    "def init_memo_K(N, M):\n",
    "    memo_K = np.empty((max(N, M) * 2 + 1, max(N, M) * 2 + 1))\n",
    "    memo_K[:] = np.nan\n",
    "    def K(n, x, p, N):\n",
    "        if np.isnan(memo_K[n, x]):\n",
    "            memo_K[n, x] = hyp2f1(-n, -x, -N, 1/p)\n",
    "            if np.isnan(memo_K[n, x]):\n",
    "                memo_K[n, x] = 0\n",
    "        return memo_K[n, x]\n",
    "    return memo_K, K\n",
    "\n",
    "\n",
    "def init_memo_tilda_K(N, M, K):\n",
    "    memo_tilda_K = np.empty((N * 2 + 1, M * 2 + 1))\n",
    "    memo_tilda_K[:] = np.nan\n",
    "    def tilda_K(n, m, f, p):\n",
    "        if np.isnan(memo_tilda_K[n, m]):\n",
    "            N, M = f.shape\n",
    "            memo_tilda_K[n, m] = 0\n",
    "            for x in range(N):\n",
    "                for y in range(M):\n",
    "                    memo_tilda_K[n, m] += f[x, y] * K(n, x, p, N) * K(m, y, p, M)\n",
    "        return memo_tilda_K[n, m]\n",
    "    return memo_tilda_K, tilda_K\n",
    "\n",
    "\n",
    "def get_feature_vec(Q):\n",
    "    return Q.reshape(-1)[1:]"
   ]
  },
  {
   "cell_type": "code",
   "execution_count": 5,
   "id": "16c70f3b",
   "metadata": {},
   "outputs": [],
   "source": [
    "class EKMI:\n",
    "    \n",
    "    def __init__(self, N, M):\n",
    "        self.N = N\n",
    "        self.M = M\n",
    "        self.memo_c, self.c = init_memo_c(N, M)\n",
    "        self.memo_d, self.d = init_memo_d(N, M)\n",
    "        self.memo_K, self.K = init_memo_K(N, M)\n",
    "        self.memo_tilda_K, self.tilda_K = None, None\n",
    "        \n",
    "        \n",
    "    def get_moment(self, f, order):\n",
    "        \n",
    "        f = cv2.resize(f, (self.N, self.M))\n",
    "        \n",
    "        self.memo_tilda_K, self.tilda_K = init_memo_tilda_K(self.N, self.M, self.K)\n",
    "\n",
    "        Q = np.empty((order + 1, order + 1))\n",
    "        Q[:] = np.nan\n",
    "\n",
    "        for i in range(order + 1):\n",
    "            for j in range(order + 1):\n",
    "                Q[i, j] = self.Irs(i, j, f, p=0.5)\n",
    "                \n",
    "        return Q\n",
    "    \n",
    "\n",
    "    def Irs(self, n, m, f, p):\n",
    "\n",
    "        N, M = self.N, self.M\n",
    "\n",
    "        u = 2 * get_central_moment(f, 2, 2) * get_central_moment(f, 0, 0) / (get_central_moment(f, 1, 1) ** 2)\n",
    "        v = 2 * get_central_moment(f, 2, 2) * (get_central_moment(f, 1, 0) ** 2) / (get_central_moment(f, 0, 0) * (get_central_moment(f, 1, 1) ** 2))\n",
    "\n",
    "        delta_f = self.tilda_K(0, 0, f, 0.5)\n",
    "        theta_f = 0.5 * atan(\n",
    "            (u * self.tilda_K(1, 1, f, 0.5) - u * self.tilda_K(0, 0, f, 0.5)) / \n",
    "            (self.tilda_K(2, 0, f, 0.5) - self.tilda_K(0, 2, f, 0.5))\n",
    "        )\n",
    "        cos_theta_f = cos(theta_f)\n",
    "        sin_theta_f = sin(theta_f)\n",
    "\n",
    "        Irs_nm = 0\n",
    "\n",
    "        for i in range(n + 1):\n",
    "\n",
    "            term4 = self.c(n, i, N, p)\n",
    "\n",
    "            for j in range(m + 1):\n",
    "\n",
    "                term5 = self.c(m, j, N, p)\n",
    "                term8 = delta_f ** (- (i + j + 2) / 2)\n",
    "\n",
    "                for s in range(i + 1):\n",
    "\n",
    "                    term2 = comb(i, s, exact=True)\n",
    "\n",
    "                    for t in range(j + 1):\n",
    "                        term1 = (-1) ** (j - t)\n",
    "                        term3 = comb(j, t, exact=True)\n",
    "                        term9 = cos_theta_f ** (i + t - s)\n",
    "                        term10 = sin_theta_f ** (j - t + s)\n",
    "\n",
    "                        term6 = call_fill_memo(\n",
    "                            self.d, self.memo_d, \n",
    "                            i + j - s - t, i + j - s - t + 1, \n",
    "                            0, i + j - s - t + 1, \n",
    "                            N=N, p=p\n",
    "                        )\n",
    "                        term7 = call_fill_memo(\n",
    "                            self.d, self.memo_d, \n",
    "                            s + t, s + t + 1, \n",
    "                            0, s + t + 1, \n",
    "                            N=N, p=p\n",
    "                        )\n",
    "                        term7, term6 = np.meshgrid(term7, term6)\n",
    "\n",
    "                        term11 = call_fill_memo(\n",
    "                            self.tilda_K, self.memo_tilda_K,\n",
    "                            0, i + j - s - t + 1, \n",
    "                            0, s + t + 1,\n",
    "                            f=f, p=p\n",
    "                        )\n",
    "\n",
    "                        term6_7_11 = np.multiply(term6, term7)\n",
    "                        term6_7_11 = np.multiply(term6_7_11, term11)\n",
    "                        term6_7_11 = np.sum(term6_7_11)\n",
    "\n",
    "                        tmp = term1 * \\\n",
    "                            term2 * \\\n",
    "                            term3 * \\\n",
    "                            term4 * term5 * \\\n",
    "                            term8 * \\\n",
    "                            term9 * \\\n",
    "                            term10 * \\\n",
    "                            term6_7_11\n",
    "\n",
    "                        Irs_nm += tmp\n",
    "\n",
    "        return Irs_nm"
   ]
  },
  {
   "cell_type": "code",
   "execution_count": 6,
   "id": "4cd14a5b",
   "metadata": {},
   "outputs": [],
   "source": [
    "DATA_PATH = '../data/shufadict/clean'\n",
    "chars = [x for x in os.listdir(DATA_PATH) if x[0] != '.'][:50]\n",
    "char_to_id = dict(zip(chars, range(len(chars))))\n",
    "sample_per_class = 30\n",
    "\n",
    "N = M = 16\n",
    "order = 4"
   ]
  },
  {
   "cell_type": "code",
   "execution_count": 7,
   "id": "4726bed7",
   "metadata": {},
   "outputs": [
    {
     "name": "stdout",
     "output_type": "stream",
     "text": [
      "0.2242429256439209\n"
     ]
    },
    {
     "data": {
      "text/plain": [
       "array([0.99642078, 0.98886308, 0.9756437 , 0.95411644, 1.15622262,\n",
       "       1.15246487, 1.14449641, 1.13053539, 1.10778017, 1.35529234,\n",
       "       1.35134236, 1.34290956, 1.32809618, 1.30391778, 1.61553054,\n",
       "       1.61137719, 1.60241703, 1.58661366, 1.56076393, 1.96643065,\n",
       "       1.96207058, 1.95251029, 1.93554424, 1.90770202])"
      ]
     },
     "execution_count": 7,
     "metadata": {},
     "output_type": "execute_result"
    },
    {
     "data": {
      "image/png": "[encoded data removed]",
      "text/plain": [
       "<Figure size 432x288 with 1 Axes>"
      ]
     },
     "metadata": {
      "needs_background": "light"
     },
     "output_type": "display_data"
    }
   ],
   "source": [
    "fname = '../data/shufadict/clean/也/49ad5ddd4dfd11874212f56d02d88355.png'\n",
    "\n",
    "f = cv2.imread(fname)[:, :, 0]\n",
    "f = preprocess_image_moment(f, N)\n",
    "plt.imshow(f)\n",
    "\n",
    "ekmi = EKMI(N, M)\n",
    "\n",
    "tik = time.time()\n",
    "Q = ekmi.get_moment(f, order)\n",
    "tok = time.time()\n",
    "print(tok - tik)\n",
    "\n",
    "get_feature_vec(Q)"
   ]
  },
  {
   "cell_type": "code",
   "execution_count": 11,
   "id": "e206154a",
   "metadata": {
    "scrolled": true
   },
   "outputs": [
    {
     "data": {
      "application/vnd.jupyter.widget-view+json": {
       "model_id": "2c7e8a7564a24f6680e4e99dd38b5b88",
       "version_major": 2,
       "version_minor": 0
      },
      "text/plain": [
       "后:   0%|          | 0/30 [00:00<?, ?it/s]"
      ]
     },
     "metadata": {},
     "output_type": "display_data"
    },
    {
     "data": {
      "application/vnd.jupyter.widget-view+json": {
       "model_id": "bb2b71001fa249d7a08c8a1103360b25",
       "version_major": 2,
       "version_minor": 0
      },
      "text/plain": [
       "家:   0%|          | 0/30 [00:00<?, ?it/s]"
      ]
     },
     "metadata": {},
     "output_type": "display_data"
    },
    {
     "data": {
      "application/vnd.jupyter.widget-view+json": {
       "model_id": "0ff3bf71684a425c83cb85ad842e6744",
       "version_major": 2,
       "version_minor": 0
      },
      "text/plain": [
       "无:   0%|          | 0/30 [00:00<?, ?it/s]"
      ]
     },
     "metadata": {},
     "output_type": "display_data"
    },
    {
     "data": {
      "application/vnd.jupyter.widget-view+json": {
       "model_id": "054bd8015113468e92c9636cfa94758f",
       "version_major": 2,
       "version_minor": 0
      },
      "text/plain": [
       "和:   0%|          | 0/30 [00:00<?, ?it/s]"
      ]
     },
     "metadata": {},
     "output_type": "display_data"
    },
    {
     "data": {
      "application/vnd.jupyter.widget-view+json": {
       "model_id": "f7f2e0945a73472db263f36677fde356",
       "version_major": 2,
       "version_minor": 0
      },
      "text/plain": [
       "如:   0%|          | 0/30 [00:00<?, ?it/s]"
      ]
     },
     "metadata": {},
     "output_type": "display_data"
    },
    {
     "data": {
      "application/vnd.jupyter.widget-view+json": {
       "model_id": "48997a8bd62c4e358b2bf1caf88a7935",
       "version_major": 2,
       "version_minor": 0
      },
      "text/plain": [
       "多:   0%|          | 0/30 [00:00<?, ?it/s]"
      ]
     },
     "metadata": {},
     "output_type": "display_data"
    },
    {
     "data": {
      "application/vnd.jupyter.widget-view+json": {
       "model_id": "dc9a2843b46b4b818d0a52527fa3ac12",
       "version_major": 2,
       "version_minor": 0
      },
      "text/plain": [
       "有:   0%|          | 0/30 [00:00<?, ?it/s]"
      ]
     },
     "metadata": {},
     "output_type": "display_data"
    },
    {
     "data": {
      "application/vnd.jupyter.widget-view+json": {
       "model_id": "9168297be54d46709d5b6016cf1933ad",
       "version_major": 2,
       "version_minor": 0
      },
      "text/plain": [
       "最:   0%|          | 0/30 [00:00<?, ?it/s]"
      ]
     },
     "metadata": {},
     "output_type": "display_data"
    },
    {
     "data": {
      "application/vnd.jupyter.widget-view+json": {
       "model_id": "2e8054c0a8c04ce9b4179381596071af",
       "version_major": 2,
       "version_minor": 0
      },
      "text/plain": [
       "面:   0%|          | 0/30 [00:00<?, ?it/s]"
      ]
     },
     "metadata": {},
     "output_type": "display_data"
    },
    {
     "data": {
      "application/vnd.jupyter.widget-view+json": {
       "model_id": "885bf2727061483a9a65ff1426894431",
       "version_major": 2,
       "version_minor": 0
      },
      "text/plain": [
       "要:   0%|          | 0/30 [00:00<?, ?it/s]"
      ]
     },
     "metadata": {},
     "output_type": "display_data"
    },
    {
     "data": {
      "application/vnd.jupyter.widget-view+json": {
       "model_id": "ba2993bb4c2642fcaed3e9c51646cd0a",
       "version_major": 2,
       "version_minor": 0
      },
      "text/plain": [
       "国:   0%|          | 0/30 [00:00<?, ?it/s]"
      ]
     },
     "metadata": {},
     "output_type": "display_data"
    },
    {
     "data": {
      "application/vnd.jupyter.widget-view+json": {
       "model_id": "3eee88891f4c47b8a71011c3af11d8f8",
       "version_major": 2,
       "version_minor": 0
      },
      "text/plain": [
       "女:   0%|          | 0/30 [00:00<?, ?it/s]"
      ]
     },
     "metadata": {},
     "output_type": "display_data"
    },
    {
     "data": {
      "application/vnd.jupyter.widget-view+json": {
       "model_id": "73f9c3dcb0e645a988254dff6b6dcbe8",
       "version_major": 2,
       "version_minor": 0
      },
      "text/plain": [
       "好:   0%|          | 0/30 [00:00<?, ?it/s]"
      ]
     },
     "metadata": {},
     "output_type": "display_data"
    },
    {
     "data": {
      "application/vnd.jupyter.widget-view+json": {
       "model_id": "00322cf9bba44dacaa356aa01b855c72",
       "version_major": 2,
       "version_minor": 0
      },
      "text/plain": [
       "看:   0%|          | 0/30 [00:00<?, ?it/s]"
      ]
     },
     "metadata": {},
     "output_type": "display_data"
    },
    {
     "data": {
      "application/vnd.jupyter.widget-view+json": {
       "model_id": "6907affe3e6a4004b2b471f6e5cdaf66",
       "version_major": 2,
       "version_minor": 0
      },
      "text/plain": [
       "着:   0%|          | 0/30 [00:00<?, ?it/s]"
      ]
     },
     "metadata": {},
     "output_type": "display_data"
    },
    {
     "data": {
      "application/vnd.jupyter.widget-view+json": {
       "model_id": "917f3cbb724d4498be2bf1d2623cce00",
       "version_major": 2,
       "version_minor": 0
      },
      "text/plain": [
       "在:   0%|          | 0/30 [00:00<?, ?it/s]"
      ]
     },
     "metadata": {},
     "output_type": "display_data"
    },
    {
     "data": {
      "application/vnd.jupyter.widget-view+json": {
       "model_id": "fbfc0dcc3cb643199e35f1851abb8f09",
       "version_major": 2,
       "version_minor": 0
      },
      "text/plain": [
       "己:   0%|          | 0/30 [00:00<?, ?it/s]"
      ]
     },
     "metadata": {},
     "output_type": "display_data"
    },
    {
     "data": {
      "application/vnd.jupyter.widget-view+json": {
       "model_id": "394a34bfad084df1a71f9a866456f675",
       "version_major": 2,
       "version_minor": 0
      },
      "text/plain": [
       "小:   0%|          | 0/30 [00:00<?, ?it/s]"
      ]
     },
     "metadata": {},
     "output_type": "display_data"
    },
    {
     "data": {
      "application/vnd.jupyter.widget-view+json": {
       "model_id": "b3ecd3551d584ff8b8b2e5f15ab557c4",
       "version_major": 2,
       "version_minor": 0
      },
      "text/plain": [
       "现:   0%|          | 0/30 [00:00<?, ?it/s]"
      ]
     },
     "metadata": {},
     "output_type": "display_data"
    },
    {
     "data": {
      "application/vnd.jupyter.widget-view+json": {
       "model_id": "ac0be0e0a13544c6ab385294aa287289",
       "version_major": 2,
       "version_minor": 0
      },
      "text/plain": [
       "就:   0%|          | 0/30 [00:00<?, ?it/s]"
      ]
     },
     "metadata": {},
     "output_type": "display_data"
    },
    {
     "data": {
      "application/vnd.jupyter.widget-view+json": {
       "model_id": "7fe6d25339a84636984177bab03ca441",
       "version_major": 2,
       "version_minor": 0
      },
      "text/plain": [
       "把:   0%|          | 0/30 [00:00<?, ?it/s]"
      ]
     },
     "metadata": {},
     "output_type": "display_data"
    },
    {
     "data": {
      "application/vnd.jupyter.widget-view+json": {
       "model_id": "d00f817afd114b0caec7a2f57079bb6c",
       "version_major": 2,
       "version_minor": 0
      },
      "text/plain": [
       "发:   0%|          | 0/30 [00:00<?, ?it/s]"
      ]
     },
     "metadata": {},
     "output_type": "display_data"
    },
    {
     "data": {
      "application/vnd.jupyter.widget-view+json": {
       "model_id": "44dec0686ce2469bbcf3de3aa63bee84",
       "version_major": 2,
       "version_minor": 0
      },
      "text/plain": [
       "手:   0%|          | 0/30 [00:00<?, ?it/s]"
      ]
     },
     "metadata": {},
     "output_type": "display_data"
    },
    {
     "data": {
      "application/vnd.jupyter.widget-view+json": {
       "model_id": "e2927634c8884aa6b16fc0ec31a0e271",
       "version_major": 2,
       "version_minor": 0
      },
      "text/plain": [
       "起:   0%|          | 0/30 [00:00<?, ?it/s]"
      ]
     },
     "metadata": {},
     "output_type": "display_data"
    },
    {
     "data": {
      "application/vnd.jupyter.widget-view+json": {
       "model_id": "56c968b67beb40f28632f76de8bf346e",
       "version_major": 2,
       "version_minor": 0
      },
      "text/plain": [
       "可:   0%|          | 0/30 [00:00<?, ?it/s]"
      ]
     },
     "metadata": {},
     "output_type": "display_data"
    },
    {
     "data": {
      "application/vnd.jupyter.widget-view+json": {
       "model_id": "ca179b98489e4bbeb0383a25d7c7cf60",
       "version_major": 2,
       "version_minor": 0
      },
      "text/plain": [
       "们:   0%|          | 0/30 [00:00<?, ?it/s]"
      ]
     },
     "metadata": {},
     "output_type": "display_data"
    },
    {
     "data": {
      "application/vnd.jupyter.widget-view+json": {
       "model_id": "d78ff1a1fd82478f8da2a8ddfdedb561",
       "version_major": 2,
       "version_minor": 0
      },
      "text/plain": [
       "过:   0%|          | 0/30 [00:00<?, ?it/s]"
      ]
     },
     "metadata": {},
     "output_type": "display_data"
    },
    {
     "data": {
      "application/vnd.jupyter.widget-view+json": {
       "model_id": "b4fe719bbf2148ac9f5d6e80ef8deca2",
       "version_major": 2,
       "version_minor": 0
      },
      "text/plain": [
       "情:   0%|          | 0/30 [00:00<?, ?it/s]"
      ]
     },
     "metadata": {},
     "output_type": "display_data"
    },
    {
     "data": {
      "application/vnd.jupyter.widget-view+json": {
       "model_id": "85e9c643c9ac456cb33592e6e01be2b2",
       "version_major": 2,
       "version_minor": 0
      },
      "text/plain": [
       "而:   0%|          | 0/30 [00:00<?, ?it/s]"
      ]
     },
     "metadata": {},
     "output_type": "display_data"
    },
    {
     "data": {
      "application/vnd.jupyter.widget-view+json": {
       "model_id": "a8b53c5ffacf4d80a835d2fcc902b6e6",
       "version_major": 2,
       "version_minor": 0
      },
      "text/plain": [
       "以:   0%|          | 0/30 [00:00<?, ?it/s]"
      ]
     },
     "metadata": {},
     "output_type": "display_data"
    },
    {
     "data": {
      "application/vnd.jupyter.widget-view+json": {
       "model_id": "3baf9a3572534cb280150a2b47fc6525",
       "version_major": 2,
       "version_minor": 0
      },
      "text/plain": [
       "心:   0%|          | 0/30 [00:00<?, ?it/s]"
      ]
     },
     "metadata": {},
     "output_type": "display_data"
    },
    {
     "data": {
      "application/vnd.jupyter.widget-view+json": {
       "model_id": "8b00548729024d94b7d727e103a0f580",
       "version_major": 2,
       "version_minor": 0
      },
      "text/plain": [
       "从:   0%|          | 0/30 [00:00<?, ?it/s]"
      ]
     },
     "metadata": {},
     "output_type": "display_data"
    },
    {
     "data": {
      "application/vnd.jupyter.widget-view+json": {
       "model_id": "d3174cd1404e4e429a8d3dba3a38d80e",
       "version_major": 2,
       "version_minor": 0
      },
      "text/plain": [
       "能:   0%|          | 0/30 [00:00<?, ?it/s]"
      ]
     },
     "metadata": {},
     "output_type": "display_data"
    },
    {
     "data": {
      "application/vnd.jupyter.widget-view+json": {
       "model_id": "3ab8c73f8259457bb18be29011cacac8",
       "version_major": 2,
       "version_minor": 0
      },
      "text/plain": [
       "中:   0%|          | 0/30 [00:00<?, ?it/s]"
      ]
     },
     "metadata": {},
     "output_type": "display_data"
    },
    {
     "data": {
      "application/vnd.jupyter.widget-view+json": {
       "model_id": "81dd88d716c8434ebae35a5598e506ba",
       "version_major": 2,
       "version_minor": 0
      },
      "text/plain": [
       "美:   0%|          | 0/30 [00:00<?, ?it/s]"
      ]
     },
     "metadata": {},
     "output_type": "display_data"
    },
    {
     "data": {
      "application/vnd.jupyter.widget-view+json": {
       "model_id": "7f3fec6daf5d468b86e2a084214cac76",
       "version_major": 2,
       "version_minor": 0
      },
      "text/plain": [
       "会:   0%|          | 0/30 [00:00<?, ?it/s]"
      ]
     },
     "metadata": {},
     "output_type": "display_data"
    },
    {
     "data": {
      "application/vnd.jupyter.widget-view+json": {
       "model_id": "e5d69d2f16ba48f1b6b7edde26b7fb98",
       "version_major": 2,
       "version_minor": 0
      },
      "text/plain": [
       "个:   0%|          | 0/30 [00:00<?, ?it/s]"
      ]
     },
     "metadata": {},
     "output_type": "display_data"
    },
    {
     "data": {
      "application/vnd.jupyter.widget-view+json": {
       "model_id": "f1529cd9788a4fcfadc02fc0edf2b334",
       "version_major": 2,
       "version_minor": 0
      },
      "text/plain": [
       "也:   0%|          | 0/30 [00:00<?, ?it/s]"
      ]
     },
     "metadata": {},
     "output_type": "display_data"
    },
    {
     "data": {
      "application/vnd.jupyter.widget-view+json": {
       "model_id": "eed4dac2872b4f1caf1bf51c4728d83c",
       "version_major": 2,
       "version_minor": 0
      },
      "text/plain": [
       "事:   0%|          | 0/30 [00:00<?, ?it/s]"
      ]
     },
     "metadata": {},
     "output_type": "display_data"
    },
    {
     "data": {
      "application/vnd.jupyter.widget-view+json": {
       "model_id": "4bcab5d6b71441dd86862666483386dd",
       "version_major": 2,
       "version_minor": 0
      },
      "text/plain": [
       "想:   0%|          | 0/30 [00:00<?, ?it/s]"
      ]
     },
     "metadata": {},
     "output_type": "display_data"
    },
    {
     "data": {
      "application/vnd.jupyter.widget-view+json": {
       "model_id": "d60356b8f9104400b3ef18e86000f817",
       "version_major": 2,
       "version_minor": 0
      },
      "text/plain": [
       "之:   0%|          | 0/30 [00:00<?, ?it/s]"
      ]
     },
     "metadata": {},
     "output_type": "display_data"
    },
    {
     "data": {
      "application/vnd.jupyter.widget-view+json": {
       "model_id": "965ed36109854c019635735a095a3a00",
       "version_major": 2,
       "version_minor": 0
      },
      "text/plain": [
       "一:   0%|          | 0/30 [00:00<?, ?it/s]"
      ]
     },
     "metadata": {},
     "output_type": "display_data"
    },
    {
     "data": {
      "application/vnd.jupyter.widget-view+json": {
       "model_id": "43e05b9b8a9e4e6ebfb0ea9b170efb4f",
       "version_major": 2,
       "version_minor": 0
      },
      "text/plain": [
       "当:   0%|          | 0/30 [00:00<?, ?it/s]"
      ]
     },
     "metadata": {},
     "output_type": "display_data"
    },
    {
     "data": {
      "application/vnd.jupyter.widget-view+json": {
       "model_id": "ea8f2f2646914bcca4f626029d8008c6",
       "version_major": 2,
       "version_minor": 0
      },
      "text/plain": [
       "总:   0%|          | 0/30 [00:00<?, ?it/s]"
      ]
     },
     "metadata": {},
     "output_type": "display_data"
    },
    {
     "data": {
      "application/vnd.jupyter.widget-view+json": {
       "model_id": "79b0849513224879aabfbe5789d1ece2",
       "version_major": 2,
       "version_minor": 0
      },
      "text/plain": [
       "然:   0%|          | 0/30 [00:00<?, ?it/s]"
      ]
     },
     "metadata": {},
     "output_type": "display_data"
    },
    {
     "data": {
      "application/vnd.jupyter.widget-view+json": {
       "model_id": "9152ae3652ca4e169b328983c62f1b36",
       "version_major": 2,
       "version_minor": 0
      },
      "text/plain": [
       "你:   0%|          | 0/30 [00:00<?, ?it/s]"
      ]
     },
     "metadata": {},
     "output_type": "display_data"
    },
    {
     "data": {
      "application/vnd.jupyter.widget-view+json": {
       "model_id": "1e0760424223400bac3b5f4d30481041",
       "version_major": 2,
       "version_minor": 0
      },
      "text/plain": [
       "人:   0%|          | 0/30 [00:00<?, ?it/s]"
      ]
     },
     "metadata": {},
     "output_type": "display_data"
    },
    {
     "data": {
      "application/vnd.jupyter.widget-view+json": {
       "model_id": "fcf618c2d4ba419fa9e5a1cbc7e5c0fc",
       "version_major": 2,
       "version_minor": 0
      },
      "text/plain": [
       "子:   0%|          | 0/30 [00:00<?, ?it/s]"
      ]
     },
     "metadata": {},
     "output_type": "display_data"
    },
    {
     "data": {
      "application/vnd.jupyter.widget-view+json": {
       "model_id": "ee37a050278648beb52df38fddb4533e",
       "version_major": 2,
       "version_minor": 0
      },
      "text/plain": [
       "日:   0%|          | 0/30 [00:00<?, ?it/s]"
      ]
     },
     "metadata": {},
     "output_type": "display_data"
    },
    {
     "data": {
      "application/vnd.jupyter.widget-view+json": {
       "model_id": "461a09d301314ca38368680f0c81caf0",
       "version_major": 2,
       "version_minor": 0
      },
      "text/plain": [
       "时:   0%|          | 0/30 [00:00<?, ?it/s]"
      ]
     },
     "metadata": {},
     "output_type": "display_data"
    }
   ],
   "source": [
    "samples_source = [[None] * sample_per_class for _ in range(len(chars))]\n",
    "samples = np.empty(shape=(len(chars), sample_per_class, (order + 1) ** 2 - 1))\n",
    "\n",
    "ekmi = EKMI(N, M)\n",
    "\n",
    "for char in chars:\n",
    "    fnames = glob.glob('{}/{}/*.png'.format(DATA_PATH, char))\n",
    "    random.shuffle(fnames)\n",
    "    for i, fname in tqdm(enumerate(fnames[:sample_per_class]), total=sample_per_class, desc=char):\n",
    "        f = cv2.imread(fname)[:, :, 0]\n",
    "        f = preprocess_image_moment(f, N)\n",
    "        Q = ekmi.get_moment(f, order)\n",
    "        samples[char_to_id[char], i, :] = get_feature_vec(Q)\n",
    "        samples_source[char_to_id[char]][i] = fname"
   ]
  },
  {
   "cell_type": "code",
   "execution_count": 22,
   "id": "58d7052d",
   "metadata": {},
   "outputs": [],
   "source": [
    "with open('samples_source.json', 'w') as f:\n",
    "    json.dump(samples_source, f)\n",
    "    \n",
    "with open('samples.npy', 'wb') as f:\n",
    "    np.save(f, samples)"
   ]
  },
  {
   "cell_type": "code",
   "execution_count": 16,
   "id": "42f04fc0",
   "metadata": {},
   "outputs": [],
   "source": [
    "# with open('samples.npy', 'rb') as f:\n",
    "#     samples_loaded = np.load(f)\n",
    "    \n",
    "# with open('samples_source.json', 'r') as f:\n",
    "#     samples_source_loaded = json.load(f)"
   ]
  },
  {
   "cell_type": "code",
   "execution_count": 35,
   "id": "d7206fae",
   "metadata": {},
   "outputs": [],
   "source": [
    "train_source = [x[:-5] for x in samples_source]\n",
    "train = samples[:, :-5, :]\n",
    "test_source = [x[-5:] for x in samples_source]\n",
    "test = samples[:, -5:, :]"
   ]
  },
  {
   "cell_type": "code",
   "execution_count": 135,
   "id": "97bb22b0",
   "metadata": {},
   "outputs": [
    {
     "data": {
      "image/png": "[encoded data removed]",
      "text/plain": [
       "<Figure size 900x288 with 1 Axes>"
      ]
     },
     "metadata": {
      "needs_background": "light"
     },
     "output_type": "display_data"
    },
    {
     "data": {
      "image/png": "[encoded data removed]",
      "text/plain": [
       "<Figure size 900x1440 with 50 Axes>"
      ]
     },
     "metadata": {
      "needs_background": "light"
     },
     "output_type": "display_data"
    }
   ],
   "source": [
    "test_cid, test_i = 10, 4\n",
    "test_sample = test[test_cid, test_i, :]\n",
    "\n",
    "test_img = cv2.imread(test_source[test_cid][test_i])\n",
    "test_img = preprocess_image_moment(test_img[:, :, 0], N)\n",
    "show([test_img])\n",
    "\n",
    "tmp = ((train - test_sample) ** 2).sum(axis=2)\n",
    "pred_cids = tmp.reshape(-1).argsort()[:50]\n",
    "pred_imgs = [None] * 50\n",
    "for i,  pred_cid in enumerate(pred_cids):\n",
    "    pred_cid, pred_i = pred_cid // tmp.shape[1], pred_cid % tmp.shape[1]\n",
    "    pred_imgs[i] = cv2.imread(train_source[pred_cid][pred_i])\n",
    "    pred_imgs[i] = preprocess_image_moment(pred_imgs[i][:, :, 0], N)\n",
    "show(pred_imgs)"
   ]
  },
  {
   "cell_type": "code",
   "execution_count": null,
   "id": "397fea37",
   "metadata": {},
   "outputs": [],
   "source": []
  },
  {
   "cell_type": "code",
   "execution_count": null,
   "id": "ffea8743",
   "metadata": {},
   "outputs": [],
   "source": []
  },
  {
   "cell_type": "code",
   "execution_count": 20,
   "id": "15df0d7e",
   "metadata": {},
   "outputs": [],
   "source": []
  },
  {
   "cell_type": "code",
   "execution_count": null,
   "id": "09948af7",
   "metadata": {},
   "outputs": [],
   "source": []
  }
 ],
 "metadata": {
  "kernelspec": {
   "display_name": "cccr-venv",
   "language": "python",
   "name": "cccr-venv"
  },
  "language_info": {
   "codemirror_mode": {
    "name": "ipython",
    "version": 3
   },
   "file_extension": ".py",
   "mimetype": "text/x-python",
   "name": "python",
   "nbconvert_exporter": "python",
   "pygments_lexer": "ipython3",
   "version": "3.9.5"
  }
 },
 "nbformat": 4,
 "nbformat_minor": 5
}
