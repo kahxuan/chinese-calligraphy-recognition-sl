{
 "cells": [
  {
   "cell_type": "code",
   "execution_count": 4,
   "id": "26acd455",
   "metadata": {},
   "outputs": [],
   "source": [
    "import ctypes\n",
    "import cv2\n",
    "import numpy as np\n",
    "import time"
   ]
  },
  {
   "cell_type": "code",
   "execution_count": 2,
   "id": "e70c3c27",
   "metadata": {},
   "outputs": [],
   "source": [
    "ekmi = ctypes.cdll.LoadLibrary('./../ekmi.so')\n",
    "_get_ekmi = ekmi.get_ekmi\n",
    "_get_ekmi.argtypes = [\n",
    "    ctypes.c_int, \n",
    "    np.ctypeslib.ndpointer(dtype=np.uintp, flags=\"C\", ndim=1), \n",
    "    ctypes.c_int,\n",
    "    ctypes.c_double\n",
    "]\n",
    "_get_ekmi.restype = ctypes.POINTER(ctypes.POINTER(ctypes.c_double))\n",
    "\n",
    "\n",
    "def get_ekmi(order, img, p):\n",
    "    imgpp = (img.__array_interface__['data'][0] + np.arange(img.shape[0])* img.strides[0]).astype(np.uintp) \n",
    "    # run ekmi\n",
    "    tik = time.time()\n",
    "    _res = _get_ekmi(order, imgpp, img.shape[0], p)\n",
    "    tok = time.time()\n",
    "    print(tok - tik)\n",
    "    # copy array\n",
    "    res = np.zeros((order, order))\n",
    "    for i in range(order):\n",
    "        for j in range(order):\n",
    "            res[i, j] = _res[i][j]\n",
    "    ekmi.free_ekmi_rst() # free memory\n",
    "    return res"
   ]
  },
  {
   "cell_type": "code",
   "execution_count": 61,
   "id": "c7765416",
   "metadata": {
    "scrolled": true
   },
   "outputs": [
    {
     "name": "stdout",
     "output_type": "stream",
     "text": [
      "1.9495911598205566\n"
     ]
    },
    {
     "data": {
      "text/plain": [
       "array([[  1.        ,  -0.45454188,  -1.86112781,  -3.22385385,\n",
       "         -4.54631535,  -5.8316861 ,  -7.08278203,  -8.30211321,\n",
       "         -9.4919265 , -10.65424095, -11.79087749, -12.90348376,\n",
       "        -13.9935553 , -15.06245346, -16.11142088],\n",
       "       [  0.83224452,  -0.62204852,  -2.02848505,  -3.39115174,\n",
       "         -4.71363577,  -5.9991038 ,  -7.25036547,  -8.46992531,\n",
       "         -9.66002522, -10.82267989, -11.95970626, -13.07274847,\n",
       "        -14.16329884, -15.23271586, -16.28223953],\n",
       "       [  0.66866118,  -0.7854138 ,  -2.19172789,  -3.55435863,\n",
       "         -4.87688532,  -6.16246765,  -7.41390923,  -8.63370917,\n",
       "         -9.82410462, -10.98710601, -12.1245265 , -13.23800678,\n",
       "        -14.32903611, -15.3989702 , -16.44904652],\n",
       "       [  0.50929451,  -0.94459029,  -2.35080618,  -3.71342189,\n",
       "         -5.03600902,  -6.32172056,  -7.57335421,  -8.7934039 ,\n",
       "         -9.98410215, -11.14745528, -12.28527278, -13.39919203,\n",
       "        -14.49069934, -15.56114771, -16.61177221],\n",
       "       [  0.35415418,  -1.09956584,  -2.50570554,  -3.86832504,\n",
       "         -5.19098848,  -6.47684236,  -7.72867866,  -8.94898627,\n",
       "        -10.13999325, -11.30370194, -12.44191827, -13.55627645,\n",
       "        -14.64825991, -15.71921908, -16.77038667],\n",
       "       [  0.20322389,  -1.25035468,  -2.65643824,  -4.01907859,\n",
       "         -5.34183261,  -6.62784051,  -7.87988871,  -9.10046123,\n",
       "        -10.2917818 , -11.45584892, -12.59446508, -13.70926141,\n",
       "        -14.80171858, -15.87318451, -16.92488968],\n",
       "       [  0.05646805,  -1.3969906 ,  -2.80303646,  -4.16571322,\n",
       "         -5.48857076,  -6.77474312,  -8.02701139,  -9.24785483,\n",
       "        -10.439493  , -11.60392067, -12.74293699, -13.85817015,\n",
       "        -14.95109812, -16.02306643, -17.07530337],\n",
       "       [ -0.08616325,  -1.53952195,  -2.94554714,  -4.30827463,\n",
       "         -5.63124745,  -6.91759372,  -8.17008931,  -9.3912089 ,\n",
       "        -10.58316797, -11.7479577 , -12.88737404, -14.00304227,\n",
       "        -15.09643781, -16.16890384, -17.22166656],\n",
       "       [ -0.22473041,  -1.67800779,  -3.08402812,  -4.44681954,\n",
       "         -5.76991846,  -7.05644722,  -8.30917663,  -9.53057692,\n",
       "        -10.72285964, -11.88801248, -13.02782827, -14.14392953,\n",
       "        -15.23778915, -16.3107481 , -17.36403053],\n",
       "       [ -0.3593014 ,  -1.81251491,  -3.21854514,  -4.58141277,\n",
       "         -5.90464777,  -7.19136686,  -8.44433595,  -9.66602095,\n",
       "        -10.85862961, -12.02414622, -13.16436062, -14.28089262,\n",
       "        -15.37521271, -16.44865967, -17.50245571],\n",
       "       [ -0.48994953,  -1.94311558,  -3.34916954,  -4.71212483,\n",
       "         -6.03550516,  -7.32242181,  -8.57563591,  -9.79760919,\n",
       "        -10.9905457 , -12.15642646, -13.29703838, -14.41399868,\n",
       "        -15.50877551, -16.58270556, -17.63700914],\n",
       "       [ -0.6167517 ,  -2.06988579,  -3.47597649,  -4.83903019,\n",
       "         -6.16256449,  -7.44968538,  -8.70314937,  -9.92541412,\n",
       "        -11.11868009, -12.28492513, -13.42593333, -14.54331939,\n",
       "        -15.63854919, -16.7129574 , -17.76776251],\n",
       "       [ -0.73978709,  -2.19290388,  -3.59904362,  -4.96220584,\n",
       "         -6.2859022 ,  -7.57323356,  -8.82695193, -10.04951102,\n",
       "        -11.24310782, -12.4097171 , -13.55112021, -14.66892941,\n",
       "        -15.7646084 , -16.8394899 , -17.89479061],\n",
       "       [ -0.85913607,  -2.31224949,  -3.71844993,  -5.08173022,\n",
       "         -6.40559627,  -7.69314392,  -8.94712082, -10.16997687,\n",
       "        -11.36390567, -12.530879  , -13.67267557, -14.79090526,\n",
       "        -15.88702969, -16.96237966, -18.01817017],\n",
       "       [ -0.97487944,  -2.42800277,  -3.83427497,  -5.19768239,\n",
       "         -6.52172532,  -7.80949475,  -9.06373407, -10.28688946,\n",
       "        -11.48115126, -12.64848835, -13.79067687, -14.90932442,\n",
       "        -16.00589056, -17.08170427, -18.13797891]])"
      ]
     },
     "execution_count": 61,
     "metadata": {},
     "output_type": "execute_result"
    }
   ],
   "source": [
    "order = 15\n",
    "p = 0.5\n",
    "\n",
    "fname = \"/Users/kx/desktop/1.png\"\n",
    "img = cv2.imread(fname)\n",
    "img = cv2.resize(img, (64, 64))\n",
    "img = (img[:, :, 0] > 0).astype('int32')\n",
    "\n",
    "\n",
    "get_ekmi(order, img, p)"
   ]
  },
  {
   "cell_type": "code",
   "execution_count": 108,
   "id": "aa17f862",
   "metadata": {},
   "outputs": [],
   "source": [
    "import glob\n",
    "import os\n",
    "import matplotlib.pyplot as plt\n",
    "from tqdm.notebook import tqdm\n",
    "from sklearn.neighbors import KNeighborsClassifier"
   ]
  },
  {
   "cell_type": "code",
   "execution_count": 62,
   "id": "5b9239a6",
   "metadata": {},
   "outputs": [],
   "source": [
    "order = 16\n",
    "p = 0.5"
   ]
  },
  {
   "cell_type": "code",
   "execution_count": 63,
   "id": "4a8a1ad7",
   "metadata": {},
   "outputs": [],
   "source": [
    "data_dir = '/Users/kx/Docs/github/git_cccr_sl/chinese-calligraphy-recognition-sl/data/shufadict/clean'\n",
    "chars = [x for x in os.listdir(data_dir) if x[0] != '.']\n",
    "N = 64\n",
    "nclass = 10\n",
    "sample_per_class = 10"
   ]
  },
  {
   "cell_type": "code",
   "execution_count": 64,
   "id": "8541dd39",
   "metadata": {},
   "outputs": [],
   "source": [
    "class_lookup = [None] * nclass\n",
    "data = np.zeros((nclass * sample_per_class, N, N))\n",
    "label = np.zeros((nclass * sample_per_class), dtype='int')\n",
    "feature = np.zeros((nclass * sample_per_class, order, order))"
   ]
  },
  {
   "cell_type": "code",
   "execution_count": 65,
   "id": "3065aa18",
   "metadata": {},
   "outputs": [],
   "source": [
    "for i, char in enumerate(chars[:nclass]):\n",
    "    class_lookup[i] = char\n",
    "    fnames = glob.glob('{}/{}/*.png'.format(data_dir, char))[:sample_per_class]\n",
    "    for j, fname in enumerate(fnames):\n",
    "        img = cv2.imread(fname)\n",
    "        img = cv2.resize(img, (N, N))\n",
    "        img = (img[:, :, 0] > 0).astype('int32')\n",
    "        data[i * nclass + j, :, :] = img\n",
    "        label[i * nclass + j] = i"
   ]
  },
  {
   "cell_type": "code",
   "execution_count": 66,
   "id": "ed101d6f",
   "metadata": {
    "scrolled": true
   },
   "outputs": [
    {
     "data": {
      "application/vnd.jupyter.widget-view+json": {
       "model_id": "4d549e8bbad24adaac80c942cfb335cd",
       "version_major": 2,
       "version_minor": 0
      },
      "text/plain": [
       "  0%|          | 0/100 [00:00<?, ?it/s]"
      ]
     },
     "metadata": {},
     "output_type": "display_data"
    },
    {
     "name": "stdout",
     "output_type": "stream",
     "text": [
      "1.376471996307373\n",
      "1.3500969409942627\n",
      "1.360914945602417\n",
      "1.3588275909423828\n",
      "1.3700690269470215\n",
      "1.3770129680633545\n",
      "1.3690979480743408\n",
      "1.37105393409729\n",
      "1.3759329319000244\n",
      "1.3549540042877197\n",
      "1.351313829421997\n",
      "1.352977991104126\n",
      "1.3575949668884277\n",
      "1.4721829891204834\n",
      "1.4356369972229004\n",
      "1.3977890014648438\n",
      "1.419234037399292\n",
      "1.3748371601104736\n",
      "1.3903021812438965\n",
      "1.390489101409912\n",
      "1.3772258758544922\n",
      "1.3820972442626953\n",
      "1.3907828330993652\n",
      "1.3818669319152832\n",
      "1.387930154800415\n",
      "1.3939497470855713\n",
      "1.3929181098937988\n",
      "1.3865020275115967\n",
      "1.3940048217773438\n",
      "1.4095618724822998\n",
      "1.4539799690246582\n",
      "1.516780138015747\n",
      "1.4343838691711426\n",
      "1.4105720520019531\n",
      "1.4004738330841064\n",
      "1.3785381317138672\n",
      "1.3774049282073975\n",
      "1.3782310485839844\n",
      "1.3771028518676758\n",
      "1.3831679821014404\n",
      "1.3885929584503174\n",
      "1.3840129375457764\n",
      "1.387450933456421\n",
      "1.4055919647216797\n",
      "1.3738539218902588\n",
      "1.387639045715332\n",
      "1.3950510025024414\n",
      "1.3983840942382812\n",
      "1.4178552627563477\n",
      "1.3885042667388916\n",
      "1.3864898681640625\n",
      "1.3811330795288086\n",
      "1.3917210102081299\n",
      "1.4019701480865479\n",
      "1.3942337036132812\n",
      "1.3814809322357178\n",
      "1.3867318630218506\n",
      "1.3871569633483887\n",
      "1.3821251392364502\n",
      "1.3889710903167725\n",
      "1.384416103363037\n",
      "1.3885788917541504\n",
      "1.391618013381958\n",
      "1.3873810768127441\n",
      "1.393653154373169\n",
      "1.3863909244537354\n",
      "1.378829002380371\n",
      "1.3893940448760986\n",
      "1.394606113433838\n",
      "1.390697956085205\n",
      "1.3843128681182861\n",
      "1.389984130859375\n",
      "1.3806638717651367\n",
      "1.378066062927246\n",
      "1.377906084060669\n",
      "1.3836700916290283\n",
      "1.3923871517181396\n",
      "1.387904167175293\n",
      "1.3791089057922363\n",
      "1.3767039775848389\n",
      "1.380289077758789\n",
      "1.3913218975067139\n",
      "1.3767507076263428\n",
      "1.3839209079742432\n",
      "1.3855080604553223\n",
      "1.392819881439209\n",
      "1.38926100730896\n",
      "1.3845138549804688\n",
      "1.3849871158599854\n",
      "1.3821258544921875\n",
      "1.377310037612915\n",
      "1.377701997756958\n",
      "1.3755509853363037\n",
      "1.3827168941497803\n",
      "1.3796870708465576\n",
      "1.3804218769073486\n",
      "1.3815062046051025\n",
      "1.3766789436340332\n",
      "1.3746130466461182\n",
      "1.3743548393249512\n"
     ]
    }
   ],
   "source": [
    "for i in tqdm(range(nclass * sample_per_class)):\n",
    "    img = data[i, :, :]\n",
    "    feature[i, :, :] = get_ekmi(order, img, p)"
   ]
  },
  {
   "cell_type": "code",
   "execution_count": 102,
   "id": "9b969119",
   "metadata": {},
   "outputs": [],
   "source": [
    "test_idxs = np.concatenate([[i * nclass + j for i in range(nclass)] for j in range(2)])\n",
    "test_idxs.sort()\n",
    "train_idxs = [x for x in range(train.shape[0]) if x not in test_idxs]\n",
    "\n",
    "test = train[test_idxs]\n",
    "test_label = label[test_idxs]\n",
    "test_feature = feature[test_idxs]\n",
    "\n",
    "train = train[train_idxs]\n",
    "train_label = label[train_idxs]\n",
    "train_feature = feature[train_idxs]"
   ]
  },
  {
   "cell_type": "code",
   "execution_count": 117,
   "id": "fdd5cdc6",
   "metadata": {},
   "outputs": [],
   "source": [
    "X = train.reshape((train.shape[0], train.shape[1] * train.shape[2]))\n",
    "y = test.reshape((test.shape[0], test.shape[1] * test.shape[2]))"
   ]
  },
  {
   "cell_type": "code",
   "execution_count": 138,
   "id": "e5488a5d",
   "metadata": {
    "scrolled": true
   },
   "outputs": [
    {
     "data": {
      "text/plain": [
       "0.9"
      ]
     },
     "execution_count": 138,
     "metadata": {},
     "output_type": "execute_result"
    }
   ],
   "source": [
    "knn = KNeighborsClassifier(n_neighbors=3)\n",
    "knn.fit(X, train_label)\n",
    "sum(knn.predict(y) == test_label) / len(test_label)"
   ]
  },
  {
   "cell_type": "code",
   "execution_count": 150,
   "id": "001e6ff8",
   "metadata": {},
   "outputs": [],
   "source": [
    "dist = np.zeros((train.shape[0], train.shape[0]))\n",
    "for i in range(train.shape[0]):\n",
    "    for j in range(train.shape[0]):\n",
    "        dist[i, j] = sum(sum((feature[i, :, :] - feature[j, :, :]) ** 2))\n",
    "        \n",
    "np.where((dist > 0) & (dist < 1))"
   ]
  },
  {
   "cell_type": "code",
   "execution_count": 174,
   "id": "dbaecf48",
   "metadata": {},
   "outputs": [
    {
     "data": {
      "text/plain": [
       "82.725"
      ]
     },
     "execution_count": 174,
     "metadata": {},
     "output_type": "execute_result"
    }
   ],
   "source": [
    "9927 / 2 / 60"
   ]
  },
  {
   "cell_type": "code",
   "execution_count": 170,
   "id": "2b4f2c94",
   "metadata": {},
   "outputs": [
    {
     "data": {
      "text/plain": [
       "9927"
      ]
     },
     "execution_count": 170,
     "metadata": {},
     "output_type": "execute_result"
    }
   ],
   "source": [
    "len(glob.glob('{}/*/*.png'.format(data_dir)))"
   ]
  },
  {
   "cell_type": "code",
   "execution_count": null,
   "id": "3418ad57",
   "metadata": {},
   "outputs": [],
   "source": []
  },
  {
   "cell_type": "code",
   "execution_count": null,
   "id": "b940bd49",
   "metadata": {},
   "outputs": [],
   "source": []
  }
 ],
 "metadata": {
  "kernelspec": {
   "display_name": "Python 3",
   "language": "python",
   "name": "python3"
  },
  "language_info": {
   "codemirror_mode": {
    "name": "ipython",
    "version": 3
   },
   "file_extension": ".py",
   "mimetype": "text/x-python",
   "name": "python",
   "nbconvert_exporter": "python",
   "pygments_lexer": "ipython3",
   "version": "3.9.5"
  }
 },
 "nbformat": 4,
 "nbformat_minor": 5
}
