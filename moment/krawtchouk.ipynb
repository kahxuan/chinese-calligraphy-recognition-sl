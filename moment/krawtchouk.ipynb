{
 "cells": [
  {
   "cell_type": "code",
   "execution_count": 134,
   "id": "e61c0f40",
   "metadata": {},
   "outputs": [],
   "source": [
    "import os\n",
    "import time\n",
    "from tqdm.notebook import tqdm\n",
    "from scipy.special import hyp2f1, factorial, comb\n",
    "from sympy.functions.combinatorial.numbers import stirling\n",
    "from math import atan, cos, sin\n",
    "import numpy as np\n",
    "import cv2\n",
    "import matplotlib.pyplot as plt"
   ]
  },
  {
   "cell_type": "code",
   "execution_count": null,
   "id": "154752e9",
   "metadata": {},
   "outputs": [],
   "source": [
    "def get_centroid(img):\n",
    "    \n",
    "    h, w = img.shape\n",
    "\n",
    "    m00 = img.sum()\n",
    "\n",
    "    y = np.repeat(np.expand_dims(np.array(range(h)), 1), w, 1)\n",
    "    m01 = np.multiply(y, img).sum()\n",
    "\n",
    "    x = np.repeat(np.expand_dims(np.array(range(w)), 0), h, 0)\n",
    "    m10 = np.multiply(x, img).sum()\n",
    "\n",
    "    x_c = int(m10 // m00)\n",
    "    y_c = int(m01 // m00)\n",
    "\n",
    "    return x_c, y_c\n",
    "\n",
    "def get_central_moment(img, a, b):\n",
    "    h, w = img.shape\n",
    "    x_c, y_c = get_centroid(f)\n",
    "    x = ((np.array(range(w)) - x_c) ** a).astype('int64')\n",
    "    y = ((np.array(range(h)) - y_c) ** b).astype('int64')\n",
    "    x, y = np.meshgrid(x, y)\n",
    "    retval = np.multiply(x, y)\n",
    "    retval = np.multiply(retval, img.astype('int64'))\n",
    "    return np.sum(retval)"
   ]
  },
  {
   "cell_type": "code",
   "execution_count": 142,
   "id": "9ea2d9e9",
   "metadata": {},
   "outputs": [],
   "source": [
    "# fname = '../data/shufadict/clean/里/00ae48086c117ff5999fb71cbf157d4d.png'\n",
    "# fname = '../data/shufadict/clean/里/3a51dfccf8a32b3a1e0a386488a986b4.png'\n",
    "# fname = '../data/shufadict/clean/里/f078d6b3aad77c232e497a1dc2fc9070.png'\n",
    "# fname = '../data/shufadict/clean/也/49ad5ddd4dfd11874212f56d02d88355.png'\n",
    "# fname = '../data/shufadict/clean/也/bb3c44d77c1568d478b3ff87ebf2bf44.png'"
   ]
  },
  {
   "cell_type": "code",
   "execution_count": 146,
   "id": "b8d3c779",
   "metadata": {},
   "outputs": [],
   "source": [
    "f = (cv2.imread(fname)[:, :, 0] // 255).astype('uint8')\n",
    "\n",
    "N, M = 32, 32\n",
    "f = cv2.resize(f, (N, M))"
   ]
  },
  {
   "cell_type": "code",
   "execution_count": 147,
   "id": "9e801daa",
   "metadata": {},
   "outputs": [
    {
     "data": {
      "text/plain": [
       "<matplotlib.image.AxesImage at 0x7fc3b863ac40>"
      ]
     },
     "execution_count": 147,
     "metadata": {},
     "output_type": "execute_result"
    },
    {
     "data": {
      "image/png": "[encoded data removed]",
      "text/plain": [
       "<Figure size 432x288 with 1 Axes>"
      ]
     },
     "metadata": {
      "needs_background": "light"
     },
     "output_type": "display_data"
    }
   ],
   "source": [
    "plt.imshow(f)"
   ]
  },
  {
   "cell_type": "code",
   "execution_count": 149,
   "id": "916aa656",
   "metadata": {},
   "outputs": [],
   "source": [
    "memo_comb = np.empty((max(N, M) + 1, max(N, M) + 1))\n",
    "memo_factorial = np.empty(max(N, M) * 2 + 1)\n",
    "memo_factorial[:] = np.nan\n",
    "memo_comb[:] = np.nan\n",
    "\n",
    "def my_comb(a, b):\n",
    "    if np.isnan(memo_comb[a, b]):\n",
    "        memo_comb[a, b] = comb(a, b, exact=True)\n",
    "    return memo_comb[a, b]\n",
    "\n",
    "\n",
    "def my_factorial(n):\n",
    "    if np.isnan(memo_factorial[n]):\n",
    "        memo_factorial[n] = factorial(n)\n",
    "    return memo_factorial[n]"
   ]
  },
  {
   "cell_type": "code",
   "execution_count": 172,
   "id": "828f8b3d",
   "metadata": {},
   "outputs": [],
   "source": [
    "memo_K = np.empty((max(N, M) * 2 + 1, max(N, M) * 2 + 1))\n",
    "memo_K[:] = np.nan\n",
    "\n",
    "def K(n, x, p, N):\n",
    "    if np.isnan(memo_K[n, x]):\n",
    "        memo_K[n, x] = hyp2f1(-n, -x, -N, 1/p)\n",
    "        if np.isnan(memo_K[n, x]):\n",
    "            memo_K[n, x] = 0\n",
    "    return memo_K[n, x]\n",
    "\n",
    "\n",
    "# def K(n, x, p, N):\n",
    "#     [c(n, i, N, p) for i in range(n)]\n",
    "#     if np.isnan(memo_K[n, x]):\n",
    "#         memo_K[n, x] = 0\n",
    "#         np.multiply(memo_c[n, 0:n], np.array([x**i for i in range(n)]))\n",
    "#     return memo_K[n, x]"
   ]
  },
  {
   "cell_type": "code",
   "execution_count": 173,
   "id": "e4b622d6",
   "metadata": {},
   "outputs": [],
   "source": [
    "memo_tilda_K = np.empty((N * 2 + 1, M * 2 + 1))\n",
    "memo_c = np.empty((max(N, M) * 2 + 1, max(N, M) * 2 + 1))\n",
    "memo_d = np.empty((max(N, M) * 2 + 1, max(N, M) * 2 + 1))\n",
    "memo_d[:] = np.nan\n",
    "memo_c[:] = np.nan\n",
    "memo_tilda_K[:] = np.nan\n",
    "\n",
    "\n",
    "def tilda_K(n, m, f, p):\n",
    "    if np.isnan(memo_tilda_K[n, m]):\n",
    "        N, M = f.shape\n",
    "        memo_tilda_K[n, m] = 0\n",
    "        for x in range(N):\n",
    "            for y in range(M):\n",
    "                memo_tilda_K[n, m] += f[x, y] * K(n, x, p, N) * K(m, y, p, M)\n",
    "    return memo_tilda_K[n, m]\n",
    "\n",
    "\n",
    "def c(n, i, N, p):\n",
    "    if np.isnan(memo_c[n, i]):\n",
    "        memo_c[n, i] = 0\n",
    "        for k in range(i, n + 1):\n",
    "            num = (-1 ** k) * my_factorial(n) * my_factorial(N - k)\n",
    "            denom = (p ** k) * my_factorial(N) * my_factorial(k) * my_factorial(n - k)\n",
    "            memo_c[n, i] += num / denom * stirling(k, i, kind=1)\n",
    "    return memo_c[n, i]\n",
    "\n",
    "\n",
    "def d(i, s, N, p):\n",
    "    if np.isnan(memo_d[i, s]):\n",
    "        memo_d[i, s] = 0\n",
    "        for m in range(s, i + 1):\n",
    "            num = (-1 ** s) * my_factorial(m) * my_factorial(N) * (p ** m)\n",
    "            denom = my_factorial(m - s) * my_factorial(N - m) * my_factorial(m)\n",
    "            memo_d[i, s] += stirling(i, m, kind=2) * num / (denom + 1e-100) # TODO\n",
    "            \n",
    "\n",
    "    return memo_d[i, s]"
   ]
  },
  {
   "cell_type": "code",
   "execution_count": 174,
   "id": "b865c2dd",
   "metadata": {},
   "outputs": [
    {
     "data": {
      "application/vnd.jupyter.widget-view+json": {
       "model_id": "795b247b44b046b98a8e907366ace7bb",
       "version_major": 2,
       "version_minor": 0
      },
      "text/plain": [
       "  0%|          | 0/65 [00:00<?, ?it/s]"
      ]
     },
     "metadata": {},
     "output_type": "display_data"
    }
   ],
   "source": [
    "N, M = f.shape\n",
    "p = 0.5\n",
    "\n",
    "# TODO: filled memo_d and memo_tilda_K?\n",
    "for i in tqdm(range(memo_d.shape[0])):\n",
    "    for j in range(memo_d.shape[1]):\n",
    "        d(i, j, N, p)"
   ]
  },
  {
   "cell_type": "code",
   "execution_count": 175,
   "id": "fef497d7",
   "metadata": {},
   "outputs": [
    {
     "data": {
      "application/vnd.jupyter.widget-view+json": {
       "model_id": "19e9fe1f7e104f3f8ca4e7d233c4e338",
       "version_major": 2,
       "version_minor": 0
      },
      "text/plain": [
       "  0%|          | 0/65 [00:00<?, ?it/s]"
      ]
     },
     "metadata": {},
     "output_type": "display_data"
    }
   ],
   "source": [
    "for i in tqdm(range(memo_tilda_K.shape[0])):\n",
    "    for j in range(memo_tilda_K.shape[1]):\n",
    "        tilda_K(i, j, f, p)"
   ]
  },
  {
   "cell_type": "code",
   "execution_count": 176,
   "id": "905c4b47",
   "metadata": {},
   "outputs": [],
   "source": [
    "def Irs(n, m, f, p):\n",
    "    \n",
    "    N, M = f.shape\n",
    "    \n",
    "#     # TODO: filled memo_d and memo_tilda_K?\n",
    "#     for i in range(memo_d.shape[0]):\n",
    "#         for j in range(memo_d.shape[1]):\n",
    "#             d(i, j, N, p)\n",
    "#     for i in range(memo_tilda_K.shape[0]):\n",
    "#         for j in range(memo_tilda_K.shape[1]):\n",
    "#             tilda_K(i, j, f, p)\n",
    "\n",
    "    u = 2 * get_central_moment(f, 2, 2) * get_central_moment(f, 0, 0) / (get_central_moment(f, 1, 1) ** 2)\n",
    "    v = 2 * get_central_moment(f, 2, 2) * (get_central_moment(f, 1, 0) ** 2) / (get_central_moment(f, 0, 0) * (get_central_moment(f, 1, 1) ** 2))\n",
    "\n",
    "    delta_f = tilda_K(0, 0, f, 0.5)\n",
    "    theta_f = 0.5 * atan(\n",
    "        (u * tilda_K(1, 1, f, 0.5) - u * tilda_K(0, 0, f, 0.5)) / \n",
    "        (tilda_K(2, 0, f, 0.5) - tilda_K(0, 2, f, 0.5))\n",
    "    )\n",
    "    cos_theta_f = cos(theta_f)\n",
    "    sin_theta_f = sin(theta_f)\n",
    "    Irs_nm = 0\n",
    "\n",
    "    for i in range(n + 1):\n",
    "        \n",
    "        term4 = c(n, i, N, p)\n",
    "        \n",
    "        for j in range(m + 1):\n",
    "            \n",
    "            term5 = c(m, j, N, p)\n",
    "            term8 = delta_f ** (- (i + j + 2) / 2)\n",
    "            \n",
    "            for s in range(i + 1):\n",
    "                \n",
    "                term2 = my_comb(i, s)\n",
    "                \n",
    "                for t in range(j + 1):\n",
    "                    term1 = (-1) ** (j - t)\n",
    "                    term3 = my_comb(j, t)\n",
    "                    term9 = cos_theta_f ** (i + t - s)\n",
    "                    term10 = sin_theta_f ** (j - t + s)\n",
    "\n",
    "                    term7 = memo_d[s + t, 0:s + t + 1]\n",
    "                    term6 = memo_d[i + j - s - t, 0:i + j - s - t + 1]\n",
    "\n",
    "                    term7, term6 = np.meshgrid(term7, term6)\n",
    "                    term11 = memo_tilda_K[0:i + j - s - t + 1, 0:s + t + 1]\n",
    "                    \n",
    "                    term6_7_11 = np.multiply(term6, term7)\n",
    "                    term6_7_11 = np.multiply(term6_7_11, term11)\n",
    "                    term6_7_11 = np.sum(term6_7_11)\n",
    "                    \n",
    "                    tmp = term1 * \\\n",
    "                        term2 * \\\n",
    "                        term3 * \\\n",
    "                        term4 * term5 * \\\n",
    "                        term8 * \\\n",
    "                        term9 * \\\n",
    "                        term10 * \\\n",
    "                        term6_7_11\n",
    "                    Irs_nm += tmp\n",
    "\n",
    "    return Irs_nm"
   ]
  },
  {
   "cell_type": "code",
   "execution_count": 177,
   "id": "c1b818d9",
   "metadata": {},
   "outputs": [
    {
     "name": "stdout",
     "output_type": "stream",
     "text": [
      "0.03798723220825195 22.958334402986583\n"
     ]
    }
   ],
   "source": [
    "tik = time.time()\n",
    "Irs_nm = Irs(1, 16, f, p=0.5)\n",
    "tok = time.time()\n",
    "print(tok - tik, Irs_nm)"
   ]
  },
  {
   "cell_type": "code",
   "execution_count": 178,
   "id": "73cf8eeb",
   "metadata": {
    "scrolled": true
   },
   "outputs": [
    {
     "data": {
      "application/vnd.jupyter.widget-view+json": {
       "model_id": "6e86c9bedd4f4f94b016fea8c12e3cc6",
       "version_major": 2,
       "version_minor": 0
      },
      "text/plain": [
       "  0%|          | 0/4 [00:00<?, ?it/s]"
      ]
     },
     "metadata": {},
     "output_type": "display_data"
    }
   ],
   "source": [
    "Q = np.empty((N, M))\n",
    "Q[:] = np.nan\n",
    "    \n",
    "# for i in tqdm(range(N)):\n",
    "#     for j in range(M):\n",
    "for i in tqdm(range(4)):\n",
    "    for j in range(4):\n",
    "        Q[i, j] = Irs(i, j, f, p=0.5)"
   ]
  },
  {
   "cell_type": "code",
   "execution_count": null,
   "id": "133bdf63",
   "metadata": {},
   "outputs": [],
   "source": []
  },
  {
   "cell_type": "markdown",
   "id": "a9e3bda0",
   "metadata": {},
   "source": [
    "## (over) Vectorisation"
   ]
  },
  {
   "cell_type": "code",
   "execution_count": 105,
   "id": "666dbb05",
   "metadata": {},
   "outputs": [],
   "source": [
    "def Irs(n, m, f, p):\n",
    "\n",
    "    # =====================================\n",
    "\n",
    "    N, M = f.shape\n",
    "\n",
    "\n",
    "    for i in range(memo_c.shape[0]):\n",
    "        for j in range(memo_c.shape[1]):\n",
    "            c(i, j, N, p)\n",
    "    for i in range(memo_d.shape[0]):\n",
    "        for j in range(memo_d.shape[1]):\n",
    "            d(i, j, N, p)\n",
    "    for i in range(memo_tilda_K.shape[0]):\n",
    "        for j in range(memo_tilda_K.shape[1]):\n",
    "            tilda_K(i, j, f, p)\n",
    "    for i in range(memo_comb.shape[0]):\n",
    "        for j in range(memo_comb.shape[1]):\n",
    "            my_comb(i, j)\n",
    "\n",
    "    u = 2 * get_central_moment(f, 2, 2) * get_central_moment(f, 0, 0) / (get_central_moment(f, 1, 1) ** 2)\n",
    "    v = 2 * get_central_moment(f, 2, 2) * (get_central_moment(f, 1, 0) ** 2) / (get_central_moment(f, 0, 0) * (get_central_moment(f, 1, 1) ** 2))\n",
    "\n",
    "    delta_f = tilda_K(0, 0, f, 0.5)\n",
    "    theta_f = 0.5 * atan(\n",
    "        (u * tilda_K(1, 1, f, 0.5) - u * tilda_K(0, 0, f, 0.5)) / \n",
    "        (tilda_K(2, 0, f, 0.5) - tilda_K(0, 2, f, 0.5))\n",
    "    )\n",
    "    cos_theta_f = cos(theta_f)\n",
    "    sin_theta_f = sin(theta_f)\n",
    "    Irs_nm = 0\n",
    "\n",
    "\n",
    "    # =====================================\n",
    "\n",
    "    for i in range(n + 1):\n",
    "        \n",
    "        term4 = c(n, i, N, p)\n",
    "\n",
    "        for j in range(m + 1):\n",
    "\n",
    "            term5 = c(m, j, N, p)\n",
    "            term8 = delta_f ** (- (i + j + 2) / 2)\n",
    "\n",
    "\n",
    "            # =============================================\n",
    "            s = np.array(range(0, i + 1))\n",
    "\n",
    "            t = np.array(range(0, j + 1))\n",
    "            t = np.expand_dims(t, axis=0).repeat(np.shape(s)[0], axis=0)\n",
    "            s = np.expand_dims(s, axis=-1).repeat(t.shape[-1], axis=-1)\n",
    "\n",
    "\n",
    "            a, b = np.meshgrid(s[:, 0], t[0, :])\n",
    "            r = i + j - a - b + 1\n",
    "            r = np.array([(r - x) for x in range(r.max(), 0, -1)]).T\n",
    "            r = np.maximum(r, -1)\n",
    "            s = np.expand_dims(s, axis=-1).repeat(r.shape[-1], axis=-1)\n",
    "            t = np.expand_dims(t, axis=-1).repeat(r.shape[-1], axis=-1)\n",
    "\n",
    "            a, b = np.meshgrid(s[:, 0, 0], t[0, :, 0])\n",
    "            l = a + b + 1\n",
    "            l = np.array([(l - x) for x in range(l.max(), 0, -1)]).T\n",
    "            l = np.maximum(l, -1)\n",
    "            l = np.expand_dims(l, axis=2).repeat(r.shape[2], axis=-2)\n",
    "            s = np.expand_dims(s, axis=-1).repeat(l.shape[-1], axis=-1)\n",
    "            t = np.expand_dims(t, axis=-1).repeat(l.shape[-1], axis=-1)\n",
    "            r = np.expand_dims(r, axis=-1).repeat(l.shape[-1], axis=-1)        \n",
    "            # =============================================\n",
    "\n",
    "            term1 = np.power(-1, j - t)\n",
    "            term2 = memo_comb[i, s]\n",
    "            term3 = memo_comb[j, t]\n",
    "            term6 = memo_d[i + j - s - t, r]\n",
    "            term7 = memo_d[s + t, l]\n",
    "            term9 = np.power(cos_theta_f, i + t - s)\n",
    "            term10 = np.power(sin_theta_f, j - t + s)\n",
    "            term11 = memo_tilda_K[r, l]\n",
    "            \n",
    "\n",
    "            tmp = [term1, term2, term3, term6, term7, term9, term10, term11]\n",
    "            tmp += [s!=-1, t!=-1, r!=-1, l!=-1]\n",
    "            tmp = np.prod(np.array(tmp), axis=0)\n",
    "            tmp = tmp.sum()\n",
    "            Irs_nm += tmp * term4 * term5 * term8\n",
    "            \n",
    "    return Irs_nm"
   ]
  },
  {
   "cell_type": "code",
   "execution_count": 106,
   "id": "8f2704f4",
   "metadata": {},
   "outputs": [
    {
     "name": "stderr",
     "output_type": "stream",
     "text": [
      "/var/folders/g4/bkdm_ks93mb92cqpsfgpyldr0000gn/T/ipykernel_5158/2765092938.py:10: RuntimeWarning: invalid value encountered in double_scalars\n",
      "  memo_c[n, i] += num / denom * stirling(k, i, kind=1)\n"
     ]
    },
    {
     "name": "stdout",
     "output_type": "stream",
     "text": [
      "3.9376220703125 10.899358860993468\n"
     ]
    }
   ],
   "source": [
    "tik = time.time()\n",
    "Irs_nm = Irs(1, 16, f, p=0.5)\n",
    "tok = time.time()\n",
    "print(tok - tik, Irs_nm)"
   ]
  },
  {
   "cell_type": "code",
   "execution_count": 1055,
   "id": "aa170477",
   "metadata": {},
   "outputs": [],
   "source": [
    "# sanity check\n",
    "\n",
    "# check t\n",
    "for s_idx in range(i + 1):\n",
    "    assert(t[s_idx, 0, 0, 0] in [0, -1])\n",
    "    assert(t[s_idx, -1, 0, 0] == j)\n",
    "    \n",
    "# check r\n",
    "for s_idx in range(i + 1):\n",
    "    for t_idx in range(j + 1):\n",
    "        assert(r[s_idx, t_idx, 0, 0] in [0, -1])\n",
    "        assert(r[s_idx, t_idx, -1, 0] == i + j - s_idx - t_idx)\n",
    "        \n",
    "# check l\n",
    "for s_idx in range(i + 1):\n",
    "    for t_idx in range(j + 1):\n",
    "        for r_idx in range(i + j - s_idx - t_idx + 1):\n",
    "            assert(l[s_idx, t_idx, r_idx, 0] in [0, -1])\n",
    "            assert(l[s_idx, t_idx, r_idx, -1] == s_idx + t_idx)"
   ]
  },
  {
   "cell_type": "code",
   "execution_count": null,
   "id": "b9a54a62",
   "metadata": {},
   "outputs": [],
   "source": []
  },
  {
   "cell_type": "code",
   "execution_count": null,
   "id": "7954ee9d",
   "metadata": {},
   "outputs": [],
   "source": []
  }
 ],
 "metadata": {
  "kernelspec": {
   "display_name": "cccr-venv",
   "language": "python",
   "name": "cccr-venv"
  },
  "language_info": {
   "codemirror_mode": {
    "name": "ipython",
    "version": 3
   },
   "file_extension": ".py",
   "mimetype": "text/x-python",
   "name": "python",
   "nbconvert_exporter": "python",
   "pygments_lexer": "ipython3",
   "version": "3.9.5"
  }
 },
 "nbformat": 4,
 "nbformat_minor": 5
}
