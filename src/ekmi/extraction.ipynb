{
 "cells": [
  {
   "cell_type": "code",
   "execution_count": 6,
   "id": "4e70290f",
   "metadata": {},
   "outputs": [],
   "source": [
    "import os\n",
    "import glob\n",
    "import time\n",
    "import json\n",
    "from tqdm.notebook import tqdm\n",
    "import cv2\n",
    "import numpy as np\n",
    "from ekmipy import ekmi"
   ]
  },
  {
   "cell_type": "code",
   "execution_count": 7,
   "id": "260684dc",
   "metadata": {},
   "outputs": [],
   "source": [
    "order = 20\n",
    "p = 0.5\n",
    "N = 64\n",
    "\n",
    "so_path = './ekmi.so'\n",
    "feature_single_dir = 'extracted/feature_{}_{}'.format(N, order)\n",
    "feature_path = 'extracted/ekmi_{}_{}.npy'.format(N, order)\n",
    "fnames_path = 'extracted/fnames.json'\n",
    "get_ekmi = ekmi(so_path)\n",
    "\n",
    "if not os.path.isdir(feature_single_dir):\n",
    "    os.mkdir(feature_single_dir)"
   ]
  },
  {
   "cell_type": "code",
   "execution_count": 8,
   "id": "2d55a5fd",
   "metadata": {},
   "outputs": [],
   "source": [
    "data_dir = '/Users/kx/Docs/github/git_cccr_sl/chinese-calligraphy-recognition-sl/data/'\n",
    "# fnames = glob.glob(data_dir + '*/clean/*/*.png')\n",
    "# fnames = sorted(fnames, key=lambda x: x.split('/')[-2])\n",
    "\n",
    "with open(fnames_path, 'r') as f:\n",
    "    fnames_short = json.load(f)\n",
    "    \n",
    "fnames = [data_dir + x for x in fnames_short]"
   ]
  },
  {
   "cell_type": "code",
   "execution_count": 9,
   "id": "f34083f9",
   "metadata": {},
   "outputs": [
    {
     "data": {
      "application/vnd.jupyter.widget-view+json": {
       "model_id": "2bdc9bb2a5f94a7cab335ec556772e21",
       "version_major": 2,
       "version_minor": 0
      },
      "text/plain": [
       "  0%|          | 0/10035 [00:00<?, ?it/s]"
      ]
     },
     "metadata": {},
     "output_type": "display_data"
    }
   ],
   "source": [
    "feature = np.zeros((len(fnames), order, order))\n",
    "\n",
    "for i, fname in tqdm(enumerate(fnames), total=len(fnames)):\n",
    "    \n",
    "    path = os.path.join(feature_single_dir, str(i) + '.npy')\n",
    "    \n",
    "    if not os.path.isfile(path):\n",
    "        img = cv2.imread(fname)\n",
    "        img = cv2.resize(img, (N, N))\n",
    "        img = (img[:, :, 0] > 0).astype('int32')\n",
    "        feature[i, :, :] = get_ekmi(order, img, p)\n",
    "\n",
    "\n",
    "        with open(path, 'wb') as f:\n",
    "            np.save(f, feature[i, :, :])\n",
    "            \n",
    "    else:\n",
    "        with open(path, 'rb') as f:\n",
    "            feature[i, :, :] = np.load(f)"
   ]
  },
  {
   "cell_type": "code",
   "execution_count": 5,
   "id": "f78969c1",
   "metadata": {},
   "outputs": [],
   "source": [
    "with open(feature_path, 'wb') as f:\n",
    "    np.save(f, feature)\n",
    "\n",
    "with open(feature_path, 'rb') as f:\n",
    "    feature_loaded = np.load(f)"
   ]
  },
  {
   "cell_type": "code",
   "execution_count": null,
   "id": "a1ec6bce",
   "metadata": {},
   "outputs": [],
   "source": []
  }
 ],
 "metadata": {
  "kernelspec": {
   "display_name": "Python 3",
   "language": "python",
   "name": "python3"
  },
  "language_info": {
   "codemirror_mode": {
    "name": "ipython",
    "version": 3
   },
   "file_extension": ".py",
   "mimetype": "text/x-python",
   "name": "python",
   "nbconvert_exporter": "python",
   "pygments_lexer": "ipython3",
   "version": "3.9.5"
  }
 },
 "nbformat": 4,
 "nbformat_minor": 5
}
