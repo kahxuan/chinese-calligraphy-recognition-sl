{
 "cells": [
  {
   "cell_type": "code",
   "execution_count": 1,
   "id": "26acd455",
   "metadata": {},
   "outputs": [],
   "source": [
    "import ctypes\n",
    "import cv2\n",
    "import numpy as np\n",
    "import time"
   ]
  },
  {
   "cell_type": "code",
   "execution_count": 2,
   "id": "e70c3c27",
   "metadata": {},
   "outputs": [],
   "source": [
    "ekmi = ctypes.cdll.LoadLibrary('./../ekmi.dylib')\n",
    "get_ekmi = ekmi.get_ekmi\n",
    "get_ekmi.argtypes = [\n",
    "    ctypes.c_int, \n",
    "    np.ctypeslib.ndpointer(dtype=np.uintp, flags=\"C\", ndim=1), \n",
    "    ctypes.c_int,\n",
    "    ctypes.c_double\n",
    "]\n",
    "get_ekmi.restype = ctypes.POINTER(ctypes.POINTER(ctypes.c_double))"
   ]
  },
  {
   "cell_type": "code",
   "execution_count": 3,
   "id": "a64c0fbc",
   "metadata": {},
   "outputs": [
    {
     "name": "stdout",
     "output_type": "stream",
     "text": [
      "0.5625388622283936\n"
     ]
    }
   ],
   "source": [
    "img = (cv2.imread(fname)[:, :, 0] > 0).astype('int32')\n",
    "\n",
    "\n",
    "fname = \"/Users/kx/desktop/1.png\"\n",
    "order = 5\n",
    "p = 0.5\n",
    "imgpp = (img.__array_interface__['data'][0] + np.arange(img.shape[0])* img.strides[0]).astype(np.uintp) \n",
    "\n",
    "tik = time.time()\n",
    "result = get_ekmi(order, imgpp, img.shape[0], p)\n",
    "tok = time.time()\n",
    "print(tok - tik)"
   ]
  },
  {
   "cell_type": "code",
   "execution_count": 7,
   "id": "3684130c",
   "metadata": {},
   "outputs": [
    {
     "name": "stdout",
     "output_type": "stream",
     "text": [
      "1.0000 -0.4510 -1.8787 -3.2840 -4.6679 \n",
      "0.8419 -0.6090 -2.0367 -3.4419 -4.8258 \n",
      "0.6860 -0.7649 -2.1925 -3.5978 -4.9816 \n",
      "0.5322 -0.9186 -2.3462 -3.7515 -5.1354 \n",
      "0.3806 -1.0702 -2.4978 -3.9031 -5.2870 \n",
      "\n"
     ]
    }
   ],
   "source": [
    "s = \"\"\n",
    "for i in range(order):\n",
    "    for j in range(order):\n",
    "        s += \"{:2.4f} \".format(result[i][j])\n",
    "    s += '\\n'\n",
    "print(s)"
   ]
  },
  {
   "cell_type": "code",
   "execution_count": null,
   "id": "fb9c4345",
   "metadata": {},
   "outputs": [],
   "source": []
  },
  {
   "cell_type": "code",
   "execution_count": null,
   "id": "4d87175b",
   "metadata": {},
   "outputs": [],
   "source": []
  }
 ],
 "metadata": {
  "kernelspec": {
   "display_name": "Python 3",
   "language": "python",
   "name": "python3"
  },
  "language_info": {
   "codemirror_mode": {
    "name": "ipython",
    "version": 3
   },
   "file_extension": ".py",
   "mimetype": "text/x-python",
   "name": "python",
   "nbconvert_exporter": "python",
   "pygments_lexer": "ipython3",
   "version": "3.9.5"
  }
 },
 "nbformat": 4,
 "nbformat_minor": 5
}
