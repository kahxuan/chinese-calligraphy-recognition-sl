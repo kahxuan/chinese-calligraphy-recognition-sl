{
 "cells": [
  {
   "cell_type": "code",
   "execution_count": 1,
   "id": "682a3266",
   "metadata": {},
   "outputs": [],
   "source": [
    "import sys\n",
    "sys.path.insert(0,'..')\n",
    "\n",
    "import os\n",
    "import json\n",
    "import glob \n",
    "import numpy as np\n",
    "import pandas as pd\n",
    "import cv2\n",
    "import matplotlib.pyplot as plt\n",
    "import matplotlib as mpl\n",
    "\n",
    "from image_processing.utils import show\n",
    "from image_processing.utils import show\n",
    "from image_processing.preprocessing import (\n",
    "    remove_padding,\n",
    "    pad_to_square\n",
    ")"
   ]
  },
  {
   "cell_type": "markdown",
   "id": "80b600f9",
   "metadata": {},
   "source": [
    "# KDE"
   ]
  },
  {
   "cell_type": "code",
   "execution_count": 2,
   "id": "d8577920",
   "metadata": {},
   "outputs": [],
   "source": [
    "import random\n",
    "import scipy.stats as stats\n",
    "# from statsmodels.nonparametric.kernel_density import KDEMultivariate\n",
    "from tqdm.notebook import tqdm\n",
    "from multiprocess import Pool"
   ]
  },
  {
   "cell_type": "code",
   "execution_count": 3,
   "id": "1aeb6a58",
   "metadata": {},
   "outputs": [],
   "source": [
    "DATA_DIR = '/Users/kx/Docs/github/git_cccr_sl/chinese-calligraphy-recognition-sl/data/cccr'\n",
    "N = 16"
   ]
  },
  {
   "cell_type": "code",
   "execution_count": 4,
   "id": "bc27a10a",
   "metadata": {},
   "outputs": [],
   "source": [
    "def get_kernel_contour(kernel, N, step, cmap, norm_const=None):\n",
    "    \n",
    "    # get meshgrid and its coordinates\n",
    "    xx, yy = np.mgrid[0:N:step, 0:N:step]\n",
    "    positions = np.vstack([xx.ravel(), yy.ravel()])\n",
    "\n",
    "    # estimation\n",
    "    f = np.reshape(kernel(positions).T, xx.shape)\n",
    "    \n",
    "    if cmap:\n",
    "        if norm_const is None:\n",
    "            f = mpl.cm.coolwarm((f - f.min()) / f.max())\n",
    "        else:\n",
    "            f = mpl.cm.coolwarm(f / norm_const)\n",
    "    \n",
    "    return f\n",
    "    "
   ]
  },
  {
   "cell_type": "markdown",
   "id": "23f8520a",
   "metadata": {},
   "source": [
    "## Preprocess data"
   ]
  },
  {
   "cell_type": "code",
   "execution_count": 5,
   "id": "ac9acc1f",
   "metadata": {},
   "outputs": [],
   "source": [
    "DATA_DIR = '/Users/kx/Docs/github/git_cccr_sl/chinese-calligraphy-recognition-sl/data/cccr_norm'\n",
    "chars = [x[-4] + x[-2] for x in glob.glob(DATA_DIR + '/train/*/*/')]"
   ]
  },
  {
   "cell_type": "code",
   "execution_count": 6,
   "id": "fa425f77",
   "metadata": {},
   "outputs": [],
   "source": [
    "N, M = 32, 32\n",
    "\n",
    "def read_data(data_dir):\n",
    "    images = np.zeros((len(glob.glob(data_dir + '/*/*/*.png')), N, M))\n",
    "    labels = np.zeros(len(images), dtype='int')\n",
    "    fnames = [None] * len(images)\n",
    "\n",
    "    i = 0\n",
    "    for folder in glob.glob(data_dir + '/*/*/'):\n",
    "        tmp = folder.split('/')\n",
    "        char = tmp[-3]\n",
    "        variant = tmp[-2]\n",
    "        label = np.where(np.array(chars) == (char + variant))[0][0]\n",
    "        for file in glob.glob(data_dir + '/{}/{}/*.png'.format(char, variant)):\n",
    "            img = cv2.resize(cv2.imread(file), (M, N))[:, :, 0]\n",
    "            img = (img > img.max() / 2 - (img.max()/ 100)).astype('int')\n",
    "            images[i, :, :] = img\n",
    "            labels[i] = label\n",
    "            fnames[i] = '/'.join(file.split('/')[-3:])\n",
    "            i += 1\n",
    "            \n",
    "    return images, labels, fnames\n",
    "\n",
    "imgs_train, y_train, fnames_train = read_data(os.path.join(DATA_DIR, 'train'))\n",
    "imgs_valid, y_valid, fnames_valid = read_data(os.path.join(DATA_DIR, 'validation'))\n",
    "imgs_test, y_test, fnames_test = read_data(os.path.join(DATA_DIR, 'test'))"
   ]
  },
  {
   "cell_type": "markdown",
   "id": "ac8e95f0",
   "metadata": {},
   "source": [
    "## PDF Estimation"
   ]
  },
  {
   "cell_type": "code",
   "execution_count": 8,
   "id": "7044f1be",
   "metadata": {},
   "outputs": [],
   "source": [
    "def get_likelihood(kernel, coords):\n",
    "    return np.log(kernel(coords)).sum()\n",
    "\n",
    "def get_coords(img):\n",
    "    return np.argwhere(img).T"
   ]
  },
  {
   "cell_type": "code",
   "execution_count": 9,
   "id": "2eed330b",
   "metadata": {},
   "outputs": [
    {
     "data": {
      "application/vnd.jupyter.widget-view+json": {
       "model_id": "7dd5b3001e90434fbd6458679665b40b",
       "version_major": 2,
       "version_minor": 0
      },
      "text/plain": [
       "  0%|          | 0/120 [00:00<?, ?it/s]"
      ]
     },
     "metadata": {},
     "output_type": "display_data"
    }
   ],
   "source": [
    "bw_method = 'scott'\n",
    "\n",
    "Xs = [None] * len(chars)\n",
    "kernels = [None] * len(chars)\n",
    "for i in tqdm(range(len(chars))):\n",
    "    imgs = imgs_train[y_train == i]\n",
    "    Xs[i] = np.concatenate([get_coords(img) for img in imgs], axis=1).T\n",
    "    kernels[i] = stats.gaussian_kde(Xs[i].T, bw_method=bw_method)"
   ]
  },
  {
   "cell_type": "code",
   "execution_count": 10,
   "id": "d45f2d99",
   "metadata": {},
   "outputs": [
    {
     "data": {
      "image/png": "[encoded data removed]",
      "text/plain": [
       "<Figure size 900x288 with 3 Axes>"
      ]
     },
     "metadata": {
      "needs_background": "light"
     },
     "output_type": "display_data"
    }
   ],
   "source": [
    "idxs = [3, 4, 49]\n",
    "contours = [get_kernel_contour(kernels[i], N=N, step=16j, cmap=True) for i in idxs]\n",
    "show(contours)"
   ]
  },
  {
   "cell_type": "markdown",
   "id": "1f65b935",
   "metadata": {},
   "source": [
    "## Inference (without optimization)"
   ]
  },
  {
   "cell_type": "code",
   "execution_count": 61,
   "id": "2e191fc3",
   "metadata": {},
   "outputs": [],
   "source": [
    "cache_valid_path = 'pred_cache/validation_{}_{}.npy'.format(bw_method, N)\n",
    "cache_test_path = 'pred_cache/test_{}_{}.npy'.format(bw_method, N)"
   ]
  },
  {
   "cell_type": "code",
   "execution_count": 62,
   "id": "49555aaa",
   "metadata": {},
   "outputs": [],
   "source": [
    "imgs_pred = imgs_valid\n",
    "y_pred_true = y_valid\n",
    "cache_path = cache_valid_path"
   ]
  },
  {
   "cell_type": "code",
   "execution_count": null,
   "id": "0fb4d4b7",
   "metadata": {},
   "outputs": [
    {
     "data": {
      "application/vnd.jupyter.widget-view+json": {
       "model_id": "1c664b427c8f4991a6b0dd58b2923f9e",
       "version_major": 2,
       "version_minor": 0
      },
      "text/plain": [
       "  0%|          | 0/1965 [00:00<?, ?it/s]"
      ]
     },
     "metadata": {},
     "output_type": "display_data"
    }
   ],
   "source": [
    "if os.path.isfile(cache_path):\n",
    "    with open(cache_path, 'rb') as f:\n",
    "        y_pred = np.load(f)\n",
    "        counter = np.load(f)\n",
    "else:\n",
    "    y_pred = np.zeros((y_pred_true.shape[0], len(chars)))\n",
    "    counter = 0\n",
    "\n",
    "\n",
    "for i in tqdm(range(counter, len(imgs_pred))):\n",
    "    for j in range(len(chars)):\n",
    "        y_pred[i][j] = get_likelihood(kernels[j], get_coords(imgs_pred[i]))\n",
    "    if i % 10 == 0:\n",
    "        with open(cache_path, 'wb') as f:\n",
    "            np.save(f, y_pred)\n",
    "            np.save(f, i + 1)"
   ]
  },
  {
   "cell_type": "code",
   "execution_count": 63,
   "id": "6ef5b37f",
   "metadata": {},
   "outputs": [],
   "source": [
    "with open(cache_path, 'wb') as f:\n",
    "    np.save(f, y_pred)\n",
    "    np.save(f, i + 1)"
   ]
  },
  {
   "cell_type": "code",
   "execution_count": null,
   "id": "dbad1380",
   "metadata": {},
   "outputs": [],
   "source": []
  },
  {
   "cell_type": "code",
   "execution_count": null,
   "id": "2479144e",
   "metadata": {},
   "outputs": [],
   "source": []
  },
  {
   "cell_type": "code",
   "execution_count": null,
   "id": "15bc32b3",
   "metadata": {},
   "outputs": [],
   "source": []
  },
  {
   "cell_type": "code",
   "execution_count": 114,
   "id": "d7bc46e6",
   "metadata": {},
   "outputs": [
    {
     "ename": "NameError",
     "evalue": "name 'val_preds' is not defined",
     "output_type": "error",
     "traceback": [
      "\u001b[0;31m---------------------------------------------------------------------------\u001b[0m",
      "\u001b[0;31mNameError\u001b[0m                                 Traceback (most recent call last)",
      "\u001b[0;32m/var/folders/g4/bkdm_ks93mb92cqpsfgpyldr0000gn/T/ipykernel_88431/4198045682.py\u001b[0m in \u001b[0;36m<module>\u001b[0;34m\u001b[0m\n\u001b[1;32m      1\u001b[0m \u001b[0mval_positions\u001b[0m \u001b[0;34m=\u001b[0m \u001b[0;34m{\u001b[0m\u001b[0;34m}\u001b[0m\u001b[0;34m\u001b[0m\u001b[0;34m\u001b[0m\u001b[0m\n\u001b[1;32m      2\u001b[0m \u001b[0;34m\u001b[0m\u001b[0m\n\u001b[0;32m----> 3\u001b[0;31m \u001b[0;32mfor\u001b[0m \u001b[0mi\u001b[0m \u001b[0;32min\u001b[0m \u001b[0mrange\u001b[0m\u001b[0;34m(\u001b[0m\u001b[0mlen\u001b[0m\u001b[0;34m(\u001b[0m\u001b[0mval_preds\u001b[0m\u001b[0;34m)\u001b[0m\u001b[0;34m)\u001b[0m\u001b[0;34m:\u001b[0m\u001b[0;34m\u001b[0m\u001b[0;34m\u001b[0m\u001b[0m\n\u001b[0m\u001b[1;32m      4\u001b[0m     \u001b[0mchar\u001b[0m \u001b[0;34m=\u001b[0m \u001b[0mchars\u001b[0m\u001b[0;34m[\u001b[0m\u001b[0mi\u001b[0m\u001b[0;34m]\u001b[0m\u001b[0;34m\u001b[0m\u001b[0;34m\u001b[0m\u001b[0m\n\u001b[1;32m      5\u001b[0m     \u001b[0mpreds\u001b[0m \u001b[0;34m=\u001b[0m \u001b[0mval_preds\u001b[0m\u001b[0;34m[\u001b[0m\u001b[0mchar\u001b[0m\u001b[0;34m]\u001b[0m\u001b[0;34m\u001b[0m\u001b[0;34m\u001b[0m\u001b[0m\n",
      "\u001b[0;31mNameError\u001b[0m: name 'val_preds' is not defined"
     ]
    }
   ],
   "source": [
    "val_positions = {}\n",
    "\n",
    "for i in range(len(val_preds)):\n",
    "    char = chars[i]\n",
    "    preds = val_preds[char]\n",
    "    val_positions[char] = np.where(np.argsort(-np.array(preds)) == i)[1]\n"
   ]
  },
  {
   "cell_type": "code",
   "execution_count": 19,
   "id": "94917038",
   "metadata": {},
   "outputs": [
    {
     "data": {
      "text/plain": [
       "(0.6827, 0.8353)"
      ]
     },
     "execution_count": 19,
     "metadata": {},
     "output_type": "execute_result"
    }
   ],
   "source": [
    "def top_k(k):\n",
    "    a = sum([sum(val_positions[char] < k) for char in val_positions])\n",
    "    b = sum([len(val_positions[char]) for char in val_positions])\n",
    "    return round(a / b, 4)\n",
    "\n",
    "top_k(1), top_k(3)"
   ]
  },
  {
   "cell_type": "markdown",
   "id": "8bf8a100",
   "metadata": {},
   "source": [
    "# Optimization - Subsampling"
   ]
  },
  {
   "cell_type": "markdown",
   "id": "6728cd75",
   "metadata": {},
   "source": [
    "Sample half of the data points and fit"
   ]
  },
  {
   "cell_type": "markdown",
   "id": "d21ae37e",
   "metadata": {},
   "source": [
    "## Determining sampling method"
   ]
  },
  {
   "cell_type": "code",
   "execution_count": 20,
   "id": "28345bc7",
   "metadata": {},
   "outputs": [
    {
     "data": {
      "application/vnd.jupyter.widget-view+json": {
       "model_id": "53fa08e14cbb4cf2979a925a9a0fc58d",
       "version_major": 2,
       "version_minor": 0
      },
      "text/plain": [
       "  0%|          | 0/112 [00:00<?, ?it/s]"
      ]
     },
     "metadata": {},
     "output_type": "display_data"
    },
    {
     "ename": "KeyboardInterrupt",
     "evalue": "",
     "output_type": "error",
     "traceback": [
      "\u001b[0;31m---------------------------------------------------------------------------\u001b[0m",
      "\u001b[0;31mKeyboardInterrupt\u001b[0m                         Traceback (most recent call last)",
      "\u001b[0;32m/var/folders/g4/bkdm_ks93mb92cqpsfgpyldr0000gn/T/ipykernel_87240/2946431255.py\u001b[0m in \u001b[0;36m<module>\u001b[0;34m\u001b[0m\n\u001b[1;32m     22\u001b[0m         \u001b[0;32mfor\u001b[0m \u001b[0mj\u001b[0m \u001b[0;32min\u001b[0m \u001b[0mrange\u001b[0m\u001b[0;34m(\u001b[0m\u001b[0mlen\u001b[0m\u001b[0;34m(\u001b[0m\u001b[0mchars\u001b[0m\u001b[0;34m)\u001b[0m\u001b[0;34m)\u001b[0m\u001b[0;34m:\u001b[0m\u001b[0;34m\u001b[0m\u001b[0;34m\u001b[0m\u001b[0m\n\u001b[1;32m     23\u001b[0m \u001b[0;34m\u001b[0m\u001b[0m\n\u001b[0;32m---> 24\u001b[0;31m             \u001b[0mf\u001b[0m \u001b[0;34m=\u001b[0m \u001b[0mkernels\u001b[0m\u001b[0;34m[\u001b[0m\u001b[0mj\u001b[0m\u001b[0;34m]\u001b[0m\u001b[0;34m(\u001b[0m\u001b[0mcoords_a\u001b[0m\u001b[0;34m)\u001b[0m\u001b[0;34m\u001b[0m\u001b[0;34m\u001b[0m\u001b[0m\n\u001b[0m\u001b[1;32m     25\u001b[0m             \u001b[0mpreds_a\u001b[0m\u001b[0;34m[\u001b[0m\u001b[0mi\u001b[0m\u001b[0;34m]\u001b[0m\u001b[0;34m[\u001b[0m\u001b[0mj\u001b[0m\u001b[0;34m]\u001b[0m \u001b[0;34m=\u001b[0m \u001b[0mnp\u001b[0m\u001b[0;34m.\u001b[0m\u001b[0mlog\u001b[0m\u001b[0;34m(\u001b[0m\u001b[0mf\u001b[0m\u001b[0;34m)\u001b[0m\u001b[0;34m.\u001b[0m\u001b[0msum\u001b[0m\u001b[0;34m(\u001b[0m\u001b[0;34m)\u001b[0m\u001b[0;34m\u001b[0m\u001b[0;34m\u001b[0m\u001b[0m\n\u001b[1;32m     26\u001b[0m \u001b[0;34m\u001b[0m\u001b[0m\n",
      "\u001b[0;32m~/Docs/github/git_cccr_sl/chinese-calligraphy-recognition-sl/venv/lib/python3.9/site-packages/scipy/stats/kde.py\u001b[0m in \u001b[0;36mevaluate\u001b[0;34m(self, points)\u001b[0m\n\u001b[1;32m    250\u001b[0m             raise TypeError('%s has unexpected item size %d' %\n\u001b[1;32m    251\u001b[0m                             (output_dtype, itemsize))\n\u001b[0;32m--> 252\u001b[0;31m         result = gaussian_kernel_estimate[spec](self.dataset.T, self.weights[:, None],\n\u001b[0m\u001b[1;32m    253\u001b[0m                                                 points.T, self.inv_cov, output_dtype)\n\u001b[1;32m    254\u001b[0m         \u001b[0;32mreturn\u001b[0m \u001b[0mresult\u001b[0m\u001b[0;34m[\u001b[0m\u001b[0;34m:\u001b[0m\u001b[0;34m,\u001b[0m \u001b[0;36m0\u001b[0m\u001b[0;34m]\u001b[0m\u001b[0;34m\u001b[0m\u001b[0;34m\u001b[0m\u001b[0m\n",
      "\u001b[0;31mKeyboardInterrupt\u001b[0m: "
     ]
    }
   ],
   "source": [
    "val_preds_full = {}\n",
    "val_preds_a = {}\n",
    "val_preds_b = {}\n",
    "\n",
    "for char_id in tqdm(range(len(chars))):\n",
    "    \n",
    "    char = chars[char_id]\n",
    "\n",
    "    preds_full = [[None] * len(chars) for _ in range(len(val[char][:3]))]\n",
    "    preds_a = [[None] * len(chars) for _ in range(len(val[char][:3]))]\n",
    "    preds_b = [[None] * len(chars) for _ in range(len(val[char][:3]))]\n",
    "\n",
    "    for i in (range(len(val[char][:3]))):\n",
    "        \n",
    "        coords = np.argwhere(val[char][i]).T  \n",
    "        \n",
    "        # sample\n",
    "        coords_a = coords[:, 0:coords.shape[1]:2]\n",
    "        coords_b = coords[:, 1:coords.shape[1]:2]\n",
    "\n",
    "    \n",
    "        for j in range(len(chars)):\n",
    "            \n",
    "            f = kernels[j](coords_a)\n",
    "            preds_a[i][j] = np.log(f).sum()\n",
    "            \n",
    "            f = kernels[j](coords_b)\n",
    "            preds_b[i][j] = np.log(f).sum()\n",
    "            \n",
    "            preds_full[i][j] = preds_a[i][j] + preds_b[i][j]\n",
    "            \n",
    "    val_preds_full[char] = preds_full\n",
    "    val_preds_a[char] = preds_a\n",
    "    val_preds_b[char] = preds_b"
   ]
  },
  {
   "cell_type": "code",
   "execution_count": null,
   "id": "5ba33f80",
   "metadata": {},
   "outputs": [],
   "source": [
    "positions = {}\n",
    "\n",
    "titles = ['full', 'a', 'b']\n",
    "for val_preds, title in zip([val_preds_full, val_preds_a, val_preds_b], titles):\n",
    "\n",
    "    val_positions = {}\n",
    "\n",
    "    for i in range(len(val_preds)):\n",
    "        char = chars[i]\n",
    "        preds = val_preds[char]\n",
    "        val_positions[char] = np.where(np.argsort(-np.array(preds)) == i)[1]\n",
    "    \n",
    "    val_positions_arr = np.array(list(val_positions.values()))\n",
    "    print(\"\"\"\n",
    "        ====== {} ======\n",
    "        Mean    - {}\n",
    "        Avg pos - {}\\\n",
    "    \"\"\".format(title, (val_positions_arr == 0).mean().round(2), (val_positions_arr).mean().round(2)))\n",
    "    \n",
    "    positions[title] = val_positions_arr"
   ]
  },
  {
   "cell_type": "code",
   "execution_count": null,
   "id": "49a3e770",
   "metadata": {},
   "outputs": [],
   "source": [
    "thresh = len(chars) // 3\n",
    "cond = (positions['a'] >= thresh) | (positions['b'] >= thresh) | (positions['full'] >= thresh)\n",
    "bad_char_ids, bad_idxs = np.where(cond) "
   ]
  },
  {
   "cell_type": "code",
   "execution_count": null,
   "id": "33a87b24",
   "metadata": {},
   "outputs": [],
   "source": [
    "bad_imgs = [val[chars[char_id]][bad_id] for (char_id, bad_id) in zip(bad_char_ids, bad_idxs)]\n",
    "titles = []\n",
    "for i in range(len(bad_char_ids)):\n",
    "    char = chars[bad_char_ids[i]]\n",
    "    pos_a = positions['a'][bad_char_ids, bad_idxs][i]\n",
    "    pos_b = positions['b'][bad_char_ids, bad_idxs][i]\n",
    "    pos_full = positions['full'][bad_char_ids, bad_idxs][i]\n",
    "    titles.append('{}({}/{}/{})'.format(char, pos_a, pos_b, pos_full))\n",
    "    \n",
    "    if pos_full < 5 or pos_b < 5 or pos_a < 5:\n",
    "        titles[-1] += '***'\n",
    "\n",
    "show(bad_imgs, titles=titles, chinese_title=True)"
   ]
  },
  {
   "cell_type": "markdown",
   "id": "c638856e",
   "metadata": {},
   "source": [
    "### EDA\n",
    "Single sample"
   ]
  },
  {
   "cell_type": "code",
   "execution_count": 168,
   "id": "32b16589",
   "metadata": {},
   "outputs": [
    {
     "data": {
      "image/png": "[encoded data removed]",
      "text/plain": [
       "<Figure size 900x288 with 1 Axes>"
      ]
     },
     "metadata": {
      "needs_background": "light"
     },
     "output_type": "display_data"
    }
   ],
   "source": [
    "char_id = 30\n",
    "char = chars[char_id]\n",
    "\n",
    "preds = [None] * len(chars)\n",
    "\n",
    "i = 0\n",
    "show([val[char][i]])"
   ]
  },
  {
   "cell_type": "code",
   "execution_count": 84,
   "id": "18070b07",
   "metadata": {},
   "outputs": [
    {
     "data": {
      "image/png": "[encoded data removed]",
      "text/plain": [
       "<Figure size 900x288 with 2 Axes>"
      ]
     },
     "metadata": {
      "needs_background": "light"
     },
     "output_type": "display_data"
    }
   ],
   "source": [
    "coords = np.argwhere(val[char][i]).T  \n",
    "coords_a = coords[:, 0:coords.shape[1]:2]\n",
    "coords_b = coords[:, 1:coords.shape[1]:2]\n",
    "\n",
    "img_a = np.zeros(shape=val[char][i].shape)\n",
    "img_b = np.zeros(shape=val[char][i].shape)\n",
    "img_a[coords_a[0], coords_a[1]] = 1\n",
    "img_b[coords_b[0], coords_b[1]] = 1\n",
    "show([img_a, img_b])"
   ]
  },
  {
   "cell_type": "code",
   "execution_count": 87,
   "id": "75707777",
   "metadata": {},
   "outputs": [],
   "source": [
    "for j in range(len(chars)):\n",
    "    f = kernels[j](coords)\n",
    "    preds[j] = np.log(f).sum()"
   ]
  },
  {
   "cell_type": "code",
   "execution_count": 88,
   "id": "dc8aae3b",
   "metadata": {
    "scrolled": false
   },
   "outputs": [
    {
     "data": {
      "image/png": "[encoded data removed]",
      "text/plain": [
       "<Figure size 900x576 with 20 Axes>"
      ]
     },
     "metadata": {
      "needs_background": "light"
     },
     "output_type": "display_data"
    }
   ],
   "source": [
    "idxs = np.argsort(-np.array(preds))[:50]\n",
    "contours = [\n",
    "    get_kernel_contour(kernels[i], N=N, step=16j, cmap=True, norm_const=0.01) for i in idxs[:20]\n",
    "]\n",
    "titles = [chars[i] for i in idxs]\n",
    "\n",
    "for i in range(len(contours)):\n",
    "    contours[i][:,:,3] = 1 - img_a * 0.7\n",
    "    \n",
    "show(contours, titles=titles, chinese_title=True, col=5)"
   ]
  },
  {
   "cell_type": "markdown",
   "id": "4e556ce7",
   "metadata": {},
   "source": [
    "## Top-1 acc"
   ]
  },
  {
   "cell_type": "code",
   "execution_count": 113,
   "id": "d586f5c3",
   "metadata": {},
   "outputs": [],
   "source": [
    "accs = [None] * len(chars)\n",
    "for char_id in range(len(chars)):\n",
    "    char_id = 0\n",
    "    preds = val_preds[chars[char_id]]\n",
    "    accs[char_id] = (np.argmax(preds, axis=1) == char_id).sum() / 20\n",
    "    \n",
    "accs = np.array(accs)\n",
    "accs.mean()"
   ]
  },
  {
   "cell_type": "code",
   "execution_count": null,
   "id": "949ab081",
   "metadata": {},
   "outputs": [],
   "source": [
    "plt.hist(accs, [i/10 for i in range(10)])\n",
    "plt.xlabel('top-1 acc')\n",
    "plt.ylabel('freq')"
   ]
  },
  {
   "cell_type": "markdown",
   "id": "b5feb2ec",
   "metadata": {},
   "source": [
    "## ..."
   ]
  },
  {
   "cell_type": "code",
   "execution_count": null,
   "id": "016cef2b",
   "metadata": {},
   "outputs": [],
   "source": [
    "np.argwhere(accs < 0.5)[:, 0]"
   ]
  },
  {
   "cell_type": "markdown",
   "id": "498d38a2",
   "metadata": {},
   "source": [
    "0 - 后 - pdf too similar to 这, variants\n",
    "4 - 如 - too unconstrained\n",
    "7 - 最 - variants, image too small?\n",
    "10 - 国 - pdf too similar to 用同\n",
    "13 - 看 - image too small???\n",
    "19 - 就 - ???\n",
    "21 - 发 - variants\n",
    "31 - 从 - ???\n",
    "\n",
    "\n",
    "? - variants 么"
   ]
  },
  {
   "cell_type": "code",
   "execution_count": null,
   "id": "28fb6d20",
   "metadata": {
    "scrolled": false
   },
   "outputs": [],
   "source": [
    "char_id = 37\n",
    "char = chars[char_id]\n",
    "\n",
    "print(accs[char_id])\n",
    "\n",
    "preds = test_preds[chars[char_id]]\n",
    "\n",
    "preds = np.array(preds)\n",
    "preds_sorted = np.argsort(-preds, axis=1)\n",
    "preds_rank = np.argwhere(preds_sorted == char_id)[:, 1]\n",
    "\n",
    "titles = []\n",
    "for i in range(len(test[char])):\n",
    "    titles.append(','.join([chars[preds_sorted[i, j]] for j in range(3)]))\n",
    "    titles[-1] += str(preds[i, preds_sorted[i, 0]].round())\n",
    "    \n",
    "show(test[char], titles=titles, chinese_title=True)\n",
    "# show(train[char])"
   ]
  },
  {
   "cell_type": "code",
   "execution_count": null,
   "id": "4782b98d",
   "metadata": {},
   "outputs": [],
   "source": [
    "f = fs[char_to_id['也']]\n",
    "\n",
    "fig = plt.figure(figsize=(3,3))\n",
    "ax = fig.gca()\n",
    "ax.set_xlim(0, N)\n",
    "ax.set_ylim(0, N)\n",
    "# ax.contourf(xx, yy, f, cmap='coolwarm')\n",
    "# ax.contour(xx, yy, f, colors='black')\n",
    "ax.imshow(np.rot90(f), cmap='coolwarm', extent=[0, N, 0, N])\n",
    "ax.axis(\"off\")"
   ]
  },
  {
   "cell_type": "code",
   "execution_count": null,
   "id": "cc3fa153",
   "metadata": {},
   "outputs": [],
   "source": []
  },
  {
   "cell_type": "code",
   "execution_count": null,
   "id": "3e8324da",
   "metadata": {},
   "outputs": [],
   "source": [
    "# multiprocessing kde\n",
    "\n",
    "# n_cores = 2\n",
    "# char = '起'\n",
    "\n",
    "# with Pool(n_cores) as pool:\n",
    "\n",
    "#     preds = [[None] * len(chars) for _ in range(len(test[char]))]\n",
    "\n",
    "#     for i in tqdm(range(len(test[char]))):\n",
    "#         for j in range(len(chars)):\n",
    "#             coords = np.argwhere(test[char][i]).T            \n",
    "#             tasks = [(x, kernels[j]) for x in np.array_split(coords, n_cores, axis=1)]\n",
    "#             results = pool.map(lambda x: x[1](x[0]), tasks)\n",
    "#             preds[i][j] = sum([np.log(x).sum() for x in results])\n",
    "        "
   ]
  },
  {
   "cell_type": "code",
   "execution_count": null,
   "id": "b3cc8791",
   "metadata": {},
   "outputs": [],
   "source": []
  },
  {
   "cell_type": "code",
   "execution_count": null,
   "id": "3c036f92",
   "metadata": {},
   "outputs": [],
   "source": []
  },
  {
   "cell_type": "code",
   "execution_count": null,
   "id": "0e913094",
   "metadata": {},
   "outputs": [],
   "source": []
  },
  {
   "cell_type": "code",
   "execution_count": null,
   "id": "cd9c6816",
   "metadata": {},
   "outputs": [],
   "source": []
  },
  {
   "cell_type": "code",
   "execution_count": null,
   "id": "2a9d6813",
   "metadata": {},
   "outputs": [],
   "source": []
  },
  {
   "cell_type": "code",
   "execution_count": null,
   "id": "b32e3cca",
   "metadata": {},
   "outputs": [],
   "source": []
  },
  {
   "cell_type": "code",
   "execution_count": null,
   "id": "ead7ee62",
   "metadata": {},
   "outputs": [],
   "source": []
  }
 ],
 "metadata": {
  "kernelspec": {
   "display_name": "cccr-venv",
   "language": "python",
   "name": "cccr-venv"
  },
  "language_info": {
   "codemirror_mode": {
    "name": "ipython",
    "version": 3
   },
   "file_extension": ".py",
   "mimetype": "text/x-python",
   "name": "python",
   "nbconvert_exporter": "python",
   "pygments_lexer": "ipython3",
   "version": "3.9.5"
  }
 },
 "nbformat": 4,
 "nbformat_minor": 5
}
