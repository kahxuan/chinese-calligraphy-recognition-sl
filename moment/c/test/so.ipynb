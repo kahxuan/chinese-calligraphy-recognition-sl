{
 "cells": [
  {
   "cell_type": "code",
   "execution_count": 1,
   "id": "26acd455",
   "metadata": {},
   "outputs": [],
   "source": [
    "from ctypes import *"
   ]
  },
  {
   "cell_type": "code",
   "execution_count": 2,
   "id": "c1008015",
   "metadata": {},
   "outputs": [],
   "source": [
    "ekmi = CDLL('./../ekmi.dylib')"
   ]
  },
  {
   "cell_type": "code",
   "execution_count": null,
   "id": "f4756256",
   "metadata": {},
   "outputs": [],
   "source": [
    "ekmi.get_ekmi(5, \"/Users/kx/desktop/1.png\")"
   ]
  },
  {
   "cell_type": "code",
   "execution_count": null,
   "id": "bcf82808",
   "metadata": {},
   "outputs": [],
   "source": [
    "\n",
    "\n",
    "#Find sum of integers\n",
    "res_int = adder.add_int(4,5)\n",
    "print \"Sum of 4 and 5 = \" + str(res_int)\n",
    "\n",
    "#Find sum of floats\n",
    "a = c_float(5.5)\n",
    "b = c_float(4.1)\n",
    "\n",
    "add_float = adder.add_float\n",
    "add_float.restype = c_float\n",
    "print \"Sum of 5.5 and 4.1 = \", str(add_float(a, b))"
   ]
  }
 ],
 "metadata": {
  "kernelspec": {
   "display_name": "Python 3",
   "language": "python",
   "name": "python3"
  },
  "language_info": {
   "codemirror_mode": {
    "name": "ipython",
    "version": 3
   },
   "file_extension": ".py",
   "mimetype": "text/x-python",
   "name": "python",
   "nbconvert_exporter": "python",
   "pygments_lexer": "ipython3",
   "version": "3.9.5"
  }
 },
 "nbformat": 4,
 "nbformat_minor": 5
}
