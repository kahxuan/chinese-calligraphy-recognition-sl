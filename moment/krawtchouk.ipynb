{
 "cells": [
  {
   "cell_type": "code",
   "execution_count": 1,
   "id": "e61c0f40",
   "metadata": {},
   "outputs": [],
   "source": [
    "import os\n",
    "import time\n",
    "from tqdm.notebook import tqdm\n",
    "from scipy.special import hyp2f1, factorial, comb\n",
    "from sympy.functions.combinatorial.numbers import stirling\n",
    "from math import atan, cos, sin\n",
    "import numpy as np\n",
    "import cv2\n",
    "import matplotlib.pyplot as plt"
   ]
  },
  {
   "cell_type": "code",
   "execution_count": 2,
   "id": "1717c854",
   "metadata": {},
   "outputs": [],
   "source": [
    "def get_centroid(img):\n",
    "    \n",
    "    h, w = img.shape\n",
    "\n",
    "    m00 = img.sum()\n",
    "\n",
    "    y = np.repeat(np.expand_dims(np.array(range(h)), 1), w, 1)\n",
    "    m01 = np.multiply(y, img).sum()\n",
    "\n",
    "    x = np.repeat(np.expand_dims(np.array(range(w)), 0), h, 0)\n",
    "    m10 = np.multiply(x, img).sum()\n",
    "\n",
    "    x_c = int(m10 // m00)\n",
    "    y_c = int(m01 // m00)\n",
    "\n",
    "    return x_c, y_c\n",
    "\n",
    "def get_central_moment(img, a, b):\n",
    "    h, w = img.shape\n",
    "    x_c, y_c = get_centroid(f)\n",
    "    x = ((np.array(range(w)) - x_c) ** a).astype('int64')\n",
    "    y = ((np.array(range(h)) - y_c) ** b).astype('int64')\n",
    "    x, y = np.meshgrid(x, y)\n",
    "    retval = np.multiply(x, y)\n",
    "    retval = np.multiply(retval, img.astype('int64'))\n",
    "    return np.sum(retval)"
   ]
  },
  {
   "cell_type": "code",
   "execution_count": 3,
   "id": "9ea2d9e9",
   "metadata": {},
   "outputs": [],
   "source": [
    "# fname = '../data/shufadict/clean/里/00ae48086c117ff5999fb71cbf157d4d.png'\n",
    "# fname = '../data/shufadict/clean/里/3a51dfccf8a32b3a1e0a386488a986b4.png'\n",
    "# fname = '../data/shufadict/clean/里/f078d6b3aad77c232e497a1dc2fc9070.png'\n",
    "# fname = '../data/shufadict/clean/也/49ad5ddd4dfd11874212f56d02d88355.png'\n",
    "fname = '../data/shufadict/clean/也/bb3c44d77c1568d478b3ff87ebf2bf44.png'\n",
    "# fname = '/Users/kx/desktop/2.png'"
   ]
  },
  {
   "cell_type": "code",
   "execution_count": 4,
   "id": "b8d3c779",
   "metadata": {},
   "outputs": [],
   "source": [
    "f = (cv2.imread(fname)[:, :, 0] // 255).astype('uint8')\n",
    "\n",
    "N, M = 64, 64\n",
    "f = cv2.resize(f, (N, M))"
   ]
  },
  {
   "cell_type": "code",
   "execution_count": 5,
   "id": "a12323c3",
   "metadata": {},
   "outputs": [
    {
     "data": {
      "text/plain": [
       "<matplotlib.image.AxesImage at 0x7fc7c0046ca0>"
      ]
     },
     "execution_count": 5,
     "metadata": {},
     "output_type": "execute_result"
    },
    {
     "data": {
      "image/png": "[encoded data removed]",
      "text/plain": [
       "<Figure size 432x288 with 1 Axes>"
      ]
     },
     "metadata": {
      "needs_background": "light"
     },
     "output_type": "display_data"
    }
   ],
   "source": [
    "plt.imshow(f)"
   ]
  },
  {
   "cell_type": "code",
   "execution_count": 6,
   "id": "828f8b3d",
   "metadata": {},
   "outputs": [],
   "source": [
    "memo_K = np.empty((max(N, M) * 2 + 1, max(N, M) * 2 + 1))\n",
    "memo_K[:] = np.nan\n",
    "\n",
    "def K(n, x, p, N):\n",
    "    if np.isnan(memo_K[n, x]):\n",
    "        memo_K[n, x] = hyp2f1(-n, -x, -N, 1/p)\n",
    "        if np.isnan(memo_K[n, x]):\n",
    "            memo_K[n, x] = 0\n",
    "    return memo_K[n, x]"
   ]
  },
  {
   "cell_type": "code",
   "execution_count": 7,
   "id": "e4b622d6",
   "metadata": {},
   "outputs": [],
   "source": [
    "memo_tilda_K = np.empty((N * 2 + 1, M * 2 + 1))\n",
    "memo_c = np.empty((max(N, M) * 2 + 1, max(N, M) * 2 + 1))\n",
    "memo_d = np.empty((max(N, M) * 2 + 1, max(N, M) * 2 + 1))\n",
    "memo_d[:] = np.nan\n",
    "memo_c[:] = np.nan\n",
    "memo_tilda_K[:] = np.nan\n",
    "\n",
    "\n",
    "def tilda_K(n, m, f, p):\n",
    "    if np.isnan(memo_tilda_K[n, m]):\n",
    "        N, M = f.shape\n",
    "        memo_tilda_K[n, m] = 0\n",
    "        for x in range(N):\n",
    "            for y in range(M):\n",
    "                memo_tilda_K[n, m] += f[x, y] * K(n, x, p, N) * K(m, y, p, M)\n",
    "    return memo_tilda_K[n, m]\n",
    "\n",
    "\n",
    "def c(n, i, N, p):\n",
    "    if np.isnan(memo_c[n, i]):\n",
    "        memo_c[n, i] = 0\n",
    "        for k in range(i, n + 1):\n",
    "            num = (-1 ** k) * factorial(n) * factorial(N - k)\n",
    "            denom = (p ** k) * factorial(N) * factorial(k) * factorial(n - k)\n",
    "            memo_c[n, i] += num / denom * stirling(k, i, kind=1)\n",
    "    return memo_c[n, i]\n",
    "\n",
    "\n",
    "def d(i, s, N, p):\n",
    "    if np.isnan(memo_d[i, s]):\n",
    "        memo_d[i, s] = 0\n",
    "        for m in range(s, i + 1):\n",
    "            num = (-1 ** s) * factorial(m) * factorial(N) * (p ** m)\n",
    "            denom = factorial(m - s) * factorial(N - m) * factorial(m)\n",
    "            memo_d[i, s] += stirling(i, m, kind=2) * num / (denom + 1e-100) # TODO\n",
    "            \n",
    "\n",
    "    return memo_d[i, s]"
   ]
  },
  {
   "cell_type": "code",
   "execution_count": 8,
   "id": "905c4b47",
   "metadata": {},
   "outputs": [],
   "source": [
    "def Irs(n, m, f, p):\n",
    "    \n",
    "    N, M = f.shape\n",
    "    \n",
    "    u = 2 * get_central_moment(f, 2, 2) * get_central_moment(f, 0, 0) / (get_central_moment(f, 1, 1) ** 2)\n",
    "    v = 2 * get_central_moment(f, 2, 2) * (get_central_moment(f, 1, 0) ** 2) / (get_central_moment(f, 0, 0) * (get_central_moment(f, 1, 1) ** 2))\n",
    "\n",
    "    delta_f = tilda_K(0, 0, f, 0.5)\n",
    "    theta_f = 0.5 * atan(\n",
    "        (u * tilda_K(1, 1, f, 0.5) - u * tilda_K(0, 0, f, 0.5)) / \n",
    "        (tilda_K(2, 0, f, 0.5) - tilda_K(0, 2, f, 0.5))\n",
    "    )\n",
    "    cos_theta_f = cos(theta_f)\n",
    "    sin_theta_f = sin(theta_f)\n",
    "    Irs_nm = 0\n",
    "\n",
    "    for i in range(n + 1):\n",
    "        \n",
    "        term4 = c(n, i, N, p)\n",
    "        \n",
    "        for j in range(m + 1):\n",
    "            \n",
    "            term5 = c(m, j, N, p)\n",
    "            term8 = delta_f ** (- (i + j + 2) / 2)\n",
    "            \n",
    "            for s in range(i + 1):\n",
    "                \n",
    "                term2 = comb(i, s, exact=True)\n",
    "                \n",
    "                for t in range(j + 1):\n",
    "                    term1 = (-1) ** (j - t)\n",
    "                    term3 = comb(j, t, exact=True)\n",
    "                    term9 = cos_theta_f ** (i + t - s)\n",
    "                    term10 = sin_theta_f ** (j - t + s)\n",
    "                    \n",
    "                    for bb in range(0, s + t + 1):\n",
    "                        d(s + t, bb, N, p)\n",
    "                    for bb in range(0, i + j - s - t + 1):\n",
    "                        d(i + j - s - t, bb, N, p)\n",
    "                    term7 = memo_d[s + t, 0:s + t + 1]\n",
    "                    term6 = memo_d[i + j - s - t, 0:i + j - s - t + 1]\n",
    "\n",
    "                    term7, term6 = np.meshgrid(term7, term6)\n",
    "                    \n",
    "                    for aa in range(0, i + j - s - t + 1):\n",
    "                        for bb in range(0, s + t + 1):\n",
    "                            tilda_K(aa, bb, f, p)\n",
    "                    term11 = memo_tilda_K[0:i + j - s - t + 1, 0:s + t + 1]\n",
    "                    \n",
    "                    term6_7_11 = np.multiply(term6, term7)\n",
    "                    term6_7_11 = np.multiply(term6_7_11, term11)\n",
    "                    term6_7_11 = np.sum(term6_7_11)\n",
    "                    \n",
    "                    tmp = term1 * \\\n",
    "                        term2 * \\\n",
    "                        term3 * \\\n",
    "                        term4 * term5 * \\\n",
    "                        term8 * \\\n",
    "                        term9 * \\\n",
    "                        term10 * \\\n",
    "                        term6_7_11\n",
    "                    Irs_nm += tmp\n",
    "\n",
    "    return Irs_nm"
   ]
  },
  {
   "cell_type": "code",
   "execution_count": 9,
   "id": "0c33a377",
   "metadata": {},
   "outputs": [
    {
     "data": {
      "application/vnd.jupyter.widget-view+json": {
       "model_id": "9cf9d98439954e82bf8ada0da89eb222",
       "version_major": 2,
       "version_minor": 0
      },
      "text/plain": [
       "  0%|          | 0/4 [00:00<?, ?it/s]"
      ]
     },
     "metadata": {},
     "output_type": "display_data"
    },
    {
     "name": "stdout",
     "output_type": "stream",
     "text": [
      "0.7745909690856934\n"
     ]
    }
   ],
   "source": [
    "tik = time.time()\n",
    "\n",
    "Q = np.empty((N, M))\n",
    "Q[:] = np.nan\n",
    "order = 4\n",
    "\n",
    "for i in tqdm(range(order)):\n",
    "    for j in range(order):\n",
    "        Q[i, j] = Irs(i, j, f, p=0.5)\n",
    "        \n",
    "tok = time.time()\n",
    "print(tok - tik)"
   ]
  },
  {
   "cell_type": "code",
   "execution_count": 10,
   "id": "73cf8eeb",
   "metadata": {
    "scrolled": true
   },
   "outputs": [
    {
     "data": {
      "text/plain": [
       "array([[1.        , 0.99897785, 0.99699309, 0.99393414],\n",
       "       [1.07399261, 1.07322406, 1.07147216, 1.0686227 ],\n",
       "       [1.15478898, 1.15430206, 1.15281033, 1.15019682],\n",
       "       [1.24319707, 1.24302337, 1.24182262, 1.23947498]])"
      ]
     },
     "execution_count": 10,
     "metadata": {},
     "output_type": "execute_result"
    }
   ],
   "source": [
    "Q[:4, :4]"
   ]
  }
 ],
 "metadata": {
  "kernelspec": {
   "display_name": "cccr-venv",
   "language": "python",
   "name": "cccr-venv"
  },
  "language_info": {
   "codemirror_mode": {
    "name": "ipython",
    "version": 3
   },
   "file_extension": ".py",
   "mimetype": "text/x-python",
   "name": "python",
   "nbconvert_exporter": "python",
   "pygments_lexer": "ipython3",
   "version": "3.9.5"
  }
 },
 "nbformat": 4,
 "nbformat_minor": 5
}
