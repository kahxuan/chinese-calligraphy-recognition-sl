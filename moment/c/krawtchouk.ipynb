{
 "cells": [
  {
   "cell_type": "code",
   "execution_count": 376,
   "id": "48cae869",
   "metadata": {},
   "outputs": [],
   "source": [
    "import scipy.special as sc\n",
    "import cv2\n",
    "import numpy as np"
   ]
  },
  {
   "cell_type": "code",
   "execution_count": 391,
   "id": "75698261",
   "metadata": {},
   "outputs": [],
   "source": [
    "p = 0.5\n",
    "N = 128\n",
    "f = (cv2.imread(\"/Users/kx/desktop/1.png\")[:, :, 0] == 255).astype('uint8')"
   ]
  },
  {
   "cell_type": "code",
   "execution_count": 392,
   "id": "ead7df2b",
   "metadata": {},
   "outputs": [],
   "source": [
    "# def w(x):\n",
    "#     return sc.comb(N, x) * (p**x) * ((1 - p)**(N - x))\n",
    "# size = 30\n",
    "# memo_w = [None] * size\n",
    "# for i in range(size):\n",
    "#     memo_w[i] = w(i)\n",
    "    \n",
    "# tmp = \"\"\n",
    "# for i in range(size):\n",
    "#     tmp += \"{:2d} {:1.40f}\\n\".format(i, memo_w[i])\n",
    "    \n",
    "# print(tmp)"
   ]
  },
  {
   "cell_type": "code",
   "execution_count": 393,
   "id": "5a0a1722",
   "metadata": {},
   "outputs": [],
   "source": [
    "# def rho(n):\n",
    "#     return ((-1) ** n) * (((1 - p) / p) ** n) * sc.factorial(n) / sc.poch(-N, n)\n",
    "# size = 30\n",
    "# memo_rho = [None] * size\n",
    "# for i in range(size):\n",
    "#     memo_rho[i] = rho(i)\n",
    "    \n",
    "# tmp = \"\"\n",
    "# for i in range(size):\n",
    "#     tmp += \"{:2d} {:1.40f}\\n\".format(i, memo_rho[i])\n",
    "    \n",
    "# print(tmp)"
   ]
  },
  {
   "cell_type": "code",
   "execution_count": 374,
   "id": "1bc8df7d",
   "metadata": {},
   "outputs": [
    {
     "name": "stdout",
     "output_type": "stream",
     "text": [
      "1.00000000000000000000 1.00000000000000000000 1.00000000000000000000 1.00000000000000000000 1.00000000000000000000 \n",
      "1.00000000000000000000 0.98425196850393703585 0.96850393700787407170 0.95275590551181099652 0.93700787401574803237 \n",
      "1.00000000000000000000 0.96850393700787407170 0.93750781152355955328 0.90701162354705655577 0.87701537307836519020 \n",
      "1.00000000000000000000 0.95275590551181099652 0.90701162354705655577 0.86274315710536186863 0.81992650918635168189 \n",
      "1.00000000000000000000 0.93700787401574803237 0.87701537307836519020 0.81992650918635168189 0.76564684253178028062 \n",
      "\n"
     ]
    }
   ],
   "source": [
    "def K(n, x):\n",
    "    retval = sc.hyp2f1(-n, -x, -N, 1/p)\n",
    "    if np.isnan(retval):\n",
    "        retval = 0\n",
    "    return retval\n",
    "\n",
    "size = 5\n",
    "memo_K = [[None] * size for _ in range(size)]\n",
    "for i in range(size):\n",
    "    for j in range(size):\n",
    "        memo_K[i][j] = K(i, j)\n",
    "\n",
    "tmp = \"\"\n",
    "for i in range(size):\n",
    "    for j in range(size):\n",
    "        tmp += \"{:2.20f} \".format(memo_K[i][j])\n",
    "    tmp += '\\n'\n",
    "    \n",
    "print(tmp)"
   ]
  },
  {
   "cell_type": "code",
   "execution_count": null,
   "id": "0f29091f",
   "metadata": {},
   "outputs": [],
   "source": []
  },
  {
   "cell_type": "code",
   "execution_count": null,
   "id": "649b1805",
   "metadata": {},
   "outputs": [],
   "source": []
  },
  {
   "cell_type": "code",
   "execution_count": null,
   "id": "fdae7e9a",
   "metadata": {},
   "outputs": [],
   "source": []
  },
  {
   "cell_type": "code",
   "execution_count": null,
   "id": "11e7aa3a",
   "metadata": {},
   "outputs": [],
   "source": []
  }
 ],
 "metadata": {
  "kernelspec": {
   "display_name": "Python 3",
   "language": "python",
   "name": "python3"
  },
  "language_info": {
   "codemirror_mode": {
    "name": "ipython",
    "version": 3
   },
   "file_extension": ".py",
   "mimetype": "text/x-python",
   "name": "python",
   "nbconvert_exporter": "python",
   "pygments_lexer": "ipython3",
   "version": "3.9.5"
  }
 },
 "nbformat": 4,
 "nbformat_minor": 5
}
