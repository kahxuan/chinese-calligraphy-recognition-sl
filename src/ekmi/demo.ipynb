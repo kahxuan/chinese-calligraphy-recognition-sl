{
 "cells": [
  {
   "cell_type": "markdown",
   "id": "7b4d96bd",
   "metadata": {},
   "source": [
    "# Test translation"
   ]
  },
  {
   "cell_type": "code",
   "execution_count": 1,
   "id": "26acd455",
   "metadata": {},
   "outputs": [],
   "source": [
    "import ctypes\n",
    "import cv2\n",
    "import numpy as np\n",
    "import time"
   ]
  },
  {
   "cell_type": "code",
   "execution_count": 2,
   "id": "48824536",
   "metadata": {},
   "outputs": [],
   "source": [
    "ekmi = ctypes.cdll.LoadLibrary('./ekmi.so')\n",
    "_get_ekmi = ekmi.get_ekmi\n",
    "_get_ekmi.argtypes = [\n",
    "    ctypes.c_int, \n",
    "    np.ctypeslib.ndpointer(dtype=np.uintp, flags=\"C\", ndim=1), \n",
    "    ctypes.c_int,\n",
    "    ctypes.c_double\n",
    "]\n",
    "_get_ekmi.restype = ctypes.POINTER(ctypes.POINTER(ctypes.c_double))\n",
    "\n",
    "\n",
    "def get_ekmi(order, img, p):\n",
    "    \n",
    "    imgpp = (img.__array_interface__['data'][0] + np.arange(img.shape[0])* img.strides[0]).astype(np.uintp) \n",
    "    _res = _get_ekmi(order, imgpp, img.shape[0], p)\n",
    "\n",
    "    # copy array\n",
    "    res = np.zeros((order, order))\n",
    "    for i in range(order):\n",
    "        for j in range(order):\n",
    "            res[i, j] = _res[i][j]\n",
    "    ekmi.free_ekmi_rst() # free memory\n",
    "    return res"
   ]
  },
  {
   "cell_type": "code",
   "execution_count": 23,
   "id": "dd4a57ab",
   "metadata": {},
   "outputs": [
    {
     "name": "stdout",
     "output_type": "stream",
     "text": [
      "0.003990888595581055\n",
      "0.004524946212768555\n",
      "[[ 6.76287898e-02  3.96066258e-02  2.17033692e-02  1.13113460e-02\n",
      "   6.16732109e-03  4.35971204e-03]\n",
      " [ 3.08754137e-02  1.80185271e-02  9.78166885e-03  4.97825326e-03\n",
      "   2.57842594e-03  1.71231016e-03]\n",
      " [ 1.08157990e-02  6.34668777e-03  3.46160123e-03  1.75683363e-03\n",
      "   8.82037852e-04  5.41326979e-04]\n",
      " [ 1.55718235e-03  1.00129988e-03  6.20505621e-04  3.72881403e-04\n",
      "   2.22102369e-04  1.37565227e-04]\n",
      " [-1.37842190e-03 -6.93965503e-04 -2.72222353e-04 -4.41075874e-05\n",
      "   5.03897232e-05  6.20406283e-05]\n",
      " [-1.21979183e-03 -6.28242088e-04 -2.55107783e-04 -4.42184482e-05\n",
      "   5.32040774e-05  7.84118394e-05]]\n",
      "[[ 6.76287898e-02  3.96066258e-02  2.17033692e-02  1.13113460e-02\n",
      "   6.16732109e-03  4.35971204e-03]\n",
      " [ 3.08754137e-02  1.80185271e-02  9.78166885e-03  4.97825326e-03\n",
      "   2.57842594e-03  1.71231016e-03]\n",
      " [ 1.08157990e-02  6.34668777e-03  3.46160123e-03  1.75683363e-03\n",
      "   8.82037852e-04  5.41326979e-04]\n",
      " [ 1.55718235e-03  1.00129988e-03  6.20505621e-04  3.72881403e-04\n",
      "   2.22102369e-04  1.37565227e-04]\n",
      " [-1.37842190e-03 -6.93965503e-04 -2.72222353e-04 -4.41075873e-05\n",
      "   5.03897232e-05  6.20406283e-05]\n",
      " [-1.21979183e-03 -6.28242088e-04 -2.55107783e-04 -4.42184481e-05\n",
      "   5.32040770e-05  7.84118402e-05]]\n"
     ]
    },
    {
     "data": {
      "text/plain": [
       "7.664306597986357e-25"
      ]
     },
     "execution_count": 23,
     "metadata": {},
     "output_type": "execute_result"
    }
   ],
   "source": [
    "def ekmi_from_fname(fname):\n",
    "    p = 0.5\n",
    "    N = 16\n",
    "    tik = time.time()\n",
    "    order = 6\n",
    "\n",
    "    img = (cv2.imread(fname)[:, :, 0] == 255).astype('int32')\n",
    "    retval = get_ekmi(order, img, p)\n",
    "    tok = time.time()\n",
    "    print(tok - tik)\n",
    "    return retval\n",
    "\n",
    "k1 = ekmi_from_fname(\"/Users/kx/desktop/1_small.png\")\n",
    "k2 = ekmi_from_fname(\"/Users/kx/desktop/1_small_t.png\")\n",
    "print(k1)\n",
    "print(k2)\n",
    "sum(sum((k2 - k1) ** 2))"
   ]
  },
  {
   "cell_type": "markdown",
   "id": "50064504",
   "metadata": {},
   "source": [
    "___"
   ]
  },
  {
   "cell_type": "markdown",
   "id": "823ec6e0",
   "metadata": {},
   "source": [
    "# Test recognition"
   ]
  },
  {
   "cell_type": "code",
   "execution_count": 5,
   "id": "aa17f862",
   "metadata": {},
   "outputs": [],
   "source": [
    "import glob\n",
    "import os\n",
    "import matplotlib.pyplot as plt\n",
    "from tqdm.notebook import tqdm\n",
    "from sklearn.neighbors import KNeighborsClassifier\n",
    "from ikmi import *"
   ]
  },
  {
   "cell_type": "code",
   "execution_count": 6,
   "id": "5b9239a6",
   "metadata": {},
   "outputs": [],
   "source": [
    "order = 5\n",
    "p = 0.5"
   ]
  },
  {
   "cell_type": "code",
   "execution_count": 7,
   "id": "4a8a1ad7",
   "metadata": {},
   "outputs": [],
   "source": [
    "data_dir = '/Users/kx/Docs/github/git_cccr_sl/chinese-calligraphy-recognition-sl/data/shufadict/clean'\n",
    "chars = [x for x in os.listdir(data_dir) if x[0] != '.']\n",
    "N = 32\n",
    "nclass = 10\n",
    "sample_per_class = 10"
   ]
  },
  {
   "cell_type": "code",
   "execution_count": 8,
   "id": "8541dd39",
   "metadata": {},
   "outputs": [],
   "source": [
    "class_lookup = [None] * nclass\n",
    "data = np.zeros((nclass * sample_per_class, N, N), dtype='int32')\n",
    "label = np.zeros((nclass * sample_per_class), dtype='int')\n",
    "feature_ekmi = np.zeros((nclass * sample_per_class, order, order))\n",
    "feature_ikmi = np.zeros((nclass * sample_per_class, order, order))"
   ]
  },
  {
   "cell_type": "code",
   "execution_count": 9,
   "id": "3065aa18",
   "metadata": {},
   "outputs": [],
   "source": [
    "for i, char in enumerate(chars[:nclass]):\n",
    "    class_lookup[i] = char\n",
    "    fnames = glob.glob('{}/{}/*.png'.format(data_dir, char))[:sample_per_class]\n",
    "    for j, fname in enumerate(fnames):\n",
    "        img = cv2.imread(fname)\n",
    "        img = cv2.resize(img, (N, N))\n",
    "        img = (img[:, :, 0] > 0).astype('int32')\n",
    "        data[i * nclass + j, :, :] = img\n",
    "        label[i * nclass + j] = i"
   ]
  },
  {
   "cell_type": "code",
   "execution_count": 10,
   "id": "ed101d6f",
   "metadata": {
    "scrolled": true
   },
   "outputs": [
    {
     "data": {
      "application/vnd.jupyter.widget-view+json": {
       "model_id": "08f52045727d40fbbe62e846848ba9f8",
       "version_major": 2,
       "version_minor": 0
      },
      "text/plain": [
       "  0%|          | 0/100 [00:00<?, ?it/s]"
      ]
     },
     "metadata": {},
     "output_type": "display_data"
    }
   ],
   "source": [
    "for i in tqdm(range(nclass * sample_per_class)):\n",
    "    img = data[i, :, :]\n",
    "    feature_ekmi[i, :, :] = get_ekmi(order, img, p)\n",
    "    feature_ikmi[i, :, :] = wkrchkmoment_single(img)[0][:order, :order]"
   ]
  },
  {
   "cell_type": "code",
   "execution_count": 11,
   "id": "b683690b",
   "metadata": {},
   "outputs": [],
   "source": [
    "# todo: choose feature\n",
    "feature = feature_ekmi"
   ]
  },
  {
   "cell_type": "code",
   "execution_count": 12,
   "id": "136f96c9",
   "metadata": {},
   "outputs": [
    {
     "data": {
      "text/plain": [
       "0.004018112291240717"
      ]
     },
     "execution_count": 12,
     "metadata": {},
     "output_type": "execute_result"
    }
   ],
   "source": [
    "sum(sum((feature[1] - feature[12]) ** 2))"
   ]
  },
  {
   "cell_type": "code",
   "execution_count": 22,
   "id": "53ce4f90",
   "metadata": {},
   "outputs": [
    {
     "data": {
      "text/plain": [
       "(0, 3)"
      ]
     },
     "execution_count": 22,
     "metadata": {},
     "output_type": "execute_result"
    }
   ],
   "source": [
    "label[1], label[30]"
   ]
  },
  {
   "cell_type": "code",
   "execution_count": 20,
   "id": "579b60af",
   "metadata": {},
   "outputs": [
    {
     "data": {
      "text/plain": [
       "array([[3.61, 1.72, 0.76, 0.3 , 0.11],\n",
       "       [1.59, 0.77, 0.34, 0.14, 0.05],\n",
       "       [0.62, 0.31, 0.14, 0.06, 0.02],\n",
       "       [0.2 , 0.1 , 0.05, 0.02, 0.01],\n",
       "       [0.05, 0.03, 0.01, 0.01, 0.  ]])"
      ]
     },
     "execution_count": 20,
     "metadata": {},
     "output_type": "execute_result"
    }
   ],
   "source": [
    "(feature[1,:,:] * 100).round(2)"
   ]
  },
  {
   "cell_type": "code",
   "execution_count": 21,
   "id": "0747586b",
   "metadata": {},
   "outputs": [
    {
     "data": {
      "text/plain": [
       "array([[ 2.28,  0.53,  0.09,  0.  , -0.  ],\n",
       "       [ 1.58,  0.36,  0.06,  0.  , -0.  ],\n",
       "       [ 1.07,  0.23,  0.03,  0.  , -0.  ],\n",
       "       [ 0.7 ,  0.15,  0.02,  0.  , -0.  ],\n",
       "       [ 0.45,  0.09,  0.01, -0.  , -0.  ]])"
      ]
     },
     "execution_count": 21,
     "metadata": {},
     "output_type": "execute_result"
    }
   ],
   "source": [
    "(feature[30,:,:] * 100).round(2)"
   ]
  },
  {
   "cell_type": "code",
   "execution_count": 13,
   "id": "9b969119",
   "metadata": {},
   "outputs": [],
   "source": [
    "test_idxs = np.concatenate([[i * nclass + j for i in range(nclass)] for j in range(2)])\n",
    "test_idxs.sort()\n",
    "train_idxs = [x for x in range(feature.shape[0]) if x not in test_idxs]\n",
    "\n",
    "test = feature[test_idxs]\n",
    "test_label = label[test_idxs]\n",
    "test_feature = feature[test_idxs]\n",
    "\n",
    "train = feature[train_idxs]\n",
    "train_label = label[train_idxs]\n",
    "train_feature = feature[train_idxs]"
   ]
  },
  {
   "cell_type": "code",
   "execution_count": 14,
   "id": "fdd5cdc6",
   "metadata": {},
   "outputs": [],
   "source": [
    "X = train.reshape((train.shape[0], train.shape[1] * train.shape[2]))\n",
    "y = test.reshape((test.shape[0], test.shape[1] * test.shape[2]))"
   ]
  },
  {
   "cell_type": "code",
   "execution_count": 15,
   "id": "e5488a5d",
   "metadata": {
    "scrolled": true
   },
   "outputs": [
    {
     "data": {
      "text/plain": [
       "0.25"
      ]
     },
     "execution_count": 15,
     "metadata": {},
     "output_type": "execute_result"
    }
   ],
   "source": [
    "knn = KNeighborsClassifier(n_neighbors=3)\n",
    "knn.fit(X, train_label)\n",
    "sum(knn.predict(y) == test_label) / len(test_label)"
   ]
  },
  {
   "cell_type": "code",
   "execution_count": 19,
   "id": "001e6ff8",
   "metadata": {},
   "outputs": [],
   "source": [
    "# dist = np.zeros((train.shape[0], train.shape[0]))\n",
    "# for i in range(train.shape[0]):\n",
    "#     for j in range(train.shape[0]):\n",
    "#         dist[i, j] = sum(sum((feature[i, :, :] - feature[j, :, :]) ** 2))\n",
    "        \n",
    "# np.where((dist > 0) & (dist < 1))"
   ]
  },
  {
   "cell_type": "code",
   "execution_count": null,
   "id": "3418ad57",
   "metadata": {},
   "outputs": [],
   "source": []
  },
  {
   "cell_type": "code",
   "execution_count": null,
   "id": "b940bd49",
   "metadata": {},
   "outputs": [],
   "source": []
  }
 ],
 "metadata": {
  "kernelspec": {
   "display_name": "Python 3",
   "language": "python",
   "name": "python3"
  },
  "language_info": {
   "codemirror_mode": {
    "name": "ipython",
    "version": 3
   },
   "file_extension": ".py",
   "mimetype": "text/x-python",
   "name": "python",
   "nbconvert_exporter": "python",
   "pygments_lexer": "ipython3",
   "version": "3.9.5"
  }
 },
 "nbformat": 4,
 "nbformat_minor": 5
}
