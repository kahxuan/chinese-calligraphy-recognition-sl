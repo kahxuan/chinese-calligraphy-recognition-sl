{
 "cells": [
  {
   "cell_type": "code",
   "execution_count": 171,
   "id": "70a1b4e2",
   "metadata": {},
   "outputs": [],
   "source": [
    "import sys\n",
    "sys.path.insert(0,'..')\n",
    "\n",
    "import os\n",
    "import glob\n",
    "import json\n",
    "import random\n",
    "from tqdm.notebook import tqdm\n",
    "\n",
    "import cv2 \n",
    "import numpy as np\n",
    "import pandas as pd\n",
    "import matplotlib as mpl\n",
    "from matplotlib import pyplot as plt\n",
    "\n",
    "from sklearn.cluster import KMeans\n",
    "from sklearn.metrics import silhouette_score\n",
    "from sklearn.manifold import TSNE\n",
    "from matplotlib.offsetbox import OffsetImage, AnnotationBbox\n",
    "from image_processing.augmentation import augment_image\n",
    "\n",
    "%matplotlib inline"
   ]
  },
  {
   "cell_type": "markdown",
   "id": "fdaa115b",
   "metadata": {},
   "source": [
    "## Intraclass Variant Clustering"
   ]
  },
  {
   "cell_type": "markdown",
   "id": "9ecf5627",
   "metadata": {},
   "source": [
    "Cluster data into variants based on spatial layout within class to address the intraclass imbalance issue."
   ]
  },
  {
   "cell_type": "markdown",
   "id": "a7320659",
   "metadata": {},
   "source": [
    "### Feature Selection"
   ]
  },
  {
   "cell_type": "markdown",
   "id": "0866f1bc",
   "metadata": {},
   "source": [
    "Possible descriptors\n",
    "* HoG\n",
    "* pHash\n",
    "* Krawtchouk moments\n",
    "\n",
    "We want to select the feature that can minimise distance between similar images and maximize distance between variants in order to obtained well-separated clusters.\n",
    "\n",
    "To compare the descriptors, L2 distance between a few hand-picked clusters are estimated using the mean feature extracted using different descriptors."
   ]
  },
  {
   "cell_type": "markdown",
   "id": "98583c05",
   "metadata": {},
   "source": [
    "#### Manual Variant Grouping"
   ]
  },
  {
   "cell_type": "code",
   "execution_count": 191,
   "id": "af4afc8f",
   "metadata": {},
   "outputs": [],
   "source": [
    "# read data\n",
    "data_dir = '../../data/clustering'\n",
    "images = {}\n",
    "\n",
    "for file in glob.glob(data_dir + '/*/*/*.png'):\n",
    "    tmp = file.split('/')\n",
    "    char = tmp[3]\n",
    "    group = tmp[-2]\n",
    "    img = cv2.imread(file)\n",
    "    if char not in images:\n",
    "        images[char] = {}\n",
    "    if group not in images[char]:\n",
    "        images[char][group] = []\n",
    "    images[char][group].append(img[:, :, 0])"
   ]
  },
  {
   "cell_type": "code",
   "execution_count": 192,
   "id": "b3df4f34",
   "metadata": {
    "scrolled": false
   },
   "outputs": [
    {
     "data": {
      "image/png": "[encoded data removed]",
      "text/plain": [
       "<Figure size 504x180 with 12 Axes>"
      ]
     },
     "metadata": {
      "needs_background": "light"
     },
     "output_type": "display_data"
    }
   ],
   "source": [
    "chars = list(images.keys())\n",
    "chinese_font = mpl.font_manager.FontProperties(fname='../../fonts/heiti.ttf')\n",
    "fig = plt.figure(figsize=(7, 2.5 * len(images)))\n",
    "subfigs = fig.subfigures(len(images), 3)\n",
    "\n",
    "for outerind, subfig in enumerate(subfigs.flat):\n",
    "    axs = subfig.subplots(2, 2)\n",
    "    for innerind, ax in enumerate(axs.flat):\n",
    "        ax.imshow(images[chars[outerind // 3]][str(outerind % 3 + 1)][innerind], 'gray')\n",
    "        ax.axis(\"off\")\n",
    "\n",
    "    subfig.suptitle(\n",
    "        '{} {}'.format(chars[outerind // 3], str(outerind % 3 + 1)), \n",
    "        y=0.1, \n",
    "        fontproperties=chinese_font,\n",
    "        fontsize=15\n",
    "    )\n",
    "        \n",
    "plt.show()"
   ]
  },
  {
   "cell_type": "code",
   "execution_count": 193,
   "id": "1658f4a1",
   "metadata": {},
   "outputs": [],
   "source": [
    "from krawtchouk import wkrchkmoment_single\n",
    "from image_processing.shape_normalization.p2d_bimoment import normalize as p2d_bimoment_normalization\n",
    "\n",
    "def hog_extractor(image):\n",
    "    \n",
    "    nbins = 9\n",
    "    cell_size = (8, 8)\n",
    "    cell_num = (2, 2)\n",
    "    \n",
    "    win_size = (\n",
    "        image.shape[1] // cell_size[1] * cell_size[1], \n",
    "        image.shape[0] // cell_size[0] * cell_size[0]\n",
    "    )\n",
    "    block_size = (cell_num[0] * cell_size[0], cell_num[1] * cell_size[1])\n",
    "    block_stride = cell_size\n",
    "    \n",
    "    hog = cv2.HOGDescriptor(win_size, block_size, block_stride, cell_size, nbins)\n",
    "    return hog.compute(image)[:, 0]\n",
    "\n",
    "\n",
    "def phash_extractor(image):\n",
    "    return cv2.img_hash.pHash(image)[0, :]\n",
    "\n",
    "\n",
    "def krawtchouk_extractor(image):\n",
    "    tmp = cv2.resize(image, (64, 64))\n",
    "    tmp = (tmp > tmp.max() / 2).astype('float')\n",
    "    QS,Kr1,Kr2 = wkrchkmoment_single(tmp, [0.5, 0.5])\n",
    "    return QS[:5, :5].flatten()"
   ]
  },
  {
   "cell_type": "code",
   "execution_count": 194,
   "id": "10ec42f6",
   "metadata": {},
   "outputs": [
    {
     "name": "stdout",
     "output_type": "stream",
     "text": [
      "\n",
      "        Feature dimension\n",
      "        ==================\n",
      "        HoG   - (8100,)\n",
      "        pHash - (8,)\n",
      "        GIST  - (25,)\n",
      "    \n"
     ]
    }
   ],
   "source": [
    "print(\n",
    "    \"\"\"\n",
    "        Feature dimension\n",
    "        ==================\n",
    "        HoG   - {}\n",
    "        pHash - {}\n",
    "        GIST  - {}\n",
    "    \"\"\".format(\n",
    "        hog_extractor(images[chars[0]]['1'][0]).shape,\n",
    "        phash_extractor(images[chars[0]]['1'][0]).shape,\n",
    "        krawtchouk_extractor(images[chars[0]]['1'][0]).shape\n",
    "    )\n",
    ")"
   ]
  },
  {
   "cell_type": "markdown",
   "id": "bcf81d6b",
   "metadata": {},
   "source": [
    "#### Distance Estimation"
   ]
  },
  {
   "cell_type": "code",
   "execution_count": 195,
   "id": "6520e2e4",
   "metadata": {},
   "outputs": [],
   "source": [
    "def estimate_features(images, extractor):\n",
    "\n",
    "    features = {}\n",
    "    for char in images:\n",
    "        features[char] = {}\n",
    "        for var in images[char]:\n",
    "            var_fs = [extractor(image) for image in images[char][var]]        \n",
    "            features[char][var] = sum(var_fs) / len(var_fs)\n",
    "            \n",
    "    return features\n",
    "\n",
    "\n",
    "def l2_dist(f1, f2):\n",
    "    return np.sqrt((f1 - f2) ** 2).sum()\n",
    "\n",
    "\n",
    "features = {}\n",
    "features['hog'] = estimate_features(images, hog_extractor)\n",
    "features['phash'] = estimate_features(images, phash_extractor)\n",
    "features['kraw'] = estimate_features(images, krawtchouk_extractor)"
   ]
  },
  {
   "cell_type": "code",
   "execution_count": 196,
   "id": "1979954e",
   "metadata": {
    "scrolled": false
   },
   "outputs": [
    {
     "data": {
      "text/html": [
       "<div>\n",
       "<style scoped>\n",
       "    .dataframe tbody tr th:only-of-type {\n",
       "        vertical-align: middle;\n",
       "    }\n",
       "\n",
       "    .dataframe tbody tr th {\n",
       "        vertical-align: top;\n",
       "    }\n",
       "\n",
       "    .dataframe thead th {\n",
       "        text-align: right;\n",
       "    }\n",
       "</style>\n",
       "<table border=\"1\" class=\"dataframe\">\n",
       "  <thead>\n",
       "    <tr style=\"text-align: right;\">\n",
       "      <th></th>\n",
       "      <th></th>\n",
       "      <th>hog</th>\n",
       "      <th>kraw</th>\n",
       "      <th>phash</th>\n",
       "    </tr>\n",
       "    <tr>\n",
       "      <th>char</th>\n",
       "      <th></th>\n",
       "      <th></th>\n",
       "      <th></th>\n",
       "      <th></th>\n",
       "    </tr>\n",
       "  </thead>\n",
       "  <tbody>\n",
       "    <tr>\n",
       "      <th rowspan=\"3\" valign=\"top\">clustering</th>\n",
       "      <th>1 vs 2</th>\n",
       "      <td>241.32</td>\n",
       "      <td>21.67</td>\n",
       "      <td>117.75</td>\n",
       "    </tr>\n",
       "    <tr>\n",
       "      <th>1 vs 3</th>\n",
       "      <td>306.38</td>\n",
       "      <td>38.65</td>\n",
       "      <td>77.12</td>\n",
       "    </tr>\n",
       "    <tr>\n",
       "      <th>score</th>\n",
       "      <td>1.27</td>\n",
       "      <td>1.78</td>\n",
       "      <td>0.65</td>\n",
       "    </tr>\n",
       "  </tbody>\n",
       "</table>\n",
       "</div>"
      ],
      "text/plain": [
       "                      hog   kraw   phash\n",
       "char                                    \n",
       "clustering 1 vs 2  241.32  21.67  117.75\n",
       "           1 vs 3  306.38  38.65   77.12\n",
       "           score     1.27   1.78    0.65"
      ]
     },
     "execution_count": 196,
     "metadata": {},
     "output_type": "execute_result"
    }
   ],
   "source": [
    "res = []\n",
    "for feature in features:\n",
    "    for char in features[feature]:\n",
    "        d = {\n",
    "            'feature': feature,\n",
    "            'char': char,\n",
    "            '1 vs 2': l2_dist(features[feature][char]['1'], features[feature][char]['2']), # similar\n",
    "            '1 vs 3': l2_dist(features[feature][char]['1'], features[feature][char]['3']), # variant\n",
    "        }\n",
    "        d['score'] = d['1 vs 3'] / d['1 vs 2']\n",
    "        res.append(d)\n",
    "        \n",
    "# tidy data into df\n",
    "df = pd.json_normalize(res) \\\n",
    "    .melt(id_vars=['feature', 'char'], var_name='') \\\n",
    "    .pivot_table(index=['char', ''], columns='feature')['value']\n",
    "df.columns.name = ''\n",
    "df.round(2)"
   ]
  },
  {
   "cell_type": "markdown",
   "id": "e59b699e",
   "metadata": {},
   "source": [
    "Krawtchouk moments are selected as the feature descriptor as it gives the highest score for all characters."
   ]
  },
  {
   "cell_type": "markdown",
   "id": "a385e250",
   "metadata": {},
   "source": [
    "### Clustering"
   ]
  },
  {
   "cell_type": "markdown",
   "id": "0eb73065",
   "metadata": {},
   "source": [
    "The number of clusters are determined based on the silhouette score, a class will remain to have one cluster if the score doesn't exceed a certain threshold."
   ]
  },
  {
   "cell_type": "code",
   "execution_count": 197,
   "id": "3f1461a8",
   "metadata": {},
   "outputs": [],
   "source": [
    "# read data\n",
    "data_dir = '../../data/shufadict/clean'\n",
    "ext_data_dir = '../../data/hanwen360/clean' # external data\n",
    "images = {}\n",
    "\n",
    "for file in glob.glob(data_dir + '/*/*.png') + (glob.glob(ext_data_dir + '/*/*.png')):\n",
    "    char = file.split('/')[-2]\n",
    "    img = cv2.imread(file)\n",
    "    if char not in images:\n",
    "        images[char] = []\n",
    "    images[char].append(img[:, :, 0])"
   ]
  },
  {
   "cell_type": "code",
   "execution_count": 198,
   "id": "826130c7",
   "metadata": {
    "scrolled": true
   },
   "outputs": [
    {
     "data": {
      "application/vnd.jupyter.widget-view+json": {
       "model_id": "01dc586d3de2494fb496a9d8a3ebff70",
       "version_major": 2,
       "version_minor": 0
      },
      "text/plain": [
       "后:   0%|          | 0/96 [00:00<?, ?it/s]"
      ]
     },
     "metadata": {},
     "output_type": "display_data"
    },
    {
     "data": {
      "application/vnd.jupyter.widget-view+json": {
       "model_id": "d734ae715a5e4e40be2d4a0f966031d2",
       "version_major": 2,
       "version_minor": 0
      },
      "text/plain": [
       "家:   0%|          | 0/96 [00:00<?, ?it/s]"
      ]
     },
     "metadata": {},
     "output_type": "display_data"
    },
    {
     "data": {
      "application/vnd.jupyter.widget-view+json": {
       "model_id": "d7999e82c4da4f0a99bfc64597209ebe",
       "version_major": 2,
       "version_minor": 0
      },
      "text/plain": [
       "无:   0%|          | 0/96 [00:00<?, ?it/s]"
      ]
     },
     "metadata": {},
     "output_type": "display_data"
    },
    {
     "data": {
      "application/vnd.jupyter.widget-view+json": {
       "model_id": "b9c9faf42b9447208739510793d65271",
       "version_major": 2,
       "version_minor": 0
      },
      "text/plain": [
       "和:   0%|          | 0/96 [00:00<?, ?it/s]"
      ]
     },
     "metadata": {},
     "output_type": "display_data"
    },
    {
     "data": {
      "application/vnd.jupyter.widget-view+json": {
       "model_id": "9e2c6b83af944182b53c4a5f78a9de2b",
       "version_major": 2,
       "version_minor": 0
      },
      "text/plain": [
       "如:   0%|          | 0/96 [00:00<?, ?it/s]"
      ]
     },
     "metadata": {},
     "output_type": "display_data"
    },
    {
     "data": {
      "application/vnd.jupyter.widget-view+json": {
       "model_id": "e89167a482464b7e95b188131776c52d",
       "version_major": 2,
       "version_minor": 0
      },
      "text/plain": [
       "多:   0%|          | 0/96 [00:00<?, ?it/s]"
      ]
     },
     "metadata": {},
     "output_type": "display_data"
    },
    {
     "data": {
      "application/vnd.jupyter.widget-view+json": {
       "model_id": "18e4b3030c4342e0b7b0078a8d69f879",
       "version_major": 2,
       "version_minor": 0
      },
      "text/plain": [
       "有:   0%|          | 0/96 [00:00<?, ?it/s]"
      ]
     },
     "metadata": {},
     "output_type": "display_data"
    },
    {
     "data": {
      "application/vnd.jupyter.widget-view+json": {
       "model_id": "c98cfac967a948e48d44618e31ce0bbd",
       "version_major": 2,
       "version_minor": 0
      },
      "text/plain": [
       "最:   0%|          | 0/96 [00:00<?, ?it/s]"
      ]
     },
     "metadata": {},
     "output_type": "display_data"
    },
    {
     "data": {
      "application/vnd.jupyter.widget-view+json": {
       "model_id": "4423757bbdae4931bd0e0e6f54a19b73",
       "version_major": 2,
       "version_minor": 0
      },
      "text/plain": [
       "面:   0%|          | 0/96 [00:00<?, ?it/s]"
      ]
     },
     "metadata": {},
     "output_type": "display_data"
    },
    {
     "data": {
      "application/vnd.jupyter.widget-view+json": {
       "model_id": "e31ede95bb3547e1a6581f6cbcafc177",
       "version_major": 2,
       "version_minor": 0
      },
      "text/plain": [
       "要:   0%|          | 0/96 [00:00<?, ?it/s]"
      ]
     },
     "metadata": {},
     "output_type": "display_data"
    },
    {
     "data": {
      "application/vnd.jupyter.widget-view+json": {
       "model_id": "01de1eb899de497bb75f66c02c6e3c09",
       "version_major": 2,
       "version_minor": 0
      },
      "text/plain": [
       "国:   0%|          | 0/96 [00:00<?, ?it/s]"
      ]
     },
     "metadata": {},
     "output_type": "display_data"
    },
    {
     "data": {
      "application/vnd.jupyter.widget-view+json": {
       "model_id": "b1f546ca4d8c480398cef491cf3c33ae",
       "version_major": 2,
       "version_minor": 0
      },
      "text/plain": [
       "女:   0%|          | 0/96 [00:00<?, ?it/s]"
      ]
     },
     "metadata": {},
     "output_type": "display_data"
    },
    {
     "data": {
      "application/vnd.jupyter.widget-view+json": {
       "model_id": "0bd10e5749c74446b51d63392faee401",
       "version_major": 2,
       "version_minor": 0
      },
      "text/plain": [
       "好:   0%|          | 0/96 [00:00<?, ?it/s]"
      ]
     },
     "metadata": {},
     "output_type": "display_data"
    },
    {
     "data": {
      "application/vnd.jupyter.widget-view+json": {
       "model_id": "2c7f01d75ddd48db9ab6cf585fbf01d5",
       "version_major": 2,
       "version_minor": 0
      },
      "text/plain": [
       "看:   0%|          | 0/96 [00:00<?, ?it/s]"
      ]
     },
     "metadata": {},
     "output_type": "display_data"
    },
    {
     "data": {
      "application/vnd.jupyter.widget-view+json": {
       "model_id": "5bb79f0b4cae462eb2bf054cbb26d882",
       "version_major": 2,
       "version_minor": 0
      },
      "text/plain": [
       "着:   0%|          | 0/141 [00:00<?, ?it/s]"
      ]
     },
     "metadata": {},
     "output_type": "display_data"
    },
    {
     "data": {
      "application/vnd.jupyter.widget-view+json": {
       "model_id": "261ed98959d948dda8f46bc350c4d6db",
       "version_major": 2,
       "version_minor": 0
      },
      "text/plain": [
       "在:   0%|          | 0/96 [00:00<?, ?it/s]"
      ]
     },
     "metadata": {},
     "output_type": "display_data"
    },
    {
     "data": {
      "application/vnd.jupyter.widget-view+json": {
       "model_id": "9cb248e7c2e34e87b03137d9621e1207",
       "version_major": 2,
       "version_minor": 0
      },
      "text/plain": [
       "己:   0%|          | 0/96 [00:00<?, ?it/s]"
      ]
     },
     "metadata": {},
     "output_type": "display_data"
    },
    {
     "data": {
      "application/vnd.jupyter.widget-view+json": {
       "model_id": "3704b895312e4c9a93e2d89c8025f623",
       "version_major": 2,
       "version_minor": 0
      },
      "text/plain": [
       "小:   0%|          | 0/96 [00:00<?, ?it/s]"
      ]
     },
     "metadata": {},
     "output_type": "display_data"
    },
    {
     "data": {
      "application/vnd.jupyter.widget-view+json": {
       "model_id": "2e502e381e214d3994e8a62e15526a94",
       "version_major": 2,
       "version_minor": 0
      },
      "text/plain": [
       "现:   0%|          | 0/172 [00:00<?, ?it/s]"
      ]
     },
     "metadata": {},
     "output_type": "display_data"
    },
    {
     "data": {
      "application/vnd.jupyter.widget-view+json": {
       "model_id": "82d3bce135804de0bb9046fdbe01871a",
       "version_major": 2,
       "version_minor": 0
      },
      "text/plain": [
       "就:   0%|          | 0/96 [00:00<?, ?it/s]"
      ]
     },
     "metadata": {},
     "output_type": "display_data"
    },
    {
     "data": {
      "application/vnd.jupyter.widget-view+json": {
       "model_id": "81fc08d1b7a242b19e8cead3bb75c021",
       "version_major": 2,
       "version_minor": 0
      },
      "text/plain": [
       "把:   0%|          | 0/154 [00:00<?, ?it/s]"
      ]
     },
     "metadata": {},
     "output_type": "display_data"
    },
    {
     "data": {
      "application/vnd.jupyter.widget-view+json": {
       "model_id": "edb09b7679fd41a7824325cc84b7b6e0",
       "version_major": 2,
       "version_minor": 0
      },
      "text/plain": [
       "发:   0%|          | 0/96 [00:00<?, ?it/s]"
      ]
     },
     "metadata": {},
     "output_type": "display_data"
    },
    {
     "data": {
      "application/vnd.jupyter.widget-view+json": {
       "model_id": "44621df52ffb4aabb6d86afc631cb406",
       "version_major": 2,
       "version_minor": 0
      },
      "text/plain": [
       "手:   0%|          | 0/96 [00:00<?, ?it/s]"
      ]
     },
     "metadata": {},
     "output_type": "display_data"
    },
    {
     "data": {
      "application/vnd.jupyter.widget-view+json": {
       "model_id": "6ee3adc7232947079d2150c312046d06",
       "version_major": 2,
       "version_minor": 0
      },
      "text/plain": [
       "起:   0%|          | 0/96 [00:00<?, ?it/s]"
      ]
     },
     "metadata": {},
     "output_type": "display_data"
    },
    {
     "data": {
      "application/vnd.jupyter.widget-view+json": {
       "model_id": "a574f720a0d647ad9fe2121eeeab92e5",
       "version_major": 2,
       "version_minor": 0
      },
      "text/plain": [
       "可:   0%|          | 0/96 [00:00<?, ?it/s]"
      ]
     },
     "metadata": {},
     "output_type": "display_data"
    },
    {
     "data": {
      "application/vnd.jupyter.widget-view+json": {
       "model_id": "49d34b2181144fdf8d89043b2ea6d465",
       "version_major": 2,
       "version_minor": 0
      },
      "text/plain": [
       "们:   0%|          | 0/79 [00:00<?, ?it/s]"
      ]
     },
     "metadata": {},
     "output_type": "display_data"
    },
    {
     "data": {
      "application/vnd.jupyter.widget-view+json": {
       "model_id": "76807a57d0ff41b7b9e737b9f8ca29e3",
       "version_major": 2,
       "version_minor": 0
      },
      "text/plain": [
       "过:   0%|          | 0/96 [00:00<?, ?it/s]"
      ]
     },
     "metadata": {},
     "output_type": "display_data"
    },
    {
     "data": {
      "application/vnd.jupyter.widget-view+json": {
       "model_id": "a5d326cf225044148c0a90d934d06e96",
       "version_major": 2,
       "version_minor": 0
      },
      "text/plain": [
       "情:   0%|          | 0/96 [00:00<?, ?it/s]"
      ]
     },
     "metadata": {},
     "output_type": "display_data"
    },
    {
     "data": {
      "application/vnd.jupyter.widget-view+json": {
       "model_id": "495c8dbd99a04a709ecee22a6129ab47",
       "version_major": 2,
       "version_minor": 0
      },
      "text/plain": [
       "而:   0%|          | 0/96 [00:00<?, ?it/s]"
      ]
     },
     "metadata": {},
     "output_type": "display_data"
    },
    {
     "data": {
      "application/vnd.jupyter.widget-view+json": {
       "model_id": "41f23f409952416fa0b8ab5d6e3dcb8a",
       "version_major": 2,
       "version_minor": 0
      },
      "text/plain": [
       "以:   0%|          | 0/96 [00:00<?, ?it/s]"
      ]
     },
     "metadata": {},
     "output_type": "display_data"
    },
    {
     "data": {
      "application/vnd.jupyter.widget-view+json": {
       "model_id": "598a0414d177475bba745b4178898636",
       "version_major": 2,
       "version_minor": 0
      },
      "text/plain": [
       "心:   0%|          | 0/104 [00:00<?, ?it/s]"
      ]
     },
     "metadata": {},
     "output_type": "display_data"
    },
    {
     "data": {
      "application/vnd.jupyter.widget-view+json": {
       "model_id": "489fb1a5e56a40b18e91ce54ade286f4",
       "version_major": 2,
       "version_minor": 0
      },
      "text/plain": [
       "从:   0%|          | 0/96 [00:00<?, ?it/s]"
      ]
     },
     "metadata": {},
     "output_type": "display_data"
    },
    {
     "data": {
      "application/vnd.jupyter.widget-view+json": {
       "model_id": "b20a39bd03334804ba477bbe362d2c59",
       "version_major": 2,
       "version_minor": 0
      },
      "text/plain": [
       "能:   0%|          | 0/96 [00:00<?, ?it/s]"
      ]
     },
     "metadata": {},
     "output_type": "display_data"
    },
    {
     "data": {
      "application/vnd.jupyter.widget-view+json": {
       "model_id": "2f14640a2d0b4aebaa090d2333778347",
       "version_major": 2,
       "version_minor": 0
      },
      "text/plain": [
       "中:   0%|          | 0/96 [00:00<?, ?it/s]"
      ]
     },
     "metadata": {},
     "output_type": "display_data"
    },
    {
     "data": {
      "application/vnd.jupyter.widget-view+json": {
       "model_id": "07df23f2f4e948d180640359d5db7344",
       "version_major": 2,
       "version_minor": 0
      },
      "text/plain": [
       "美:   0%|          | 0/96 [00:00<?, ?it/s]"
      ]
     },
     "metadata": {},
     "output_type": "display_data"
    },
    {
     "data": {
      "application/vnd.jupyter.widget-view+json": {
       "model_id": "e2aef8fc6b8e42e4af2acad6fb56225a",
       "version_major": 2,
       "version_minor": 0
      },
      "text/plain": [
       "会:   0%|          | 0/111 [00:00<?, ?it/s]"
      ]
     },
     "metadata": {},
     "output_type": "display_data"
    },
    {
     "data": {
      "application/vnd.jupyter.widget-view+json": {
       "model_id": "cdf6c3bcaaa84de2b484a445134c5fc6",
       "version_major": 2,
       "version_minor": 0
      },
      "text/plain": [
       "个:   0%|          | 0/169 [00:00<?, ?it/s]"
      ]
     },
     "metadata": {},
     "output_type": "display_data"
    },
    {
     "data": {
      "application/vnd.jupyter.widget-view+json": {
       "model_id": "d1347fbd92f642cca14620b27c9a4e0c",
       "version_major": 2,
       "version_minor": 0
      },
      "text/plain": [
       "也:   0%|          | 0/96 [00:00<?, ?it/s]"
      ]
     },
     "metadata": {},
     "output_type": "display_data"
    },
    {
     "data": {
      "application/vnd.jupyter.widget-view+json": {
       "model_id": "0b0d1a0ed480465b86dcda8cbc394331",
       "version_major": 2,
       "version_minor": 0
      },
      "text/plain": [
       "事:   0%|          | 0/96 [00:00<?, ?it/s]"
      ]
     },
     "metadata": {},
     "output_type": "display_data"
    },
    {
     "data": {
      "application/vnd.jupyter.widget-view+json": {
       "model_id": "a6fedaa86ed24ffc9b9109d21e36184c",
       "version_major": 2,
       "version_minor": 0
      },
      "text/plain": [
       "想:   0%|          | 0/112 [00:00<?, ?it/s]"
      ]
     },
     "metadata": {},
     "output_type": "display_data"
    },
    {
     "data": {
      "application/vnd.jupyter.widget-view+json": {
       "model_id": "692e8096a39240dc8e6913a3c4d4d9fb",
       "version_major": 2,
       "version_minor": 0
      },
      "text/plain": [
       "之:   0%|          | 0/96 [00:00<?, ?it/s]"
      ]
     },
     "metadata": {},
     "output_type": "display_data"
    },
    {
     "data": {
      "application/vnd.jupyter.widget-view+json": {
       "model_id": "f7c9ad455a894c018c990995dede0b16",
       "version_major": 2,
       "version_minor": 0
      },
      "text/plain": [
       "一:   0%|          | 0/116 [00:00<?, ?it/s]"
      ]
     },
     "metadata": {},
     "output_type": "display_data"
    },
    {
     "data": {
      "application/vnd.jupyter.widget-view+json": {
       "model_id": "63b3d2377180433a9022dbd1cc2f7ecb",
       "version_major": 2,
       "version_minor": 0
      },
      "text/plain": [
       "当:   0%|          | 0/96 [00:00<?, ?it/s]"
      ]
     },
     "metadata": {},
     "output_type": "display_data"
    },
    {
     "data": {
      "application/vnd.jupyter.widget-view+json": {
       "model_id": "1c0ef0e0b5f042569d7511381733e776",
       "version_major": 2,
       "version_minor": 0
      },
      "text/plain": [
       "总:   0%|          | 0/95 [00:00<?, ?it/s]"
      ]
     },
     "metadata": {},
     "output_type": "display_data"
    },
    {
     "data": {
      "application/vnd.jupyter.widget-view+json": {
       "model_id": "7e3e4b73c0024bdcbdf014a4882056f8",
       "version_major": 2,
       "version_minor": 0
      },
      "text/plain": [
       "然:   0%|          | 0/95 [00:00<?, ?it/s]"
      ]
     },
     "metadata": {},
     "output_type": "display_data"
    },
    {
     "data": {
      "application/vnd.jupyter.widget-view+json": {
       "model_id": "0de840e601dc4b309f7a1161d66e28e9",
       "version_major": 2,
       "version_minor": 0
      },
      "text/plain": [
       "你:   0%|          | 0/87 [00:00<?, ?it/s]"
      ]
     },
     "metadata": {},
     "output_type": "display_data"
    },
    {
     "data": {
      "application/vnd.jupyter.widget-view+json": {
       "model_id": "7a3da37252e04e368ecd0487d3594cd5",
       "version_major": 2,
       "version_minor": 0
      },
      "text/plain": [
       "人:   0%|          | 0/96 [00:00<?, ?it/s]"
      ]
     },
     "metadata": {},
     "output_type": "display_data"
    },
    {
     "data": {
      "application/vnd.jupyter.widget-view+json": {
       "model_id": "f2b401f382ab4212b66b78f25f843732",
       "version_major": 2,
       "version_minor": 0
      },
      "text/plain": [
       "子:   0%|          | 0/96 [00:00<?, ?it/s]"
      ]
     },
     "metadata": {},
     "output_type": "display_data"
    },
    {
     "data": {
      "application/vnd.jupyter.widget-view+json": {
       "model_id": "0603a655852b492ea97074920a9f579f",
       "version_major": 2,
       "version_minor": 0
      },
      "text/plain": [
       "日:   0%|          | 0/96 [00:00<?, ?it/s]"
      ]
     },
     "metadata": {},
     "output_type": "display_data"
    },
    {
     "data": {
      "application/vnd.jupyter.widget-view+json": {
       "model_id": "a5b06182f7e046efb9eabc3ab173c6f8",
       "version_major": 2,
       "version_minor": 0
      },
      "text/plain": [
       "时:   0%|          | 0/103 [00:00<?, ?it/s]"
      ]
     },
     "metadata": {},
     "output_type": "display_data"
    },
    {
     "data": {
      "application/vnd.jupyter.widget-view+json": {
       "model_id": "e302150f93ea46fda495e82e97242263",
       "version_major": 2,
       "version_minor": 0
      },
      "text/plain": [
       "生:   0%|          | 0/96 [00:00<?, ?it/s]"
      ]
     },
     "metadata": {},
     "output_type": "display_data"
    },
    {
     "data": {
      "application/vnd.jupyter.widget-view+json": {
       "model_id": "dd5be27cd6e54e9592d9eee9ddefcb36",
       "version_major": 2,
       "version_minor": 0
      },
      "text/plain": [
       "说:   0%|          | 0/96 [00:00<?, ?it/s]"
      ]
     },
     "metadata": {},
     "output_type": "display_data"
    },
    {
     "data": {
      "application/vnd.jupyter.widget-view+json": {
       "model_id": "121540dae39a44cc8cd1beaa3e4d8ec6",
       "version_major": 2,
       "version_minor": 0
      },
      "text/plain": [
       "用:   0%|          | 0/96 [00:00<?, ?it/s]"
      ]
     },
     "metadata": {},
     "output_type": "display_data"
    },
    {
     "data": {
      "application/vnd.jupyter.widget-view+json": {
       "model_id": "8d0622f3d9bc480facf73df7cd0b0457",
       "version_major": 2,
       "version_minor": 0
      },
      "text/plain": [
       "对:   0%|          | 0/96 [00:00<?, ?it/s]"
      ]
     },
     "metadata": {},
     "output_type": "display_data"
    },
    {
     "data": {
      "application/vnd.jupyter.widget-view+json": {
       "model_id": "8c2db61ea99944c99d536f9a9dad7ef7",
       "version_major": 2,
       "version_minor": 0
      },
      "text/plain": [
       "学:   0%|          | 0/96 [00:00<?, ?it/s]"
      ]
     },
     "metadata": {},
     "output_type": "display_data"
    },
    {
     "data": {
      "application/vnd.jupyter.widget-view+json": {
       "model_id": "4f73bb577dca4e1e87f849a1e42bdbd0",
       "version_major": 2,
       "version_minor": 0
      },
      "text/plain": [
       "第:   0%|          | 0/96 [00:00<?, ?it/s]"
      ]
     },
     "metadata": {},
     "output_type": "display_data"
    },
    {
     "data": {
      "application/vnd.jupyter.widget-view+json": {
       "model_id": "bfba055761ea43c29596b25e8ae30e1c",
       "version_major": 2,
       "version_minor": 0
      },
      "text/plain": [
       "同:   0%|          | 0/96 [00:00<?, ?it/s]"
      ]
     },
     "metadata": {},
     "output_type": "display_data"
    },
    {
     "data": {
      "application/vnd.jupyter.widget-view+json": {
       "model_id": "05bef64bff184a9fa696e1a0c6eb22ed",
       "version_major": 2,
       "version_minor": 0
      },
      "text/plain": [
       "的:   0%|          | 0/157 [00:00<?, ?it/s]"
      ]
     },
     "metadata": {},
     "output_type": "display_data"
    },
    {
     "data": {
      "application/vnd.jupyter.widget-view+json": {
       "model_id": "017f1efe824d40c3876d248dfac88192",
       "version_major": 2,
       "version_minor": 0
      },
      "text/plain": [
       "她:   0%|          | 0/71 [00:00<?, ?it/s]"
      ]
     },
     "metadata": {},
     "output_type": "display_data"
    },
    {
     "data": {
      "application/vnd.jupyter.widget-view+json": {
       "model_id": "80a55d44efb24f51a29fce0bf1950e22",
       "version_major": 2,
       "version_minor": 0
      },
      "text/plain": [
       "样:   0%|          | 0/123 [00:00<?, ?it/s]"
      ]
     },
     "metadata": {},
     "output_type": "display_data"
    },
    {
     "data": {
      "application/vnd.jupyter.widget-view+json": {
       "model_id": "ef1444353e0d467e8aa0b6242bf19582",
       "version_major": 2,
       "version_minor": 0
      },
      "text/plain": [
       "是:   0%|          | 0/96 [00:00<?, ?it/s]"
      ]
     },
     "metadata": {},
     "output_type": "display_data"
    },
    {
     "data": {
      "application/vnd.jupyter.widget-view+json": {
       "model_id": "60a22954476e4b09abbeea0f61efda66",
       "version_major": 2,
       "version_minor": 0
      },
      "text/plain": [
       "大:   0%|          | 0/96 [00:00<?, ?it/s]"
      ]
     },
     "metadata": {},
     "output_type": "display_data"
    },
    {
     "data": {
      "application/vnd.jupyter.widget-view+json": {
       "model_id": "b8e832bdc1574705a8b20e0ac63c4900",
       "version_major": 2,
       "version_minor": 0
      },
      "text/plain": [
       "天:   0%|          | 0/96 [00:00<?, ?it/s]"
      ]
     },
     "metadata": {},
     "output_type": "display_data"
    },
    {
     "data": {
      "application/vnd.jupyter.widget-view+json": {
       "model_id": "7fabb5c6dadd4714ac6384f411587dcc",
       "version_major": 2,
       "version_minor": 0
      },
      "text/plain": [
       "来:   0%|          | 0/96 [00:00<?, ?it/s]"
      ]
     },
     "metadata": {},
     "output_type": "display_data"
    },
    {
     "data": {
      "application/vnd.jupyter.widget-view+json": {
       "model_id": "483ab93fa050468683bcf4beec45f11d",
       "version_major": 2,
       "version_minor": 0
      },
      "text/plain": [
       "种:   0%|          | 0/95 [00:00<?, ?it/s]"
      ]
     },
     "metadata": {},
     "output_type": "display_data"
    },
    {
     "data": {
      "application/vnd.jupyter.widget-view+json": {
       "model_id": "538ccb7d037b40688ce86d77ca7eb399",
       "version_major": 2,
       "version_minor": 0
      },
      "text/plain": [
       "地:   0%|          | 0/96 [00:00<?, ?it/s]"
      ]
     },
     "metadata": {},
     "output_type": "display_data"
    },
    {
     "data": {
      "application/vnd.jupyter.widget-view+json": {
       "model_id": "3cc45e057c57485e96245c52a7d34723",
       "version_major": 2,
       "version_minor": 0
      },
      "text/plain": [
       "行:   0%|          | 0/96 [00:00<?, ?it/s]"
      ]
     },
     "metadata": {},
     "output_type": "display_data"
    },
    {
     "data": {
      "application/vnd.jupyter.widget-view+json": {
       "model_id": "7c496f075fbc4fbdb922b1918d8dbee0",
       "version_major": 2,
       "version_minor": 0
      },
      "text/plain": [
       "所:   0%|          | 0/96 [00:00<?, ?it/s]"
      ]
     },
     "metadata": {},
     "output_type": "display_data"
    },
    {
     "data": {
      "application/vnd.jupyter.widget-view+json": {
       "model_id": "be0d1e47b8b44b9197db84e33eaa3fe2",
       "version_major": 2,
       "version_minor": 0
      },
      "text/plain": [
       "只:   0%|          | 0/96 [00:00<?, ?it/s]"
      ]
     },
     "metadata": {},
     "output_type": "display_data"
    },
    {
     "data": {
      "application/vnd.jupyter.widget-view+json": {
       "model_id": "96001b5bcf2843ce92c523c0e9f965e3",
       "version_major": 2,
       "version_minor": 0
      },
      "text/plain": [
       "动:   0%|          | 0/96 [00:00<?, ?it/s]"
      ]
     },
     "metadata": {},
     "output_type": "display_data"
    },
    {
     "data": {
      "application/vnd.jupyter.widget-view+json": {
       "model_id": "e5fe74bd7cc54b59a2f1ff8b02ed8fa5",
       "version_major": 2,
       "version_minor": 0
      },
      "text/plain": [
       "到:   0%|          | 0/96 [00:00<?, ?it/s]"
      ]
     },
     "metadata": {},
     "output_type": "display_data"
    },
    {
     "data": {
      "application/vnd.jupyter.widget-view+json": {
       "model_id": "80508d46ab8b4c86939133dd1b267552",
       "version_major": 2,
       "version_minor": 0
      },
      "text/plain": [
       "成:   0%|          | 0/111 [00:00<?, ?it/s]"
      ]
     },
     "metadata": {},
     "output_type": "display_data"
    },
    {
     "data": {
      "application/vnd.jupyter.widget-view+json": {
       "model_id": "fae9f4e505524adfa0ab7776056f1f5d",
       "version_major": 2,
       "version_minor": 0
      },
      "text/plain": [
       "又:   0%|          | 0/96 [00:00<?, ?it/s]"
      ]
     },
     "metadata": {},
     "output_type": "display_data"
    },
    {
     "data": {
      "application/vnd.jupyter.widget-view+json": {
       "model_id": "380e7b4345eb4a05856b4f3f084f4b7e",
       "version_major": 2,
       "version_minor": 0
      },
      "text/plain": [
       "前:   0%|          | 0/96 [00:00<?, ?it/s]"
      ]
     },
     "metadata": {},
     "output_type": "display_data"
    },
    {
     "data": {
      "application/vnd.jupyter.widget-view+json": {
       "model_id": "ed9803d20744462db8bd4fa5003ff06f",
       "version_major": 2,
       "version_minor": 0
      },
      "text/plain": [
       "去:   0%|          | 0/96 [00:00<?, ?it/s]"
      ]
     },
     "metadata": {},
     "output_type": "display_data"
    },
    {
     "data": {
      "application/vnd.jupyter.widget-view+json": {
       "model_id": "ae7dc4e591c34eee9fe20befa9f4210c",
       "version_major": 2,
       "version_minor": 0
      },
      "text/plain": [
       "没:   0%|          | 0/96 [00:00<?, ?it/s]"
      ]
     },
     "metadata": {},
     "output_type": "display_data"
    },
    {
     "data": {
      "application/vnd.jupyter.widget-view+json": {
       "model_id": "fd5c04bf98ae437583c9fa496d8c86c4",
       "version_major": 2,
       "version_minor": 0
      },
      "text/plain": [
       "我:   0%|          | 0/96 [00:00<?, ?it/s]"
      ]
     },
     "metadata": {},
     "output_type": "display_data"
    },
    {
     "data": {
      "application/vnd.jupyter.widget-view+json": {
       "model_id": "5737a9d10e6e48b38996f4e5b632080c",
       "version_major": 2,
       "version_minor": 0
      },
      "text/plain": [
       "了:   0%|          | 0/96 [00:00<?, ?it/s]"
      ]
     },
     "metadata": {},
     "output_type": "display_data"
    },
    {
     "data": {
      "application/vnd.jupyter.widget-view+json": {
       "model_id": "8df11690c5044b2c845029248c341e08",
       "version_major": 2,
       "version_minor": 0
      },
      "text/plain": [
       "作:   0%|          | 0/96 [00:00<?, ?it/s]"
      ]
     },
     "metadata": {},
     "output_type": "display_data"
    },
    {
     "data": {
      "application/vnd.jupyter.widget-view+json": {
       "model_id": "8e3a2e42f6b24ca78893d8cf4e5a3521",
       "version_major": 2,
       "version_minor": 0
      },
      "text/plain": [
       "还:   0%|          | 0/96 [00:00<?, ?it/s]"
      ]
     },
     "metadata": {},
     "output_type": "display_data"
    },
    {
     "data": {
      "application/vnd.jupyter.widget-view+json": {
       "model_id": "0cc82195e3774547b47ab1f1bd745f50",
       "version_major": 2,
       "version_minor": 0
      },
      "text/plain": [
       "都:   0%|          | 0/96 [00:00<?, ?it/s]"
      ]
     },
     "metadata": {},
     "output_type": "display_data"
    },
    {
     "data": {
      "application/vnd.jupyter.widget-view+json": {
       "model_id": "6ffac3e8853249fcb1e88a10d326f79b",
       "version_major": 2,
       "version_minor": 0
      },
      "text/plain": [
       "年:   0%|          | 0/96 [00:00<?, ?it/s]"
      ]
     },
     "metadata": {},
     "output_type": "display_data"
    },
    {
     "data": {
      "application/vnd.jupyter.widget-view+json": {
       "model_id": "23f4299b4a0e4d689794bf830234b38f",
       "version_major": 2,
       "version_minor": 0
      },
      "text/plain": [
       "出:   0%|          | 0/96 [00:00<?, ?it/s]"
      ]
     },
     "metadata": {},
     "output_type": "display_data"
    },
    {
     "data": {
      "application/vnd.jupyter.widget-view+json": {
       "model_id": "2ce1913bf743494b90aff9771e38b1fd",
       "version_major": 2,
       "version_minor": 0
      },
      "text/plain": [
       "他:   0%|          | 0/95 [00:00<?, ?it/s]"
      ]
     },
     "metadata": {},
     "output_type": "display_data"
    },
    {
     "data": {
      "application/vnd.jupyter.widget-view+json": {
       "model_id": "26665533d9e1427e898b6b6ce89485b9",
       "version_major": 2,
       "version_minor": 0
      },
      "text/plain": [
       "得:   0%|          | 0/96 [00:00<?, ?it/s]"
      ]
     },
     "metadata": {},
     "output_type": "display_data"
    },
    {
     "data": {
      "application/vnd.jupyter.widget-view+json": {
       "model_id": "571b5d2d6c834c3dae4791b9912f999b",
       "version_major": 2,
       "version_minor": 0
      },
      "text/plain": [
       "那:   0%|          | 0/94 [00:00<?, ?it/s]"
      ]
     },
     "metadata": {},
     "output_type": "display_data"
    },
    {
     "data": {
      "application/vnd.jupyter.widget-view+json": {
       "model_id": "6096c304e8d74bfbbd35608450ac88bb",
       "version_major": 2,
       "version_minor": 0
      },
      "text/plain": [
       "下:   0%|          | 0/107 [00:00<?, ?it/s]"
      ]
     },
     "metadata": {},
     "output_type": "display_data"
    },
    {
     "data": {
      "application/vnd.jupyter.widget-view+json": {
       "model_id": "76dd07e7a4314c17abcf414f54765718",
       "version_major": 2,
       "version_minor": 0
      },
      "text/plain": [
       "于:   0%|          | 0/104 [00:00<?, ?it/s]"
      ]
     },
     "metadata": {},
     "output_type": "display_data"
    },
    {
     "data": {
      "application/vnd.jupyter.widget-view+json": {
       "model_id": "cf350ce01a374722ad06a9b47587b3f0",
       "version_major": 2,
       "version_minor": 0
      },
      "text/plain": [
       "意:   0%|          | 0/96 [00:00<?, ?it/s]"
      ]
     },
     "metadata": {},
     "output_type": "display_data"
    },
    {
     "data": {
      "application/vnd.jupyter.widget-view+json": {
       "model_id": "0d59446efc2c48949f03ae171ac0481a",
       "version_major": 2,
       "version_minor": 0
      },
      "text/plain": [
       "里:   0%|          | 0/96 [00:00<?, ?it/s]"
      ]
     },
     "metadata": {},
     "output_type": "display_data"
    },
    {
     "data": {
      "application/vnd.jupyter.widget-view+json": {
       "model_id": "ea6dbb7d9482465da1ca00da0a3ea131",
       "version_major": 2,
       "version_minor": 0
      },
      "text/plain": [
       "这:   0%|          | 0/89 [00:00<?, ?it/s]"
      ]
     },
     "metadata": {},
     "output_type": "display_data"
    },
    {
     "data": {
      "application/vnd.jupyter.widget-view+json": {
       "model_id": "dd9af29b96794e70bd36fca338781117",
       "version_major": 2,
       "version_minor": 0
      },
      "text/plain": [
       "道:   0%|          | 0/96 [00:00<?, ?it/s]"
      ]
     },
     "metadata": {},
     "output_type": "display_data"
    },
    {
     "data": {
      "application/vnd.jupyter.widget-view+json": {
       "model_id": "de30bd2dac994beba5c3f67bd913db0d",
       "version_major": 2,
       "version_minor": 0
      },
      "text/plain": [
       "不:   0%|          | 0/96 [00:00<?, ?it/s]"
      ]
     },
     "metadata": {},
     "output_type": "display_data"
    },
    {
     "data": {
      "application/vnd.jupyter.widget-view+json": {
       "model_id": "6cd0e52866bd4468adf030f0fa1ea9cd",
       "version_major": 2,
       "version_minor": 0
      },
      "text/plain": [
       "开:   0%|          | 0/104 [00:00<?, ?it/s]"
      ]
     },
     "metadata": {},
     "output_type": "display_data"
    },
    {
     "data": {
      "application/vnd.jupyter.widget-view+json": {
       "model_id": "60a096d9c3d14889b3c70c1793f64e48",
       "version_major": 2,
       "version_minor": 0
      },
      "text/plain": [
       "自:   0%|          | 0/96 [00:00<?, ?it/s]"
      ]
     },
     "metadata": {},
     "output_type": "display_data"
    },
    {
     "data": {
      "application/vnd.jupyter.widget-view+json": {
       "model_id": "474a9bc29515445d8df9b59f6f7270a6",
       "version_major": 2,
       "version_minor": 0
      },
      "text/plain": [
       "上:   0%|          | 0/96 [00:00<?, ?it/s]"
      ]
     },
     "metadata": {},
     "output_type": "display_data"
    },
    {
     "data": {
      "application/vnd.jupyter.widget-view+json": {
       "model_id": "243fd5cd42aa475b94af85a44fcb3846",
       "version_major": 2,
       "version_minor": 0
      },
      "text/plain": [
       "为:   0%|          | 0/96 [00:00<?, ?it/s]"
      ]
     },
     "metadata": {},
     "output_type": "display_data"
    },
    {
     "data": {
      "application/vnd.jupyter.widget-view+json": {
       "model_id": "d6d1242979ae4411ae87205573d82495",
       "version_major": 2,
       "version_minor": 0
      },
      "text/plain": [
       "但:   0%|          | 0/96 [00:00<?, ?it/s]"
      ]
     },
     "metadata": {},
     "output_type": "display_data"
    },
    {
     "data": {
      "application/vnd.jupyter.widget-view+json": {
       "model_id": "eec0b03f54cb49398e025f9d3caa93c2",
       "version_major": 2,
       "version_minor": 0
      },
      "text/plain": [
       "些:   0%|          | 0/80 [00:00<?, ?it/s]"
      ]
     },
     "metadata": {},
     "output_type": "display_data"
    },
    {
     "data": {
      "application/vnd.jupyter.widget-view+json": {
       "model_id": "86e182108453428ca2a426a7f6a72f3f",
       "version_major": 2,
       "version_minor": 0
      },
      "text/plain": [
       "么:   0%|          | 0/163 [00:00<?, ?it/s]"
      ]
     },
     "metadata": {},
     "output_type": "display_data"
    }
   ],
   "source": [
    "# extract moment feature for all data\n",
    "img_kraws = {char: [krawtchouk_extractor(img) for img in tqdm(images[char], desc=char)] for char in images}"
   ]
  },
  {
   "cell_type": "code",
   "execution_count": 215,
   "id": "dd4b3512",
   "metadata": {},
   "outputs": [
    {
     "data": {
      "application/vnd.jupyter.widget-view+json": {
       "model_id": "d337a636e8364a8587a074c5c72f7dc1",
       "version_major": 2,
       "version_minor": 0
      },
      "text/plain": [
       "  0%|          | 0/100 [00:00<?, ?it/s]"
      ]
     },
     "metadata": {},
     "output_type": "display_data"
    }
   ],
   "source": [
    "def cluster_images(images, k):\n",
    "    kmeans = KMeans(n_clusters=k, n_init=30, max_iter=300, tol=1e-9)\n",
    "    labels = kmeans.fit(images).labels_\n",
    "    \n",
    "    # reassign by count\n",
    "    labels_mapped = np.zeros(labels.shape)\n",
    "    bincount = np.argsort(-np.bincount(labels))\n",
    "\n",
    "    for i in range(bincount.shape[0]):\n",
    "        labels_mapped[labels == bincount[i]] = i\n",
    "    \n",
    "    # penalise score by number of cluster\n",
    "    score = silhouette_score(images, labels_mapped) - k * 0.01\n",
    "    return labels_mapped.astype(int), score\n",
    "\n",
    "\n",
    "char_labels = {}\n",
    "char_scores = {}\n",
    "\n",
    "for char in tqdm(img_kraws):\n",
    "    \n",
    "    labels_k2, score_k2 = cluster_images(img_kraws[char], 2)\n",
    "    labels_k3, score_k3 = cluster_images(img_kraws[char], 3)\n",
    "    \n",
    "    threshold = 0.195\n",
    "    labels = np.zeros((len(img_kraws[char]),))\n",
    "    score = None\n",
    "\n",
    "    if max(score_k2, score_k3) > threshold:\n",
    "        labels, score = labels_k2, score_k2\n",
    "        if score_k3 > score:\n",
    "            labels, score = labels_k3, score_k3\n",
    "            \n",
    "    char_labels[char] = labels\n",
    "    char_scores[char] = score"
   ]
  },
  {
   "cell_type": "code",
   "execution_count": 216,
   "id": "70520000",
   "metadata": {},
   "outputs": [
    {
     "name": "stdout",
     "output_type": "stream",
     "text": [
      "\n",
      "    2 clusters | 多 己 以 美 会 个 一 了 于 道 么\n",
      "    3 clusters | \n",
      "\n"
     ]
    }
   ],
   "source": [
    "filter_ncluster = lambda k: ' '.join([char for char in char_labels if char_labels[char].max() == k - 1])\n",
    "print(\"\"\"\n",
    "    2 clusters | {}\n",
    "    3 clusters | {}\n",
    "\"\"\".format(filter_ncluster(2), filter_ncluster(3)))"
   ]
  },
  {
   "cell_type": "markdown",
   "id": "d6873e14",
   "metadata": {},
   "source": [
    "    2 clusters | 于 日 时 下 多 一 自 么 之 只 可 己 成 学 女 以 会 着 用 想 心\n",
    "    \n",
    "    3 clusters | 个"
   ]
  },
  {
   "cell_type": "markdown",
   "id": "a0bdb44a",
   "metadata": {},
   "source": [
    "#### Cluster Visualisation"
   ]
  },
  {
   "cell_type": "code",
   "execution_count": 125,
   "id": "47e0d26d",
   "metadata": {},
   "outputs": [],
   "source": [
    "def image_to_point(img, label=1):\n",
    "    img = 255 - img\n",
    "    img = np.expand_dims(img, axis=2)\n",
    "    img = img.repeat(3, axis=2)\n",
    "    img[:, :, label] = np.zeros((img.shape[0], img.shape[1])) + 255\n",
    "    img = cv2.cvtColor(img.astype('float32'), cv2.COLOR_RGB2BGR)\n",
    "\n",
    "    return OffsetImage(img / 255, zoom=0.3)\n",
    "\n",
    "\n",
    "def tsne_vis(images, gists, kmeans_labs):\n",
    "    \n",
    "    colors = ['blue', 'green', 'red']\n",
    "    \n",
    "    tsne = TSNE(n_components=2, verbose=0, perplexity=40, n_iter=300)\n",
    "    tsne_res = tsne.fit_transform(gists)\n",
    "\n",
    "    fig, ax = plt.subplots(figsize=(12, 8))\n",
    "    ax.scatter(tsne_res[:,0], tsne_res[:,1])\n",
    "\n",
    "    for i, (x0, y0, img) in enumerate(zip(tsne_res[:,0], tsne_res[:,1], images)):\n",
    "\n",
    "        ab = AnnotationBbox(\n",
    "            image_to_point(img, label=kmeans_labs[i]), \n",
    "            (x0, y0), \n",
    "            frameon=True, \n",
    "            bboxprops=dict(edgecolor=colors[kmeans_labs[i]])\n",
    "        )\n",
    "        ax.add_artist(ab)\n",
    "        ax.set_xticks([])\n",
    "        ax.set_yticks([])"
   ]
  },
  {
   "cell_type": "code",
   "execution_count": 214,
   "id": "cf237093",
   "metadata": {},
   "outputs": [
    {
     "data": {
      "image/png": "[encoded data removed]",
      "text/plain": [
       "<Figure size 864x576 with 1 Axes>"
      ]
     },
     "metadata": {},
     "output_type": "display_data"
    }
   ],
   "source": [
    "char = '个'\n",
    "tsne_vis(images[char], img_kraws[char], char_labels[char])"
   ]
  },
  {
   "cell_type": "markdown",
   "id": "a8e12042",
   "metadata": {},
   "source": [
    "## Train-Val-Test Split"
   ]
  },
  {
   "cell_type": "code",
   "execution_count": 217,
   "id": "404500bc",
   "metadata": {},
   "outputs": [],
   "source": [
    "def plot_variant_freq(var_counts, include_k1=False, jitter_lvl=0):\n",
    "    \n",
    "    freq_cols = ['Variant 1 freq', 'Variant 2 freq', 'Variant 3 freq']\n",
    "    # count for each char variant\n",
    "\n",
    "\n",
    "    # tidy data into df\n",
    "    df = pd.DataFrame(var_counts.values(), columns=freq_cols)\n",
    "    \n",
    "    # add noise to frequency\n",
    "    for col in freq_cols:\n",
    "        df[col] = df[col].apply(lambda x: x + random.random() * jitter_lvl - jitter_lvl / 2)\n",
    "    \n",
    "    df['# clusters'] = [len(x) for x in var_counts.values()]\n",
    "    \n",
    "    if not include_k1:\n",
    "        df = df[df['# clusters'] > 1]\n",
    "    df.insert(0, 'Total', df[freq_cols].sum(axis=1))\n",
    "        \n",
    "    # plot parallel coordinates\n",
    "    ax = pd.plotting.parallel_coordinates(\n",
    "        df, \n",
    "        '# clusters', \n",
    "        color=('#556270', '#4ECDC4', '#C7F464')\n",
    "    )\n",
    "    ax.legend(title='# clusters')\n",
    "    return ax"
   ]
  },
  {
   "cell_type": "code",
   "execution_count": 218,
   "id": "aae626ce",
   "metadata": {},
   "outputs": [
    {
     "name": "stdout",
     "output_type": "stream",
     "text": [
      "Total - 10035\n"
     ]
    }
   ],
   "source": [
    "print('Total -', sum([len(x) for x in char_labels.values()]))"
   ]
  },
  {
   "cell_type": "code",
   "execution_count": 219,
   "id": "13c76a3d",
   "metadata": {},
   "outputs": [
    {
     "data": {
      "image/png": "[encoded data removed]",
      "text/plain": [
       "<Figure size 432x288 with 1 Axes>"
      ]
     },
     "metadata": {
      "needs_background": "light"
     },
     "output_type": "display_data"
    }
   ],
   "source": [
    "plt.hist([len(x) for x in char_labels.values()])\n",
    "_ = plt.title('Histogram of image count')"
   ]
  },
  {
   "cell_type": "code",
   "execution_count": 225,
   "id": "42f6a08d",
   "metadata": {},
   "outputs": [],
   "source": [
    "# var_counts = {\n",
    "#     char: np.bincount(char_labels[char].astype(int)).tolist() for char in char_labels\n",
    "# }\n",
    "\n",
    "# plot_variant_freq(var_counts, True, 3)\n",
    "# _ = plt.title('Image count for each class')"
   ]
  },
  {
   "cell_type": "markdown",
   "id": "ee289a1b",
   "metadata": {},
   "source": [
    "### Target dataset size"
   ]
  },
  {
   "cell_type": "markdown",
   "id": "7226ac79",
   "metadata": {},
   "source": [
    "New training samples will be generated through augmentation.\n",
    "\n",
    "Splitting ratio - roughly 6:2:2\n",
    "* 20 images per class for each test and validation set\n",
    "* 160 images per class for training set after upsampling"
   ]
  },
  {
   "cell_type": "code",
   "execution_count": 227,
   "id": "29b54ea3",
   "metadata": {},
   "outputs": [],
   "source": [
    "test_nps = 20\n",
    "train_aug_nps = 160"
   ]
  },
  {
   "cell_type": "code",
   "execution_count": 228,
   "id": "7c0ebeb6",
   "metadata": {},
   "outputs": [],
   "source": [
    "test_freq = {}\n",
    "train_freq = {}\n",
    "train_freq_aug = {}\n",
    "\n",
    "for char in char_labels:\n",
    "    \n",
    "    var_freqs = np.bincount(char_labels[char].astype(int)).tolist()\n",
    "    n_cluster = (char_labels[char].max() + 1).astype(int)\n",
    "    \n",
    "    test_freq[char] = [int(max(1, min(test_nps / n_cluster, n / 4))) for n in var_freqs]\n",
    "    test_freq[char][0] += test_nps - sum(test_freq[char])\n",
    "    \n",
    "    train_freq[char] = [var_freqs[i] - test_freq[char][i] for i in range(n_cluster)]\n",
    "    \n",
    "    tmp = train_aug_nps / n_cluster\n",
    "    train_freq_aug[char] = [int(max(train_freq[char][i], tmp * (1 - 0.1 * i))) for i in range(n_cluster)]"
   ]
  },
  {
   "cell_type": "code",
   "execution_count": 21,
   "id": "062a964e",
   "metadata": {},
   "outputs": [
    {
     "data": {
      "image/png": "[encoded data removed]",
      "text/plain": [
       "<Figure size 936x288 with 2 Axes>"
      ]
     },
     "metadata": {
      "needs_background": "light"
     },
     "output_type": "display_data"
    }
   ],
   "source": [
    "plt.figure(figsize=(13, 4))\n",
    "\n",
    "ax = plt.subplot(1, 2, 1)\n",
    "_ = plt.title('Augmented train data')\n",
    "plot_variant_freq(train_freq_aug, True, 3)\n",
    "\n",
    "ax = plt.subplot(1, 2, 2)\n",
    "plot_variant_freq(test_freq, True, 0.3)\n",
    "_ = plt.title('Test data')"
   ]
  },
  {
   "cell_type": "code",
   "execution_count": 229,
   "id": "a09391a0",
   "metadata": {},
   "outputs": [
    {
     "name": "stdout",
     "output_type": "stream",
     "text": [
      "\n",
      "        Target dataset size\n",
      "        ==========================\n",
      "        Test              - 2000\n",
      "        Train (initial)   - 8035\n",
      "        Train (augmented) - 15929\n",
      "    \n"
     ]
    }
   ],
   "source": [
    "get_total_freq = lambda freqs: sum([sum(x) for x in freqs.values()])\n",
    "\n",
    "print(\n",
    "    \"\"\"\n",
    "        Target dataset size\n",
    "        ==========================\n",
    "        Test              - {}\n",
    "        Train (initial)   - {}\n",
    "        Train (augmented) - {}\n",
    "    \"\"\".format(\n",
    "        get_total_freq(test_freq),\n",
    "        get_total_freq(train_freq),\n",
    "        get_total_freq(train_freq_aug),\n",
    "    )\n",
    ")"
   ]
  },
  {
   "cell_type": "markdown",
   "id": "3ae05683",
   "metadata": {},
   "source": [
    "### Generate dataset"
   ]
  },
  {
   "cell_type": "code",
   "execution_count": 230,
   "id": "c0d330c4",
   "metadata": {},
   "outputs": [],
   "source": [
    "def generate_augmented(source_imgs, n):\n",
    "    if n <= 0:\n",
    "        return []\n",
    "    source_imgs = source_imgs.copy()\n",
    "    random.shuffle(source_imgs)\n",
    "    idxs = [i % len(source_imgs) for i in range(n)]\n",
    "    return [augment_image(source_imgs[i]) for i in idxs]\n",
    "\n",
    "\n",
    "def split_data(data, n):\n",
    "    data = data.copy()\n",
    "    random.shuffle(data)\n",
    "    return data[:n], data[n:]\n",
    "\n",
    "\n",
    "def write_data(data, data_dir):\n",
    "    os.mkdir(data_dir)\n",
    "    for char in data.keys():\n",
    "        char_path = os.path.join(data_dir, char)\n",
    "        os.mkdir(char_path)  \n",
    "        for i, img in enumerate(data[char]):\n",
    "            fpath = os.path.join(data_dir, char, '{}.png'.format(i))\n",
    "            cv2.imwrite(fpath, img)"
   ]
  },
  {
   "cell_type": "code",
   "execution_count": 231,
   "id": "078a5dbf",
   "metadata": {},
   "outputs": [
    {
     "data": {
      "application/vnd.jupyter.widget-view+json": {
       "model_id": "2ffbb9801f844804bcf70eb50255ff39",
       "version_major": 2,
       "version_minor": 0
      },
      "text/plain": [
       "  0%|          | 0/100 [00:00<?, ?it/s]"
      ]
     },
     "metadata": {},
     "output_type": "display_data"
    }
   ],
   "source": [
    "train_data = {}\n",
    "val_data = {}\n",
    "test_data = {}\n",
    "\n",
    "for char in tqdm(images):\n",
    "    \n",
    "    train_data[char] = []\n",
    "    val_data[char] = []\n",
    "    test_data[char] = []\n",
    "    \n",
    "    for i in range(len(test_freq[char])):\n",
    "        \n",
    "        idxs = np.where(char_labels[char] == i)[0]\n",
    "        variants = [images[char][i] for i in idxs]\n",
    "        \n",
    "        vars_val, variants = split_data(variants, test_freq[char][i])\n",
    "        vars_test, variants = split_data(variants, test_freq[char][i])\n",
    "        vars_train = variants + generate_augmented(variants, train_freq_aug[char][i] - len(variants))\n",
    "        \n",
    "\n",
    "        train_data[char] += vars_train\n",
    "        val_data[char] += vars_val\n",
    "        test_data[char] += vars_test\n",
    "        "
   ]
  },
  {
   "cell_type": "code",
   "execution_count": 233,
   "id": "1326641f",
   "metadata": {},
   "outputs": [],
   "source": [
    "write_data(train_data, '../../data/cccr/train')\n",
    "write_data(val_data, '../../data/cccr/validation')\n",
    "write_data(test_data, '../../data/cccr/test')"
   ]
  },
  {
   "cell_type": "code",
   "execution_count": null,
   "id": "f416aeb0",
   "metadata": {},
   "outputs": [],
   "source": []
  }
 ],
 "metadata": {
  "kernelspec": {
   "display_name": "Python 3",
   "language": "python",
   "name": "python3"
  },
  "language_info": {
   "codemirror_mode": {
    "name": "ipython",
    "version": 3
   },
   "file_extension": ".py",
   "mimetype": "text/x-python",
   "name": "python",
   "nbconvert_exporter": "python",
   "pygments_lexer": "ipython3",
   "version": "3.9.5"
  }
 },
 "nbformat": 4,
 "nbformat_minor": 5
}
